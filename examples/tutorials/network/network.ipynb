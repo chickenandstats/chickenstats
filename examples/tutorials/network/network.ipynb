{
 "cells": [
  {
   "cell_type": "markdown",
   "id": "cebed15adf5c1a1",
   "metadata": {},
   "source": [
    "---\n",
    "icon: material/graph\n",
    "description: \"Analyze line combinations with network graphs\"\n",
    "---\n"
   ]
  },
  {
   "cell_type": "markdown",
   "id": "048b43a5-d214-4f5d-b689-3c5cf1e1c280",
   "metadata": {},
   "source": [
    "# **Network charts tutorial**"
   ]
  },
  {
   "cell_type": "markdown",
   "id": "41ca344b-0124-4bb5-90a4-d1ac737071b1",
   "metadata": {},
   "source": [
    "---"
   ]
  },
  {
   "cell_type": "markdown",
   "id": "6cc1248b8b273642",
   "metadata": {},
   "source": [
    "## **Intro**\n",
    "\n",
    "Use the `chickenstats` library to scrape play-by-play data, aggregate statistics, \n",
    "and generate network graphs for forward line combinations\n",
    "\n",
    "Parts of this tutorial are optional and will be clearly marked as such. For help, or any questions,\n",
    "please don't hesitate to reach out to [chicken@chickenandstats.com](mailto:chicken@chickenandstats.com) or\n",
    "[@chickenandstats.com](https://bsky.app/profile/chickenandstats.com) on Blue Sky."
   ]
  },
  {
   "cell_type": "markdown",
   "id": "ad58e17bffc1a3f5",
   "metadata": {},
   "source": [
    "---"
   ]
  },
  {
   "cell_type": "markdown",
   "id": "f3a162d9-6acf-4ecc-a0dd-8111a7afb6bf",
   "metadata": {},
   "source": [
    "## **Housekeeping**"
   ]
  },
  {
   "cell_type": "markdown",
   "id": "73c2df1a-b67e-4174-8d2a-cea5f2214532",
   "metadata": {},
   "source": [
    "### Import dependencies\n",
    "\n",
    "Import the dependencies we'll need for the guide"
   ]
  },
  {
   "cell_type": "code",
   "execution_count": null,
   "id": "c77ebdbf-ee65-4068-a169-a6899231bfcd",
   "metadata": {},
   "outputs": [],
   "source": [
    "import networkx\n",
    "import pandas as pd\n",
    "import numpy as np\n",
    "\n",
    "import seaborn as sns\n",
    "\n",
    "import matplotlib.pyplot as plt\n",
    "\n",
    "from chickenstats.chicken_nhl import Season, Scraper\n",
    "from chickenstats.chicken_nhl.info import NHL_COLORS\n",
    "import chickenstats.utilities  # This imports the chickenstats matplotlib style below\n",
    "\n",
    "from pathlib import Path\n",
    "\n",
    "import datetime as dt\n",
    "\n",
    "import networkx as nx"
   ]
  },
  {
   "cell_type": "markdown",
   "id": "c0e0cd81-e912-4f4f-b497-d77a19c04762",
   "metadata": {},
   "source": [
    "### Pandas options\n",
    "\n",
    "Sets different pandas options. This cell is optional"
   ]
  },
  {
   "cell_type": "code",
   "execution_count": null,
   "id": "402d7753-c651-4b53-98b0-e471145553a5",
   "metadata": {},
   "outputs": [],
   "source": [
    "pd.set_option(\"display.max_columns\", None)\n",
    "pd.set_option(\"display.max_rows\", 100)"
   ]
  },
  {
   "cell_type": "markdown",
   "id": "fb26a366-ab2a-4f70-907a-15b71cadb07a",
   "metadata": {},
   "source": [
    "### Chickenstats matplotlib style\n",
    "\n",
    "chickenstats.utilities includes a custom style package - this activates it. This cell is also optional"
   ]
  },
  {
   "cell_type": "code",
   "execution_count": null,
   "id": "a2650a25-856c-4335-a39e-8b57fb3582dc",
   "metadata": {},
   "outputs": [],
   "source": [
    "plt.style.use(\"chickenstats\")"
   ]
  },
  {
   "cell_type": "markdown",
   "id": "e9a719d06b820f9c",
   "metadata": {},
   "source": [
    "---"
   ]
  },
  {
   "cell_type": "markdown",
   "id": "a3e8f653-d9df-4644-8425-94dfe18de0f6",
   "metadata": {},
   "source": [
    "## **Scrape data**"
   ]
  },
  {
   "cell_type": "markdown",
   "id": "62863e53-883b-4dd2-9d67-0415c0d18242",
   "metadata": {},
   "source": [
    "### Schedule, standings, and team names\n",
    "\n",
    "Scrape the schedule and standings using the `Season` object. Then, create some name dictionaries for convenience later"
   ]
  },
  {
   "cell_type": "code",
   "execution_count": null,
   "id": "0ac1b208-f0ec-473e-9e33-8cbcb21a9d69",
   "metadata": {},
   "outputs": [],
   "source": [
    "season = Season(2024)"
   ]
  },
  {
   "cell_type": "code",
   "execution_count": null,
   "id": "166f71f6-a3ec-4492-9498-4845cd2bd6d7",
   "metadata": {},
   "outputs": [],
   "source": [
    "schedule = season.schedule(\n",
    "    disable_progress_bar=True\n",
    ")  # Progress bar renders poorly in ipynb to md conversions"
   ]
  },
  {
   "cell_type": "code",
   "execution_count": null,
   "id": "3bcb5568-c926-49de-b374-a6ec3b7aeae3",
   "metadata": {},
   "outputs": [],
   "source": [
    "standings = season.standings  # Standings as a dataframe for the team name dictionaries"
   ]
  },
  {
   "cell_type": "code",
   "execution_count": null,
   "id": "125f7d0140284d5a",
   "metadata": {},
   "outputs": [],
   "source": [
    "team_names = standings.sort_values(by=\"team_name\").team_name.str.upper().tolist()\n",
    "team_codes = standings.sort_values(by=\"team_name\").team.str.upper().tolist()\n",
    "team_names_dict = dict(zip(team_codes, team_names))  # These are helpful for later"
   ]
  },
  {
   "cell_type": "markdown",
   "id": "bc5e4bdaf04373a4",
   "metadata": {},
   "source": [
    "### Game IDs\n",
    "\n",
    "Select the team and games to plot. The default are all of the most recent season's games \n",
    "for the Nashville Predators :). Feel free to change for your chosen team code "
   ]
  },
  {
   "cell_type": "code",
   "execution_count": null,
   "id": "1b712dfb-9038-4591-9057-be0b2efd63d2",
   "metadata": {},
   "outputs": [],
   "source": [
    "team = \"NSH\""
   ]
  },
  {
   "cell_type": "code",
   "execution_count": null,
   "id": "20dc48611b75729c",
   "metadata": {},
   "outputs": [],
   "source": [
    "game_ids = schedule.loc[\n",
    "    np.logical_and(\n",
    "        np.logical_or(schedule.home_team == team, schedule.away_team == team),\n",
    "        schedule.game_state == \"OFF\",\n",
    "    )\n",
    "].game_id.tolist()"
   ]
  },
  {
   "cell_type": "markdown",
   "id": "f86efbf8-9d71-4ad2-aafb-443d01c69132",
   "metadata": {},
   "source": [
    "### Play-by-play\n",
    "\n",
    "Scrape the play-by-play data for the chosen game ID. First instantiate the `Scraper` object,\n",
    "then call the play_by_play attribute"
   ]
  },
  {
   "cell_type": "code",
   "execution_count": null,
   "id": "4f661f4f-4d37-4c9f-9b71-5c22bbee864c",
   "metadata": {},
   "outputs": [],
   "source": [
    "scraper = Scraper(game_ids, disable_progress_bar=True)"
   ]
  },
  {
   "cell_type": "code",
   "execution_count": null,
   "id": "8b771fe6-0355-4d27-ac00-07eca6bd789f",
   "metadata": {},
   "outputs": [],
   "source": [
    "pbp = scraper.play_by_play.copy(deep=True)"
   ]
  },
  {
   "cell_type": "markdown",
   "id": "b3a01957ff466ad8",
   "metadata": {},
   "source": [
    "### Stats\n",
    "\n",
    "Aggregate individual statistics after scraping the play-by-play data"
   ]
  },
  {
   "cell_type": "code",
   "execution_count": null,
   "id": "5a7657f4-5c01-4b70-835f-474dc340eaa6",
   "metadata": {},
   "outputs": [],
   "source": [
    "scraper.prep_stats(level=\"season\", teammates=True, disable_progress_bar=True)"
   ]
  },
  {
   "cell_type": "code",
   "execution_count": null,
   "id": "a2726f14-0b39-48c9-9f44-9ae8b363b189",
   "metadata": {},
   "outputs": [],
   "source": [
    "stats = scraper.stats.copy(deep=True)"
   ]
  },
  {
   "cell_type": "markdown",
   "id": "3db633cabe7c0c2e",
   "metadata": {},
   "source": [
    "---"
   ]
  },
  {
   "cell_type": "markdown",
   "id": "d19687da74045fed",
   "metadata": {},
   "source": [
    "## **Plotting network data**"
   ]
  },
  {
   "cell_type": "markdown",
   "id": "a50ed84c2c0ccb4c",
   "metadata": {},
   "source": [
    "### Helper functions\n",
    "\n",
    "Create and draw the network graphs in a convenient plotting function"
   ]
  },
  {
   "cell_type": "code",
   "execution_count": null,
   "id": "d2dea47e-4574-4641-9b6d-10f2e04e90b8",
   "metadata": {},
   "outputs": [],
   "source": [
    "def create_network_graph(data: pd.DataFrame, team: str, strengths: list) -> nx.Graph:\n",
    "    \"\"\"Creates a network for a given team and strength state, with time-on-ice as the weight.\n",
    "\n",
    "    Parameters:\n",
    "        data (pd.DataFrame):\n",
    "            Pandas dataframe of individual statistics, aggregated from play-by-play\n",
    "            data scraped with chickenstats package\n",
    "        team (str):\n",
    "            Three-letter team code which determines the coloring used for the chart\n",
    "        strengths (list):\n",
    "            List of strength states to aggregate for data\n",
    "    \"\"\"\n",
    "    conds = np.logical_and.reduce(\n",
    "        [\n",
    "            data.team == team,\n",
    "            data.strength_state.isin(strengths),\n",
    "            data.position.isin(\n",
    "                [\"C\", \"L\", \"R\", \"L/R\", \"L/C\", \"R/L\", \"R/C\", \"C/L\", \"C/R\"]\n",
    "            ),\n",
    "        ]\n",
    "    )\n",
    "\n",
    "    df = data.loc[conds].reset_index(drop=True)\n",
    "\n",
    "    players = df.player.sort_values().unique().tolist()\n",
    "\n",
    "    concat_list = [df.player.copy(deep=True)]\n",
    "\n",
    "    for player in players:\n",
    "        conds = [\n",
    "            df.player == player,\n",
    "            np.logical_and(\n",
    "                df.player != player,\n",
    "                np.logical_or(\n",
    "                    df.forwards.str.contains(player), df.defense.str.contains(player)\n",
    "                ),\n",
    "            ),\n",
    "        ]\n",
    "\n",
    "        values = [np.nan, df.toi]\n",
    "\n",
    "        player_series = pd.Series(np.select(conds, values, 0), name=player)\n",
    "\n",
    "        concat_list.append(player_series)\n",
    "\n",
    "    df = pd.concat(concat_list, axis=1).groupby(\"player\", as_index=False).sum()\n",
    "\n",
    "    df = df.set_index(\"player\", drop=True)\n",
    "\n",
    "    df = (df - df.min().min()) / (df.max().max() - df.min().min()) * 75\n",
    "\n",
    "    df = df.reset_index()\n",
    "\n",
    "    df = df.melt(\n",
    "        id_vars=[\"player\"],\n",
    "        value_vars=[x for x in df.columns if x != \"player\"],\n",
    "        var_name=\"target\",\n",
    "        value_name=\"weight\",\n",
    "    ).rename(columns={\"player\": \"source\"})\n",
    "\n",
    "    network_graph = nx.from_pandas_edgelist(df, edge_attr=True)\n",
    "\n",
    "    return network_graph"
   ]
  },
  {
   "cell_type": "code",
   "execution_count": null,
   "id": "dbb7d6c1-94dd-45a9-a48b-078dc951bec6",
   "metadata": {},
   "outputs": [],
   "source": [
    "# Helper function to draw any graph\n",
    "def draw_graph(\n",
    "    g: nx.Graph, team: str, edge_options: dict, edge_labels: dict | None = None\n",
    ") -> plt.Figure:\n",
    "    \"\"\"Draws the graph G with the specified node and edge options.\n",
    "\n",
    "    Parameters:\n",
    "        g (networkx.Graph):\n",
    "            The graph to be drawn.\n",
    "        team (str):\n",
    "            Team code for colors.\n",
    "        edge_options (dict):\n",
    "            Options for drawing edges.\n",
    "        edge_labels (dict, optional):\n",
    "            Labels for the edges. Defaults to None.\n",
    "    \"\"\"\n",
    "    fig, ax = plt.subplots(dpi=650, figsize=(8, 5))\n",
    "\n",
    "    # Global color properties\n",
    "    graph_color = \"#4986e8\"\n",
    "    label_color = \"#ffffff\"\n",
    "    node_options = {\n",
    "        \"node_color\": NHL_COLORS[team][\"GOAL\"],\n",
    "        \"node_size\": 1000,\n",
    "        \"edgecolors\": NHL_COLORS[team][\"SHOT\"],\n",
    "        \"linewidths\": 2,\n",
    "    }\n",
    "\n",
    "    # Define the layout of the graph\n",
    "    pos = nx.spring_layout(g, iterations=10, seed=20000)\n",
    "\n",
    "    # Draw the nodes with the specified options\n",
    "    nx.draw_networkx_nodes(g, pos, **node_options)\n",
    "\n",
    "    # Draw the node labels with specified font properties\n",
    "    nx.draw_networkx_labels(\n",
    "        g,\n",
    "        pos,\n",
    "        font_size=8,\n",
    "        font_color=NHL_COLORS[team][\"SHOT\"],\n",
    "        font_weight=\"bold\",\n",
    "        bbox={\"alpha\": 0.5, \"color\": \"white\"},\n",
    "    )\n",
    "\n",
    "    # Draw the edges with the specified options\n",
    "    nx.draw_networkx_edges(g, pos, **edge_options)\n",
    "\n",
    "    # Draw edge labels if they are provided\n",
    "    if edge_labels:\n",
    "        nx.draw_networkx_edge_labels(\n",
    "            g,\n",
    "            pos,\n",
    "            edge_labels=edge_labels,\n",
    "            connectionstyle=\"arc3, rad=0.3\",\n",
    "            font_size=12,\n",
    "            font_color=NHL_COLORS[team][\"MISS\"],\n",
    "            bbox={\"alpha\": 0.5, \"color\": \"white\"},\n",
    "        )\n",
    "\n",
    "    sns.despine(left=True, bottom=True)\n",
    "\n",
    "    return fig"
   ]
  },
  {
   "cell_type": "code",
   "execution_count": null,
   "id": "94dd94344713316b",
   "metadata": {},
   "outputs": [],
   "source": [
    "def plot_network(stats: pd.DataFrame, team: str, strengths: list, edge_labels=None):\n",
    "    \"\"\"This function plots and saves the actual matplotlib figures.\n",
    "\n",
    "    Parameters:\n",
    "        stats (pd.DataFrame):\n",
    "            Pandas dataframe of individual statistics, aggregated from play-by-play\n",
    "            data scraped with chickenstats package\n",
    "        team (str):\n",
    "            Three-letter team code which determines the coloring used for the chart\n",
    "        strengths (list):\n",
    "            List of strength states to plot and pass to the network graph function\n",
    "        edge_labels (dict, optional):\n",
    "            Labels for the edges\n",
    "    \"\"\"\n",
    "    g = create_network_graph(data=stats, team=team, strengths=strengths)\n",
    "\n",
    "    weights = nx.get_edge_attributes(g, \"weight\")\n",
    "\n",
    "    edge_options = {\n",
    "        \"edge_color\": NHL_COLORS[team][\"SHOT\"],\n",
    "        #'width': 2.5,\n",
    "        \"alpha\": 0.7,\n",
    "        \"width\": [weights[edge] / 10 for edge in g.edges()],\n",
    "    }\n",
    "\n",
    "    fig = draw_graph(g=g, edge_options=edge_options, team=team, edge_labels=edge_labels)\n",
    "\n",
    "    fig_suptitle = f\"{team_names_dict[team].title()} forward line combinations at 5v5\"\n",
    "    fig.suptitle(\n",
    "        fig_suptitle,\n",
    "        x=0.01,\n",
    "        y=1.08,\n",
    "        fontsize=11,\n",
    "        fontweight=\"bold\",\n",
    "        horizontalalignment=\"left\",\n",
    "    )\n",
    "\n",
    "    todays_date = dt.datetime.now().strftime(\"%Y-%m-%d\")\n",
    "    subtitle = f\"Width of connecting line indicates time-on-ice | 2024-25 season, as of {todays_date}\"\n",
    "    fig.text(s=subtitle, x=0.01, y=1.02, fontsize=10, horizontalalignment=\"left\")\n",
    "\n",
    "    # Attribution\n",
    "    attribution = f\"Data & xG model @chickenandstats.com | Viz @chickenandstats.com\"\n",
    "    fig.text(\n",
    "        s=attribution,\n",
    "        x=0.99,\n",
    "        y=-0.05,\n",
    "        fontsize=8,\n",
    "        horizontalalignment=\"right\",\n",
    "        style=\"italic\",\n",
    "    )\n",
    "\n",
    "    # Save figure\n",
    "    savepath = Path(f\"./charts/{team}_forwards_network.png\")\n",
    "    fig.savefig(savepath, transparent=False, bbox_inches=\"tight\")"
   ]
  },
  {
   "cell_type": "markdown",
   "id": "8d2414196e0a28ff",
   "metadata": {},
   "source": [
    "---"
   ]
  },
  {
   "cell_type": "markdown",
   "id": "d1208821c21e3915",
   "metadata": {},
   "source": [
    "## **Plotting the data**"
   ]
  },
  {
   "cell_type": "markdown",
   "id": "71b368189c6d28bf",
   "metadata": {},
   "source": [
    "### NSH network chart\n",
    "\n",
    "Plot the network chart with the cell below"
   ]
  },
  {
   "cell_type": "code",
   "execution_count": null,
   "id": "a6d35eac-cbde-4c36-95e4-3cdba51b31b5",
   "metadata": {},
   "outputs": [],
   "source": [
    "plot_network(stats=stats, team=team, strengths=[\"5v5\"])"
   ]
  }
 ],
 "metadata": {
  "kernelspec": {
   "display_name": "Python 3 (ipykernel)",
   "language": "python",
   "name": "python3"
  },
  "language_info": {
   "codemirror_mode": {
    "name": "ipython",
    "version": 3
   },
   "file_extension": ".py",
   "mimetype": "text/x-python",
   "name": "python",
   "nbconvert_exporter": "python",
   "pygments_lexer": "ipython3",
   "version": "3.12.6"
  }
 },
 "nbformat": 4,
 "nbformat_minor": 5
}
