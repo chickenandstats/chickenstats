{
 "cells": [
  {
   "cell_type": "markdown",
   "id": "c0100bc0-d988-41fe-a0fb-e44eb67b87a9",
   "metadata": {},
   "source": [
    "---\n",
    "icon: fontawesome/solid/map-location\n",
    "description: \"Learn how to plot shot maps with chickenstats and hockey-rink\"\n",
    "---"
   ]
  },
  {
   "cell_type": "markdown",
   "id": "bb7723b7-aa9d-4b43-9616-64b8d6a20f50",
   "metadata": {},
   "source": [
    "# **Tutorial for plotting data using the hockey-rink library**"
   ]
  },
  {
   "cell_type": "markdown",
   "id": "6dea1598-1a62-4ff1-8089-c9e0c0a29f80",
   "metadata": {},
   "source": [
    "---"
   ]
  },
  {
   "cell_type": "markdown",
   "id": "c5309ca5-fb36-4939-ae4b-a49d4eaf459a",
   "metadata": {},
   "source": [
    "## **Intro**\n",
    "\n",
    "Use the `chickenstats` library to scrape play-by-play data and plot shot events using the hockey-rink library.\n",
    "\n",
    "Parts of this tutorial are optional and will be clearly marked as such. For help, or any questions,\n",
    "please don't hesitate to reach out to [chicken@chickenandstats.com](mailto:chicken@chickenandstats.com) or\n",
    "[@chickenandstats.com](https://bsky.app/profile/chickenandstats.com) on Blue Sky."
   ]
  },
  {
   "cell_type": "markdown",
   "id": "10b86d34-d4b1-4fd7-a12c-35371d36a723",
   "metadata": {},
   "source": [
    "---"
   ]
  },
  {
   "cell_type": "markdown",
   "id": "ed4cad37-4d91-4f59-ba95-8271b5313d8c",
   "metadata": {},
   "source": [
    "## **Housekeeping**"
   ]
  },
  {
   "cell_type": "markdown",
   "id": "66b35c5e-12a8-44bc-a649-0cd70f1c1bda",
   "metadata": {},
   "source": [
    "### Import dependencies\n",
    "\n",
    "Import the dependencies we'll need for the guide"
   ]
  },
  {
   "cell_type": "code",
   "execution_count": null,
   "id": "3a8cf30b-771d-4609-8463-b033fc5f6e04",
   "metadata": {},
   "outputs": [],
   "source": [
    "import pandas as pd\n",
    "import numpy as np\n",
    "\n",
    "from chickenstats.chicken_nhl import Season, Scraper\n",
    "from chickenstats.chicken_nhl.info import NHL_COLORS\n",
    "from chickenstats.chicken_nhl.helpers import norm_coords\n",
    "import chickenstats.utilities\n",
    "\n",
    "from hockey_rink import NHLRink\n",
    "import matplotlib.pyplot as plt\n",
    "import seaborn as sns\n",
    "\n",
    "from pathlib import Path"
   ]
  },
  {
   "cell_type": "markdown",
   "id": "cc05d3d0-f896-4612-82c5-3e03edf4fb3a",
   "metadata": {},
   "source": [
    "### Pandas options\n",
    "\n",
    "Sets different pandas options. This cell is optional"
   ]
  },
  {
   "cell_type": "code",
   "execution_count": null,
   "id": "32bec64e-a189-4cf7-9f3d-5e432f3aa540",
   "metadata": {},
   "outputs": [],
   "source": [
    "pd.set_option(\"display.max_columns\", None)\n",
    "pd.set_option(\"display.max_rows\", 100)"
   ]
  },
  {
   "cell_type": "markdown",
   "id": "c851ce8d-25d9-4179-9731-b72b3d90748c",
   "metadata": {},
   "source": [
    "### Chickenstats matplotlib style\n",
    "\n",
    "chickenstats.utilities includes a custom style package - this activates it. This cell is also optional"
   ]
  },
  {
   "cell_type": "code",
   "execution_count": null,
   "id": "0788e809-5cbe-495a-ab58-3c70741052a9",
   "metadata": {},
   "outputs": [],
   "source": [
    "plt.style.use(\"chickenstats\")"
   ]
  },
  {
   "cell_type": "markdown",
   "id": "ba734239-411f-41bd-a3a6-09905c462e07",
   "metadata": {},
   "source": [
    "---"
   ]
  },
  {
   "cell_type": "markdown",
   "id": "f5ac0782-5846-459d-8e51-0fbf4e51a076",
   "metadata": {},
   "source": [
    "## **Scrape data**"
   ]
  },
  {
   "cell_type": "markdown",
   "id": "6635cb8b-e9d3-499f-9c76-a2a682fe0490",
   "metadata": {},
   "source": [
    "### Schedule and game IDs\n",
    "\n",
    "Scrape the schedule and standings using the `Season` object. Then, create a list of game IDs to scrape"
   ]
  },
  {
   "cell_type": "code",
   "execution_count": null,
   "id": "f9f617c2-c771-4fc8-91af-316b9cec7824",
   "metadata": {},
   "outputs": [],
   "source": [
    "season = Season(2024)"
   ]
  },
  {
   "cell_type": "code",
   "execution_count": null,
   "id": "6370fded-b161-4f9e-a99b-e8f9c7cd20de",
   "metadata": {},
   "outputs": [],
   "source": [
    "schedule = season.schedule(disable_progress_bar=True)"
   ]
  },
  {
   "cell_type": "code",
   "execution_count": null,
   "id": "54ec7193-3978-4072-b777-d84b7214b246",
   "metadata": {},
   "outputs": [],
   "source": [
    "standings = season.standings.copy(deep=True)"
   ]
  },
  {
   "cell_type": "code",
   "execution_count": null,
   "id": "0a270cc0-af15-4a10-9740-16613d9bf72c",
   "metadata": {},
   "outputs": [],
   "source": [
    "game_ids = schedule.loc[schedule.game_state == \"OFF\"].game_id.tolist()"
   ]
  },
  {
   "cell_type": "markdown",
   "id": "d6123005-eff4-4e2a-96f2-36a0027abbcc",
   "metadata": {},
   "source": [
    "### Play-by-play\n",
    "\n",
    "Scrape the play-by-play data for the list of game IDs. First instantiate the `Scraper` object,\n",
    "then call the play_by_play attribute"
   ]
  },
  {
   "cell_type": "code",
   "execution_count": null,
   "id": "2f633de0-edc9-4568-a48b-750e02b89922",
   "metadata": {},
   "outputs": [],
   "source": [
    "scraper = Scraper(game_ids, disable_progress_bar=True)"
   ]
  },
  {
   "cell_type": "code",
   "execution_count": null,
   "id": "4a89bad9-081b-49ed-8fd3-f3ef6497c1a9",
   "metadata": {},
   "outputs": [],
   "source": [
    "pbp = scraper.play_by_play"
   ]
  },
  {
   "cell_type": "markdown",
   "id": "b6343e80-207a-4831-b51a-505b7196f2d7",
   "metadata": {},
   "source": [
    "### Stats\n",
    "\n",
    "Aggregate data using the `Scraper` object's built-in methods"
   ]
  },
  {
   "cell_type": "code",
   "execution_count": null,
   "id": "a434edf7-309f-4992-9f90-0e6ebd26d51d",
   "metadata": {},
   "outputs": [],
   "source": [
    "scraper.prep_stats(level=\"season\", disable_progress_bar=True)\n",
    "stats = scraper.stats.reset_index(drop=True)"
   ]
  },
  {
   "cell_type": "code",
   "execution_count": null,
   "id": "dfd76b1c-e4f5-490f-bcaf-0a1fc4333b5c",
   "metadata": {},
   "outputs": [],
   "source": [
    "scraper.prep_lines(level=\"season\", disable_progress_bar=True)\n",
    "lines = scraper.lines.reset_index(drop=True)"
   ]
  },
  {
   "cell_type": "code",
   "execution_count": null,
   "id": "00320d1d-8f93-480e-a3a6-620e7d18a998",
   "metadata": {},
   "outputs": [],
   "source": [
    "scraper.prep_team_stats(level=\"season\", disable_progress_bar=True)\n",
    "team_stats = scraper.team_stats.reset_index(drop=True)"
   ]
  },
  {
   "cell_type": "markdown",
   "id": "1694f1c0-7fa6-4063-8c36-5582b50894f0",
   "metadata": {},
   "source": [
    "---"
   ]
  },
  {
   "cell_type": "markdown",
   "id": "2d1771a6-fa3f-4711-aa1c-5f33609d3806",
   "metadata": {},
   "source": [
    "## **Scatter plots**"
   ]
  },
  {
   "cell_type": "markdown",
   "id": "7fc164bd-3c11-4df9-b9c6-d0dea9f48501",
   "metadata": {},
   "source": [
    "### Drawing the rink \n",
    "\n",
    "Drawing the rink with the NHLRink class from the hockey-rink library"
   ]
  },
  {
   "cell_type": "code",
   "execution_count": null,
   "id": "b7903e00-e4db-40d3-b8f7-0f2ec7fceadf",
   "metadata": {},
   "outputs": [],
   "source": [
    "rink = NHLRink(rotation=90)"
   ]
  },
  {
   "cell_type": "markdown",
   "id": "2a77dd1b-4ada-4e3a-ad67-29b016f4ee45",
   "metadata": {},
   "source": [
    "### Filter conditions\n",
    "\n",
    "Set the team, strength state, minimum TOI, and maximum number of lines to plot,\n",
    "then filter the data"
   ]
  },
  {
   "cell_type": "code",
   "execution_count": null,
   "id": "a792fe8c-1542-4a68-8bcf-c054e72d6480",
   "metadata": {},
   "outputs": [],
   "source": [
    "team = \"NSH\"\n",
    "strength_state = \"5v5\"\n",
    "toi_min = 12\n",
    "max_lines = 3\n",
    "\n",
    "conds = np.logical_and.reduce(\n",
    "    [lines.team == team, lines.strength_state == strength_state, lines.toi >= toi_min]\n",
    ")\n",
    "\n",
    "plot_lines = (\n",
    "    lines.loc[conds]\n",
    "    .sort_values(by=\"toi\", ascending=False)\n",
    "    .head(max_lines)\n",
    "    .reset_index(drop=True)\n",
    ")"
   ]
  },
  {
   "cell_type": "markdown",
   "id": "7c200f28-735c-4f94-b2f1-621202868d1e",
   "metadata": {},
   "source": [
    "### Top-N forward line combos\n",
    "\n",
    "Plot the top-N forward line combinations at the chosen strength state, from the prior cell"
   ]
  },
  {
   "cell_type": "code",
   "execution_count": null,
   "id": "e26312b9-4d9a-429a-a8c3-a34296436a4b",
   "metadata": {},
   "outputs": [],
   "source": [
    "# Setting overall figures\n",
    "fig, axes = plt.subplots(nrows=2, ncols=max_lines, dpi=650, figsize=(16, 8))\n",
    "\n",
    "fig.tight_layout(pad=1.5)\n",
    "\n",
    "axes = axes.reshape(-1)\n",
    "\n",
    "for row, line in plot_lines.iterrows():\n",
    "    ax = axes[row]\n",
    "\n",
    "    if row > 5:\n",
    "        ax_zone = \"dzone\"\n",
    "\n",
    "    else:\n",
    "        ax_zone = \"ozone\"\n",
    "\n",
    "    rink.draw(ax=ax, display_range=ax_zone)\n",
    "\n",
    "    shot_events = [\"MISS\", \"SHOT\", \"GOAL\"]\n",
    "\n",
    "    plot_conds = np.logical_and.reduce(\n",
    "        [\n",
    "            pbp.forwards == line.forwards,\n",
    "            pbp.forwards_api_id == line.forwards_api_id,\n",
    "            pbp.strength_state == strength_state,\n",
    "            pbp.event.isin(shot_events),\n",
    "        ]\n",
    "    )\n",
    "\n",
    "    plot_data = pbp.loc[plot_conds].reset_index(drop=True)\n",
    "\n",
    "    plot_data = norm_coords(\n",
    "        data=plot_data, norm_column=\"event_team\", norm_value=line.team\n",
    "    )\n",
    "\n",
    "    size_multiplier = 500\n",
    "\n",
    "    plot_data[\"pred_goal_size\"] = plot_data.pred_goal * size_multiplier\n",
    "\n",
    "    for shot_event in shot_events:\n",
    "        conds = np.logical_and(\n",
    "            plot_data.forwards_api_id == line.forwards_api_id,\n",
    "            plot_data.event == shot_event,\n",
    "        )\n",
    "\n",
    "        plot_data2 = plot_data.loc[conds]\n",
    "\n",
    "        if plot_data2.empty:\n",
    "            continue\n",
    "\n",
    "        colors = NHL_COLORS[plot_data2.iloc[0].event_team]\n",
    "\n",
    "        facecolor = colors[shot_event]\n",
    "\n",
    "        if shot_event == \"MISS\" or shot_event == \"SHOT\":\n",
    "            edgecolor = \"#FFFFFF\"\n",
    "\n",
    "        elif shot_event == \"GOAL\":\n",
    "            if facecolor == \"#FFFFFF\":\n",
    "                edgecolor = colors[\"SHOT\"]\n",
    "\n",
    "            else:\n",
    "                edgecolor = \"#FFFFFF\"\n",
    "\n",
    "        rink.plot_fn(\n",
    "            sns.scatterplot,\n",
    "            data=plot_data2,\n",
    "            x=\"norm_coords_x\",\n",
    "            y=\"norm_coords_y\",\n",
    "            color=facecolor,\n",
    "            edgecolor=edgecolor,\n",
    "            lw=0.75,\n",
    "            s=plot_data2.pred_goal_size,\n",
    "            # sizes=(0, size_multiplier),\n",
    "            size_norm=(0, size_multiplier),\n",
    "            zorder=100,\n",
    "            alpha=0.75,\n",
    "            ax=ax,\n",
    "        )\n",
    "\n",
    "    ax.set_title(\n",
    "        f\"{line.forwards}\", x=0.5, y=1.01, ha=\"center\", fontweight=\"bold\", fontsize=10\n",
    "    )\n",
    "\n",
    "\n",
    "for row, line in plot_lines.iterrows():\n",
    "    row = row + max_lines\n",
    "\n",
    "    ax = axes[row]\n",
    "\n",
    "    if row > max_lines - 1:\n",
    "        ax_zone = \"dzone\"\n",
    "\n",
    "    else:\n",
    "        ax_zone = \"ozone\"\n",
    "\n",
    "    rink.draw(ax=ax, display_range=ax_zone)\n",
    "\n",
    "    shot_events = [\"MISS\", \"SHOT\", \"GOAL\"]\n",
    "\n",
    "    plot_conds = np.logical_and.reduce(\n",
    "        [\n",
    "            pbp.opp_forwards == line.forwards,\n",
    "            pbp.opp_forwards_api_id == line.forwards_api_id,\n",
    "            pbp.strength_state == strength_state,\n",
    "            pbp.event.isin(shot_events),\n",
    "        ]\n",
    "    )\n",
    "\n",
    "    plot_data = pbp.loc[plot_conds].reset_index(drop=True)\n",
    "\n",
    "    plot_data = norm_coords(\n",
    "        data=plot_data, norm_column=\"event_team\", norm_value=line.team\n",
    "    )\n",
    "\n",
    "    size_multiplier = 500\n",
    "\n",
    "    plot_data[\"pred_goal_size\"] = plot_data.pred_goal * size_multiplier\n",
    "\n",
    "    for shot_event in shot_events:\n",
    "        conds = np.logical_and(\n",
    "            plot_data.opp_forwards_api_id == line.forwards_api_id,\n",
    "            plot_data.event == shot_event,\n",
    "        )\n",
    "\n",
    "        plot_data2 = plot_data.loc[conds]\n",
    "\n",
    "        if plot_data2.empty:\n",
    "            continue\n",
    "\n",
    "        colors = NHL_COLORS[plot_data2.iloc[0].opp_team]\n",
    "\n",
    "        facecolor = colors[shot_event]\n",
    "\n",
    "        if shot_event == \"MISS\" or shot_event == \"SHOT\":\n",
    "            edgecolor = \"#FFFFFF\"\n",
    "\n",
    "        elif shot_event == \"GOAL\":\n",
    "            if facecolor == \"#FFFFFF\":\n",
    "                edgecolor = colors[\"SHOT\"]\n",
    "\n",
    "            else:\n",
    "                edgecolor = \"#FFFFFF\"\n",
    "\n",
    "        rink.plot_fn(\n",
    "            sns.scatterplot,\n",
    "            data=plot_data2,\n",
    "            x=\"norm_coords_x\",\n",
    "            y=\"norm_coords_y\",\n",
    "            color=facecolor,\n",
    "            edgecolor=edgecolor,\n",
    "            lw=0.75,\n",
    "            s=plot_data2.pred_goal_size,\n",
    "            # sizes=(0, size_multiplier),\n",
    "            size_norm=(0, size_multiplier),\n",
    "            zorder=100,\n",
    "            alpha=0.75,\n",
    "            ax=ax,\n",
    "        )\n",
    "\n",
    "\n",
    "fig_title = \"Nashville forward lines aren't converting 5v5 scoring chances\"\n",
    "\n",
    "fig.suptitle(fig_title, x=0.5, y=1.1, fontweight=\"bold\", fontsize=14)\n",
    "\n",
    "subtitle = f\"NSH top-{max_lines} forward line combinations by 5v5 TOI | 5v5 unblocked shot attempts for & against, sized for xG\"\n",
    "fig.text(s=subtitle, x=0.5, y=1.05, fontsize=12, ha=\"center\")\n",
    "\n",
    "attribution = \"Data & xG model @chickenandstats | Viz @chickenandstats\"\n",
    "fig.text(s=attribution, x=0.95, y=-0.02, fontsize=12, ha=\"right\", style=\"italic\")\n",
    "\n",
    "savepath = Path(f\"./charts/{team}_5v5_lines.png\")\n",
    "fig.savefig(savepath, transparent=False, bbox_inches=\"tight\")"
   ]
  },
  {
   "cell_type": "markdown",
   "id": "d48d05b4-6165-4b2a-bbfb-1391aa75db45",
   "metadata": {},
   "source": [
    "---"
   ]
  },
  {
   "cell_type": "markdown",
   "id": "5a0cfee6-1abc-4621-8476-78cc969d7249",
   "metadata": {},
   "source": [
    "## **Contour plots**"
   ]
  },
  {
   "cell_type": "markdown",
   "id": "0ac4dd44-70a4-4b6d-acc2-d2f12ef0d67d",
   "metadata": {},
   "source": [
    "### Drawing the rink \n",
    "\n",
    "Drawing the rink with the NHLRink class from the hockey-rink library"
   ]
  },
  {
   "cell_type": "code",
   "execution_count": null,
   "id": "9761f507-2480-4541-a4b4-780da56652da",
   "metadata": {},
   "outputs": [],
   "source": [
    "rink = NHLRink(rotation=90)"
   ]
  },
  {
   "cell_type": "markdown",
   "id": "848b54d8-76b2-4a5f-8ca5-c6042ba7b10d",
   "metadata": {},
   "source": [
    "### Filter conditions\n",
    "\n",
    "Set the team, strength state, minimum TOI, and maximum number of players to plot,\n",
    "then filter the data"
   ]
  },
  {
   "cell_type": "code",
   "execution_count": null,
   "id": "15d7768d-46b0-4f4a-a240-8b9afe2db28d",
   "metadata": {},
   "outputs": [],
   "source": [
    "team = \"NSH\"\n",
    "strength_states = [\"5v4\", \"5v3\", \"4v3\"]\n",
    "positions = [\"L\", \"C\", \"R\", \"L/R\", \"C/R\", \"R/L\", \"R/C\"]\n",
    "toi_min = 5\n",
    "max_players = 6\n",
    "group_columns = [\"player\", \"api_id\", \"team\"]  # \"strength_state\"]\n",
    "\n",
    "\n",
    "conds = np.logical_and.reduce(\n",
    "    [\n",
    "        stats.team == team,\n",
    "        stats.strength_state.isin(strength_states),\n",
    "        stats.position.isin(positions),\n",
    "        stats.toi >= toi_min,\n",
    "    ]\n",
    ")\n",
    "\n",
    "plot_stats = (\n",
    "    stats.loc[conds]\n",
    "    .groupby(group_columns, as_index=False)\n",
    "    .agg({\"ixg\": \"sum\", \"g\": \"sum\", \"toi\": \"sum\"})\n",
    "    .sort_values(by=\"toi\", ascending=False)\n",
    "    .head(max_players)\n",
    "    .reset_index(drop=True)\n",
    ")"
   ]
  },
  {
   "cell_type": "markdown",
   "id": "a86c0230-8848-46ed-8514-61c6b1949126",
   "metadata": {},
   "source": [
    "### Top-N forward shooters\n",
    "\n",
    "Plot the top-N forwards' xG using the hockey-rink library and seaborn's kdeplot"
   ]
  },
  {
   "cell_type": "code",
   "execution_count": null,
   "id": "a4cb4028-4037-46a1-bf93-36ad6cbcb77e",
   "metadata": {},
   "outputs": [],
   "source": [
    "cmap = \"rocket_r\"\n",
    "weights = \"pred_goal\"\n",
    "\n",
    "fig, axes = plt.subplots(nrows=2, ncols=int(max_players / 2), dpi=650, figsize=(12, 8))\n",
    "\n",
    "fig.tight_layout(pad=1.5)\n",
    "\n",
    "axes = axes.reshape(-1)\n",
    "\n",
    "for row, player in plot_stats.iterrows():\n",
    "    ax = axes[row]\n",
    "\n",
    "    rink.draw(ax=ax, display_range=\"ozone\")\n",
    "\n",
    "    shot_events = [\"MISS\", \"SHOT\", \"GOAL\"]\n",
    "\n",
    "    plot_conds = np.logical_and.reduce(\n",
    "        [\n",
    "            pbp.player_1 == player.player,\n",
    "            pbp.player_1_api_id == player.api_id,\n",
    "            pbp.strength_state.isin(strength_states),\n",
    "            pbp.event.isin(shot_events),\n",
    "        ]\n",
    "    )\n",
    "\n",
    "    plot_data = pbp.loc[plot_conds].reset_index(drop=True)\n",
    "\n",
    "    plot_data = norm_coords(\n",
    "        data=plot_data, norm_column=\"player_1_api_id\", norm_value=player.api_id\n",
    "    )\n",
    "\n",
    "    rink.plot_fn(\n",
    "        sns.kdeplot,\n",
    "        data=plot_data,\n",
    "        x=\"norm_coords_x\",\n",
    "        y=\"norm_coords_y\",\n",
    "        cmap=cmap,\n",
    "        fill=True,\n",
    "        levels=12,\n",
    "        weights=plot_data[weights],\n",
    "        zorder=100,\n",
    "        alpha=0.75,\n",
    "        ax=ax,\n",
    "        legend=True,\n",
    "    )\n",
    "\n",
    "    rink.plot_fn(\n",
    "        sns.kdeplot,\n",
    "        data=plot_data,\n",
    "        x=\"norm_coords_x\",\n",
    "        y=\"norm_coords_y\",\n",
    "        cmap=cmap,\n",
    "        fill=False,\n",
    "        levels=12,\n",
    "        linewidths=2,\n",
    "        weights=plot_data[weights],\n",
    "        zorder=110,\n",
    "        alpha=1,\n",
    "        ax=ax,\n",
    "    )\n",
    "\n",
    "    ax.set_title(\n",
    "        f\"{player.player}\", x=0.5, y=1.01, ha=\"center\", fontweight=\"bold\", fontsize=10\n",
    "    )\n",
    "\n",
    "\n",
    "save_path = Path(f\"./charts/{team}_top_{max_players}_pp.png\")\n",
    "\n",
    "fig.savefig(save_path, transparent=False, bbox_inches=\"tight\")"
   ]
  }
 ],
 "metadata": {
  "kernelspec": {
   "display_name": "Python 3 (ipykernel)",
   "language": "python",
   "name": "python3"
  },
  "language_info": {
   "codemirror_mode": {
    "name": "ipython",
    "version": 3
   },
   "file_extension": ".py",
   "mimetype": "text/x-python",
   "name": "python",
   "nbconvert_exporter": "python",
   "pygments_lexer": "ipython3",
   "version": "3.12.6"
  }
 },
 "nbformat": 4,
 "nbformat_minor": 5
}
