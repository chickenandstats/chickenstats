{
 "cells": [
  {
   "cell_type": "markdown",
   "id": "12b1e77d-1768-4b05-88d7-e72304026f9f",
   "metadata": {},
   "source": [
    "# Live games"
   ]
  },
  {
   "cell_type": "markdown",
   "id": "ed14a1a7-513e-4b6f-a212-9fd51b59f67a",
   "metadata": {},
   "source": [
    "## Housekeeping"
   ]
  },
  {
   "cell_type": "markdown",
   "id": "b9399d12-0e08-4b7d-a7f8-4ac4937cec77",
   "metadata": {},
   "source": [
    "### import dependendencies"
   ]
  },
  {
   "cell_type": "code",
   "execution_count": null,
   "id": "1cce0839-3194-4848-b1ba-7501de68686c",
   "metadata": {},
   "outputs": [],
   "source": [
    "import pandas as pd\n",
    "import numpy as np\n",
    "\n",
    "from chickenstats.chicken_nhl import Season, Scraper\n",
    "from chickenstats.chicken_nhl.helpers import norm_coords\n",
    "from chickenstats.chicken_nhl.info import NHL_COLORS\n",
    "import chickenstats.utilities\n",
    "\n",
    "from hockey_rink import NHLRink\n",
    "import matplotlib.pyplot as plt\n",
    "import matplotlib as mpl\n",
    "import seaborn as sns\n",
    "\n",
    "from dotenv import load_dotenv\n",
    "from pathlib import Path\n",
    "\n",
    "import datetime as dt"
   ]
  },
  {
   "cell_type": "markdown",
   "id": "66327210-64f7-4ba5-901d-f77aa24f6f62",
   "metadata": {},
   "source": [
    "### Pandas options"
   ]
  },
  {
   "cell_type": "code",
   "execution_count": null,
   "id": "3e1f7523-ff1e-4aae-8618-4eb9515eed2b",
   "metadata": {},
   "outputs": [],
   "source": [
    "pd.set_option(\"display.max_columns\", None)\n",
    "pd.set_option(\"display.max_rows\", 100)"
   ]
  },
  {
   "cell_type": "markdown",
   "id": "48dc84df-4e55-4165-82e7-21957efedbd6",
   "metadata": {},
   "source": [
    "### Environment variables"
   ]
  },
  {
   "cell_type": "code",
   "execution_count": null,
   "id": "76bdd318-558f-4d0d-985d-39ca980be7e0",
   "metadata": {},
   "outputs": [],
   "source": [
    "env_path = Path(\"../.env\")\n",
    "load_dotenv(env_path)"
   ]
  },
  {
   "cell_type": "markdown",
   "id": "54fee74f-ea2a-49f2-9680-6f966fca9b85",
   "metadata": {},
   "source": [
    "### Chickenstats matplotlib style"
   ]
  },
  {
   "cell_type": "code",
   "execution_count": null,
   "id": "d57b601e-d166-4353-96c5-85051aba7ea9",
   "metadata": {},
   "outputs": [],
   "source": [
    "plt.style.use(\"chickenstats\")"
   ]
  },
  {
   "cell_type": "markdown",
   "id": "83966daa-d42c-4aff-b7e3-ec8caf3243e9",
   "metadata": {},
   "source": [
    "## Scrape data"
   ]
  },
  {
   "cell_type": "markdown",
   "id": "a27362b7-33da-4473-bdb0-49249a654b1b",
   "metadata": {},
   "source": [
    "### Schedule and game IDs"
   ]
  },
  {
   "cell_type": "code",
   "execution_count": null,
   "id": "32bbb685-8195-4a40-a78b-b29e757ee729",
   "metadata": {},
   "outputs": [],
   "source": [
    "season = Season(2024)"
   ]
  },
  {
   "cell_type": "code",
   "execution_count": null,
   "id": "b016ccff-9247-4c98-852f-8b04c080dcd3",
   "metadata": {},
   "outputs": [],
   "source": [
    "schedule = season.schedule()"
   ]
  },
  {
   "cell_type": "code",
   "execution_count": null,
   "id": "f0ad0990-8ddc-4711-9e1d-3e8b1ef30b1d",
   "metadata": {},
   "outputs": [],
   "source": [
    "team = \"NSH\"\n",
    "game_state = \"LIVE\"\n",
    "\n",
    "live_game_conds = np.logical_and(\n",
    "    np.logical_or(schedule.home_team == team, schedule.away_team == team),\n",
    "    np.logical_or(schedule.game_state == game_state, schedule.game_id == 2024020211),\n",
    ")\n",
    "\n",
    "live_game_id = schedule.loc[schedule.game_id == 2024020211].game_id.iloc[0]"
   ]
  },
  {
   "cell_type": "code",
   "execution_count": null,
   "id": "cb6d32e6-c025-4c4f-bf31-75f68be57803",
   "metadata": {},
   "outputs": [],
   "source": [
    "schedule"
   ]
  },
  {
   "cell_type": "markdown",
   "id": "af09a099-5794-43ec-8aa9-61dd8989d722",
   "metadata": {},
   "source": [
    "### Play-by-play"
   ]
  },
  {
   "cell_type": "code",
   "execution_count": null,
   "id": "6fd8f8f0-8ae1-4ab5-98d0-4aa5e20465a5",
   "metadata": {},
   "outputs": [],
   "source": [
    "scraper = Scraper(live_game_id)"
   ]
  },
  {
   "cell_type": "code",
   "execution_count": null,
   "id": "71afdf9e-e451-4074-a444-01e90a3290e0",
   "metadata": {},
   "outputs": [],
   "source": [
    "pbp = scraper.play_by_play"
   ]
  },
  {
   "cell_type": "code",
   "execution_count": null,
   "id": "ae4019ea-85c1-4083-a004-aa0c0a614432",
   "metadata": {},
   "outputs": [],
   "source": [
    "stats = scraper.stats.copy(deep=True)"
   ]
  },
  {
   "cell_type": "code",
   "execution_count": null,
   "id": "053ad68f-9d51-4914-886b-0dd24408cc91",
   "metadata": {},
   "outputs": [],
   "source": [
    "forwards = scraper.lines.copy(deep=True)"
   ]
  },
  {
   "cell_type": "code",
   "execution_count": null,
   "id": "8e7431ea-7c08-49f3-a578-40245433a06b",
   "metadata": {},
   "outputs": [],
   "source": [
    "scraper.prep_lines(position=\"d\")\n",
    "defense = scraper.lines.copy(deep=True)"
   ]
  },
  {
   "cell_type": "code",
   "execution_count": null,
   "id": "4df89961-6740-471f-84d3-62c1215b12bd",
   "metadata": {},
   "outputs": [],
   "source": [
    "conds = np.logical_and(defense.strength_state == \"5v5\", defense.team == \"NSH\")\n",
    "defense.loc[conds].sort_values(by=\"toi\", ascending=False).head(10)"
   ]
  },
  {
   "cell_type": "code",
   "execution_count": null,
   "id": "5058353d-8936-4720-836e-04e912183931",
   "metadata": {},
   "outputs": [],
   "source": [
    "conds = np.logical_and(forwards.strength_state == \"5v5\", forwards.team == \"NSH\")\n",
    "forwards.loc[conds].sort_values(by=\"xga_p60\", ascending=False).head(10)"
   ]
  },
  {
   "cell_type": "code",
   "execution_count": null,
   "id": "3ba4e31e-685c-4305-94f2-824de767b080",
   "metadata": {},
   "outputs": [],
   "source": [
    "lines = forwards.copy()"
   ]
  },
  {
   "cell_type": "code",
   "execution_count": null,
   "id": "745ec4b8-eeea-438a-9aa7-a189e969e7b4",
   "metadata": {},
   "outputs": [],
   "source": [
    "# Setting single team and other filter conditions\n",
    "team = \"NSH\"\n",
    "strength_state = \"5v5\"\n",
    "toi_min = 0.5\n",
    "\n",
    "# Setting filter conditions and filtering data\n",
    "conds = np.logical_and(lines.strength_state == strength_state, lines.toi >= toi_min)\n",
    "plot_lines = (\n",
    "    lines.loc[conds]\n",
    "    .sort_values(by=\"xgf_percent\", ascending=False)\n",
    "    .reset_index(drop=True)\n",
    ")\n",
    "\n",
    "# Setting overall figures\n",
    "fig, ax = plt.subplots(dpi=650, figsize=(8, 5))\n",
    "\n",
    "# Aesthetics, likes the tight tight layout and despining axes\n",
    "fig.tight_layout()\n",
    "sns.despine()\n",
    "\n",
    "# Getting the averages and drawing the average lines\n",
    "xga_mean = plot_lines.xga_p60.mean()\n",
    "xgf_mean = plot_lines.xgf_p60.mean()\n",
    "\n",
    "ax.axvline(x=xga_mean, zorder=-1, alpha=0.5)\n",
    "ax.axhline(y=xgf_mean, zorder=-1, alpha=0.5)\n",
    "\n",
    "# Setting the size norm so bubbles are consistent across figures\n",
    "size_norm = (plot_lines.toi.min(), plot_lines.toi.max())\n",
    "\n",
    "# Getting plot colors based on team\n",
    "colors = NHL_COLORS[team]\n",
    "\n",
    "# Filtering data and plotting the non-selected teams first\n",
    "conds = plot_lines.team != team\n",
    "plot_data = plot_lines.loc[conds]\n",
    "\n",
    "# They all get gray colors\n",
    "facecolor = colors[\"MISS\"]\n",
    "edgecolor = colors[\"MISS\"]\n",
    "\n",
    "# Plotting the non-selected teams' data\n",
    "sns.scatterplot(\n",
    "    data=plot_data,\n",
    "    x=\"xga_p60\",\n",
    "    y=\"xgf_p60\",\n",
    "    size=\"toi\",\n",
    "    sizes=(20, 150),\n",
    "    size_norm=size_norm,\n",
    "    lw=1.5,\n",
    "    facecolor=facecolor,\n",
    "    edgecolor=edgecolor,\n",
    "    alpha=0.5,\n",
    "    legend=True,\n",
    ")\n",
    "\n",
    "# Filtering the data and plotting the selected team\n",
    "conds = plot_lines.team == team\n",
    "plot_data = plot_lines.loc[conds]\n",
    "\n",
    "# Setting the colors\n",
    "facecolor = colors[\"GOAL\"]\n",
    "edgecolor = colors[\"SHOT\"]\n",
    "\n",
    "# Plotting the selected teams' data\n",
    "sns.scatterplot(\n",
    "    data=plot_data,\n",
    "    x=\"xga_p60\",\n",
    "    y=\"xgf_p60\",\n",
    "    size=\"toi\",\n",
    "    sizes=(20, 150),\n",
    "    lw=1.5,\n",
    "    facecolor=facecolor,\n",
    "    edgecolor=edgecolor,\n",
    "    alpha=0.8,\n",
    "    legend=False,\n",
    ")\n",
    "\n",
    "# Iterating through the dataframe to label the bubbles\n",
    "for row, line in plot_data.iterrows():\n",
    "    # Setting x and y positions that are slightly offset from the data they point to\n",
    "    x_position = line.xga_p60 + 0.25\n",
    "    y_position = line.xgf_p60 - 0.25\n",
    "\n",
    "    # Annotation options\n",
    "    arrow_props = {\"arrowstyle\": \"simple\", \"linewidth\": 0.25, \"color\": \"tab:gray\"}\n",
    "\n",
    "    # Plotting the annotation\n",
    "    ax.annotate(\n",
    "        text=f\"{line.forwards}\",\n",
    "        xy=(line.xga_p60, line.xgf_p60),\n",
    "        xytext=(x_position, y_position),\n",
    "        fontsize=6,\n",
    "        bbox={\"facecolor\": \"white\", \"alpha\": 0.5, \"edgecolor\": \"white\", \"pad\": 0},\n",
    "        arrowprops=arrow_props,\n",
    "    )\n",
    "\n",
    "# Setting axis lables\n",
    "ax.axes.set_xlabel(\"xGA per 60 minutes\")\n",
    "ax.axes.set_ylabel(\"xGF per 60 minutes\")\n",
    "\n",
    "# Setting figure suptitle and subtitle\n",
    "fig_suptitle = \"Nashville Predators forwards are generating 5v5 offense at rates above the NHL average\"\n",
    "fig.suptitle(\n",
    "    fig_suptitle,\n",
    "    x=0.01,\n",
    "    y=1.08,\n",
    "    fontsize=11,\n",
    "    fontweight=\"bold\",\n",
    "    horizontalalignment=\"left\",\n",
    ")\n",
    "\n",
    "todays_date = dt.datetime.now().strftime(\"%Y-%m-%d\")\n",
    "subtitle = f\"NHL forward line combinations | >{toi_min} min. TOI at 5v5 | 2024-25 season, as of {todays_date}\"\n",
    "fig.text(s=subtitle, x=0.01, y=1.02, fontsize=10, horizontalalignment=\"left\")\n",
    "\n",
    "# Attribution\n",
    "attribution = f\"Data & xG model @chickenandstats | Viz @chickenandstats\"\n",
    "fig.text(\n",
    "    s=attribution,\n",
    "    x=0.99,\n",
    "    y=-0.05,\n",
    "    fontsize=8,\n",
    "    horizontalalignment=\"right\",\n",
    "    style=\"italic\",\n",
    ")\n",
    "\n",
    "# Save figure\n",
    "savepath = Path(f\"./charts/5v5_xgf_xga_{team}.png\")\n",
    "# fig.savefig(savepath, transparent=False, bbox_inches=\"tight\")"
   ]
  }
 ],
 "metadata": {
  "kernelspec": {
   "display_name": "Python 3 (ipykernel)",
   "language": "python",
   "name": "python3"
  },
  "language_info": {
   "codemirror_mode": {
    "name": "ipython",
    "version": 3
   },
   "file_extension": ".py",
   "mimetype": "text/x-python",
   "name": "python",
   "nbconvert_exporter": "python",
   "pygments_lexer": "ipython3",
   "version": "3.12.5"
  }
 },
 "nbformat": 4,
 "nbformat_minor": 5
}
