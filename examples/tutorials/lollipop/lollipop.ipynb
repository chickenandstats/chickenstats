{
 "cells": [
  {
   "cell_type": "markdown",
   "id": "3876b38c-9496-4e8e-a66f-589beb9db762",
   "metadata": {},
   "source": [
    "---\n",
    "icon: material/tune-vertical-variant\n",
    "description: \"Plot single-game lollipop charts to analyze chances created and allowed\"\n",
    "---\n"
   ]
  },
  {
   "cell_type": "markdown",
   "id": "92f8986147a4ef69",
   "metadata": {},
   "source": [
    "# **Lollipop charts tutorial**"
   ]
  },
  {
   "cell_type": "markdown",
   "id": "80bc61c65620a39d",
   "metadata": {},
   "source": [
    "---"
   ]
  },
  {
   "cell_type": "markdown",
   "id": "5dfb63a64089a45f",
   "metadata": {},
   "source": [
    "## **Intro**"
   ]
  },
  {
   "cell_type": "markdown",
   "id": "61cdb8d0a4c47b2e",
   "metadata": {},
   "source": [
    "Use the `chickenstats` library to scrape play-by-play data and plot shot events as a lollipop chart,\n",
    "with the length of the stem indicating the predicted goal value. \n",
    "\n",
    "Parts of this tutorial are optional and will be clearly marked as such. For help, or any questions,\n",
    "please don't hesitate to reach out to [chicken@chickenandstats.com](mailto:chicken@chickenandstats.com) or\n",
    "[@chickenandstats.com](https://bsky.app/profile/chickenandstats.com) on Blue Sky.\n"
   ]
  },
  {
   "cell_type": "markdown",
   "id": "53ea10e7a388f77e",
   "metadata": {},
   "source": [
    "---"
   ]
  },
  {
   "cell_type": "markdown",
   "id": "08af8a24-37f6-42f4-bf94-47beed36afc9",
   "metadata": {},
   "source": [
    "## **Housekeeping**"
   ]
  },
  {
   "cell_type": "markdown",
   "id": "64b45581-1de0-4ae3-90db-045ef696996a",
   "metadata": {},
   "source": [
    "### Import dependencies\n",
    "\n",
    "Import the dependencies we'll need for the guide"
   ]
  },
  {
   "cell_type": "code",
   "execution_count": null,
   "id": "adcd5786-9de2-4a79-b234-a83c874fda77",
   "metadata": {},
   "outputs": [],
   "source": [
    "import pandas as pd\n",
    "import numpy as np\n",
    "\n",
    "import chickenstats.utilities  # This imports the chickenstats matplotlib style below\n",
    "from chickenstats.chicken_nhl import Season, Scraper\n",
    "from chickenstats.chicken_nhl.info import NHL_COLORS\n",
    "\n",
    "import matplotlib.pyplot as plt\n",
    "import matplotlib as mpl\n",
    "from matplotlib.lines import Line2D\n",
    "import matplotlib.ticker as ticker"
   ]
  },
  {
   "cell_type": "markdown",
   "id": "cae6f4c5-3e40-4e9b-b606-57c10759d40a",
   "metadata": {},
   "source": [
    "### Pandas options\n",
    "\n",
    "Sets different pandas options. This cell is optional"
   ]
  },
  {
   "cell_type": "code",
   "execution_count": null,
   "id": "25991422-2e30-4fcc-936c-60443db030ce",
   "metadata": {},
   "outputs": [],
   "source": [
    "pd.set_option(\"display.max_columns\", None)\n",
    "pd.set_option(\"display.max_rows\", 100)"
   ]
  },
  {
   "cell_type": "markdown",
   "id": "1ae133d7-b328-4600-aa2c-8e88314e0891",
   "metadata": {},
   "source": [
    "### Chickenstats matplotlib style\n",
    "\n",
    "chickenstats.utilities includes a custom style package - this activates it. This cell is also optional"
   ]
  },
  {
   "cell_type": "code",
   "execution_count": null,
   "id": "0347555b-9a84-48d2-9933-67733b7de0fa",
   "metadata": {},
   "outputs": [],
   "source": [
    "plt.style.use(\"chickenstats\")"
   ]
  },
  {
   "cell_type": "markdown",
   "id": "ddc2f10bb5b0ad6f",
   "metadata": {},
   "source": [
    "---"
   ]
  },
  {
   "cell_type": "markdown",
   "id": "606749d3-0da8-48ef-9ad5-dfeb0688b735",
   "metadata": {},
   "source": [
    "## **Scrape data**"
   ]
  },
  {
   "cell_type": "markdown",
   "id": "70b4a76e-c025-4845-895c-248918de6028",
   "metadata": {},
   "source": [
    "### Schedule, standings, and team names\n",
    "\n",
    "Scrape the schedule and standings using the `Season` object. Then, create some name dictionaries for convenience later"
   ]
  },
  {
   "cell_type": "code",
   "execution_count": null,
   "id": "2875d3b8-47e8-4cda-b1bb-39590361533c",
   "metadata": {},
   "outputs": [],
   "source": [
    "season = Season(2024)"
   ]
  },
  {
   "cell_type": "code",
   "execution_count": null,
   "id": "d9c05b1d-bc5f-449e-a017-d59b90866acc",
   "metadata": {},
   "outputs": [],
   "source": [
    "schedule = season.schedule(\n",
    "    disable_progress_bar=True\n",
    ")  # Progress bar renders poorly in ipynb to md conversions"
   ]
  },
  {
   "cell_type": "code",
   "execution_count": null,
   "id": "c6a989c5-432f-4422-87cc-52e5e8400aeb",
   "metadata": {},
   "outputs": [],
   "source": [
    "standings = season.standings  # Standings as a dataframe for the team name dictionaries"
   ]
  },
  {
   "cell_type": "code",
   "execution_count": null,
   "id": "718efad9-5878-447f-b894-8ced54e09b90",
   "metadata": {},
   "outputs": [],
   "source": [
    "team_names = standings.sort_values(by=\"team_name\").team_name.str.upper().tolist()\n",
    "team_codes = standings.sort_values(by=\"team_name\").team.str.upper().tolist()\n",
    "team_names_dict = dict(zip(team_codes, team_names))  # These are helpful for later"
   ]
  },
  {
   "cell_type": "markdown",
   "id": "047201cc-2d98-4cba-873a-c4c679ce68b3",
   "metadata": {},
   "source": [
    "### Game IDs\n",
    "\n",
    "Select the team and games to plot. The default is the most recent game for the Nashville Predators :).\n",
    "Feel free to change for your chosen team code "
   ]
  },
  {
   "cell_type": "code",
   "execution_count": null,
   "id": "6383ef3e-011d-48db-9ca7-521be67bd186",
   "metadata": {},
   "outputs": [],
   "source": [
    "team = \"NSH\"\n",
    "\n",
    "conds = np.logical_and(\n",
    "    schedule.game_state == \"OFF\",\n",
    "    np.logical_or(schedule.home_team == team, schedule.away_team == team),\n",
    ")\n",
    "\n",
    "game_ids = schedule.loc[conds].game_id.unique().tolist()\n",
    "game_id = game_ids[-1]"
   ]
  },
  {
   "cell_type": "markdown",
   "id": "8f815d63-4160-47db-9e35-3a6f69997b9a",
   "metadata": {},
   "source": [
    "### Play-by-play\n",
    "\n",
    "Scrape the play-by-play data for the chosen game ID. First instantiate the `Scraper` object,\n",
    "then call the play_by_play attribute"
   ]
  },
  {
   "cell_type": "code",
   "execution_count": null,
   "id": "54ab6724-139e-4363-8e19-266c30fe4d02",
   "metadata": {},
   "outputs": [],
   "source": [
    "scraper = Scraper(game_id, disable_progress_bar=True)"
   ]
  },
  {
   "cell_type": "code",
   "execution_count": null,
   "id": "b637296f-d924-454b-9105-99fb4a85da70",
   "metadata": {},
   "outputs": [],
   "source": [
    "pbp = scraper.play_by_play"
   ]
  },
  {
   "cell_type": "markdown",
   "id": "1d4e3fbbe3528db4",
   "metadata": {},
   "source": [
    "---"
   ]
  },
  {
   "cell_type": "markdown",
   "id": "7536366a-84a3-439b-83be-0d72b7a6beb2",
   "metadata": {},
   "source": [
    "## **Plotting the lollipop chart**"
   ]
  },
  {
   "cell_type": "markdown",
   "id": "683c4ccb-34c8-43bd-9f98-f6d618937800",
   "metadata": {},
   "source": [
    "### Helper functions\n",
    "\n",
    "This helper function formats numbers for the x-axis"
   ]
  },
  {
   "cell_type": "code",
   "execution_count": null,
   "id": "91647932-783f-4a35-9e56-c57f2a7f558f",
   "metadata": {},
   "outputs": [],
   "source": [
    "def numfmt(x: int, pos) -> str:\n",
    "    \"\"\"Function to convert the game-time values as minutes, then format them for the x-axis.\n",
    "\n",
    "    Used within the matplotlib FuncFormatter.\n",
    "\n",
    "    Parameters:\n",
    "        x (int):\n",
    "            The game time, in seconds, to convert.\n",
    "        pos:\n",
    "            Required by the FuncFormatter\n",
    "\n",
    "    \"\"\"\n",
    "    s = str(int(x / 60))\n",
    "    return s"
   ]
  },
  {
   "cell_type": "markdown",
   "id": "4fd5f3a8-9fb0-4a1f-95b8-b97a3590c674",
   "metadata": {},
   "source": [
    "### Plotting function\n",
    "\n",
    "This function plots the actual lollipop chart. You can select the strength states, while the team parameter\n",
    "determines which team is in the upper portion of the chart. \n",
    "\n",
    "Strength state options include:\n",
    "* 5v5\n",
    "* even strength\n",
    "* special teams (i.e., powerplay and shorthanded)\n",
    "* empty net\n",
    "* all strength states"
   ]
  },
  {
   "cell_type": "code",
   "execution_count": null,
   "id": "ffb94a1b-e6cc-4494-b297-af90acfd321f",
   "metadata": {},
   "outputs": [],
   "source": [
    "def plot_lollipop(\n",
    "    data: pd.DataFrame,\n",
    "    ax: plt.axes,\n",
    "    team: str | None = None,\n",
    "    strengths: str | None = None,\n",
    ") -> plt.axes:\n",
    "    \"\"\"Function to plot the lollipop chart, with the given in the upper portion.\n",
    "\n",
    "    Parameters:\n",
    "        data (pd.DataFrame):\n",
    "            Play-by-play data for a single game scraped using the chickenstats package.\n",
    "        ax (plt.axes):\n",
    "            The axes on which to plot the lollipop chart.\n",
    "        team (str):\n",
    "            Three-letter team code to determine which team is in the upper portion of the chart.\n",
    "            Default is the home team\n",
    "        strengths (str):\n",
    "            The strength states to include in the chart. Default is 5v5\n",
    "\n",
    "    \"\"\"\n",
    "    strengths_dict = {\n",
    "        \"5v5\": {\"name\": \"5v5\", \"list\": [\"5v5\"]},\n",
    "        \"even\": {\"name\": \"even_strength\", \"list\": [\"5v5\", \"4v4\", \"3v3\"]},\n",
    "        \"special\": {\"name\": \"special_teams\", \"list\": [\"5v4\", \"5v3\", \"4v5\", \"3v5\"]},\n",
    "        \"empty\": {\n",
    "            \"name\": \"empty_net\",\n",
    "            \"list\": [\"Ev5\", \"Ev4\", \"Ev3\", \"5vE\", \"4vE\", \"3vE\"],\n",
    "        },\n",
    "        \"all\": {\n",
    "            \"name\": \"all\",\n",
    "            \"list\": [\"5v5\", \"4v4\", \"3v3\", \"5v4\", \"5v3\", \"4v5\", \"3v5\"],\n",
    "        },\n",
    "    }\n",
    "\n",
    "    if not strengths:\n",
    "        strengths = \"5v5\"\n",
    "\n",
    "    strengths = strengths_dict[strengths]\n",
    "\n",
    "    strengths_list = strengths[\"list\"]\n",
    "\n",
    "    conds = data.strength_state.isin(strengths_list)\n",
    "\n",
    "    df = data.loc[conds].reset_index(drop=True)\n",
    "\n",
    "    if not team:\n",
    "        team = df.home_team.iloc[0]\n",
    "\n",
    "    ax.set_ylim(-1.05, 1.05)\n",
    "    # ax.axhline(y = 0, lw=1, alpha=.8)\n",
    "    ax.axhline(y=0.5, lw=1, zorder=-1, alpha=0.25)\n",
    "    ax.axhline(y=1, lw=1, zorder=-1, alpha=0.25)\n",
    "    ax.axhline(y=-0.5, lw=1, zorder=-1, alpha=0.25)\n",
    "    ax.axhline(y=-1, lw=1, zorder=-1, alpha=0.25)\n",
    "    ax.set_yticks([1, 0.5, 0, -0.5, -1], labels=[1, 0.5, 0, 0.5, 1])\n",
    "\n",
    "    max_game_seconds = data.game_seconds.max()\n",
    "\n",
    "    ax.set_xlim(-5, max_game_seconds + 35)\n",
    "    ax.spines.bottom.set_position(\"zero\")\n",
    "\n",
    "    ax.xaxis.set_major_locator(ticker.MultipleLocator(1200))\n",
    "\n",
    "    xfmt = ticker.FuncFormatter(numfmt)\n",
    "    ax.xaxis.set_major_formatter(xfmt)\n",
    "    ax.xaxis.set_minor_locator(ticker.MultipleLocator(60))\n",
    "\n",
    "    ax.set_ylabel(\"EXPECTED GOAL VALUE\", fontsize=8)\n",
    "\n",
    "    events = [\"GOAL\", \"SHOT\", \"MISS\"]\n",
    "\n",
    "    conds = np.logical_and(df.event_team == team, df.event.isin(events))\n",
    "\n",
    "    plot_data = df.loc[conds]\n",
    "\n",
    "    team_post = 0\n",
    "\n",
    "    for idx, play in plot_data.iterrows():\n",
    "        colors = NHL_COLORS[play.event_team]\n",
    "\n",
    "        marker = \"o\"\n",
    "\n",
    "        facecolor = colors[play.event]\n",
    "        edgecolor = colors[play.event]\n",
    "\n",
    "        if play.event == \"GOAL\":\n",
    "            z_order = 3\n",
    "            alpha = 1\n",
    "            hatch = \"\"\n",
    "            edgecolor = colors[\"SHOT\"]\n",
    "\n",
    "        else:\n",
    "            hatch = \"\"\n",
    "            alpha = 0.65\n",
    "            z_order = 2\n",
    "\n",
    "        if play.event == \"MISS\":\n",
    "            if \"POST\" in play.description:\n",
    "                team_post += 1\n",
    "                hatch = \"////////\"\n",
    "\n",
    "            edgecolor = colors[\"SHOT\"]\n",
    "\n",
    "        ax.scatter(\n",
    "            [play.game_seconds],\n",
    "            [play.pred_goal],\n",
    "            marker=marker,\n",
    "            s=60,\n",
    "            color=facecolor,\n",
    "            lw=1.15,\n",
    "            ec=edgecolor,\n",
    "            zorder=z_order,\n",
    "            hatch=hatch,\n",
    "            alpha=alpha,\n",
    "        )\n",
    "        if play.event == \"MISS\":\n",
    "            edgecolor = colors[\"MISS\"]\n",
    "\n",
    "        ax.plot(\n",
    "            [play.game_seconds, play.game_seconds],\n",
    "            [0, play.pred_goal],\n",
    "            lw=1.85,\n",
    "            color=edgecolor,\n",
    "            zorder=0,\n",
    "            alpha=0.65,\n",
    "        )\n",
    "\n",
    "    conds = np.logical_and(df.event_team != team, df.event.isin(events))\n",
    "\n",
    "    plot_data = df.loc[conds]\n",
    "\n",
    "    not_team_post = 0\n",
    "\n",
    "    for idx, play in plot_data.iterrows():\n",
    "        colors = NHL_COLORS[play.event_team]\n",
    "\n",
    "        marker = \"o\"\n",
    "\n",
    "        facecolor = colors[play.event]\n",
    "        edgecolor = colors[play.event]\n",
    "\n",
    "        if play.event == \"GOAL\":\n",
    "            z_order = 3\n",
    "            alpha = 1\n",
    "            edgecolor = colors[\"SHOT\"]\n",
    "\n",
    "        else:\n",
    "            alpha = 0.65\n",
    "            z_order = 2\n",
    "\n",
    "        if play.event == \"MISS\":\n",
    "            if \"POST\" in play.description:\n",
    "                hatch = \"////////\"\n",
    "\n",
    "                not_team_post += 1\n",
    "\n",
    "            edgecolor = colors[\"SHOT\"]\n",
    "\n",
    "        ax.scatter(\n",
    "            [play.game_seconds],\n",
    "            [play.pred_goal * -1],\n",
    "            marker=marker,\n",
    "            s=60,\n",
    "            color=facecolor,\n",
    "            lw=1.15,\n",
    "            ec=edgecolor,\n",
    "            zorder=z_order,\n",
    "            alpha=alpha,\n",
    "        )\n",
    "\n",
    "        if play.event == \"MISS\":\n",
    "            edgecolor = colors[\"MISS\"]\n",
    "        ax.plot(\n",
    "            [play.game_seconds, play.game_seconds],\n",
    "            [0, play.pred_goal * -1],\n",
    "            lw=1.85,\n",
    "            color=edgecolor,\n",
    "            zorder=0,\n",
    "            alpha=0.65,\n",
    "        )\n",
    "\n",
    "    not_team = df.loc[\n",
    "        np.logical_and(df.event_team != team, pd.notnull(df.event_team))\n",
    "    ].event_team.iloc[0]\n",
    "\n",
    "    # legends\n",
    "\n",
    "    legend_handles = []\n",
    "\n",
    "    for event in [\"GOAL\", \"SHOT\", \"MISS\"]:\n",
    "        colors = NHL_COLORS[team]\n",
    "\n",
    "        linecolor = colors[\"SHOT\"]\n",
    "        facecolor = colors[event]\n",
    "\n",
    "        legend_handle = Line2D(\n",
    "            [],\n",
    "            [],\n",
    "            color=linecolor,\n",
    "            markeredgecolor=linecolor,\n",
    "            markerfacecolor=facecolor,\n",
    "            marker=marker,\n",
    "            markersize=5,\n",
    "            label=event,\n",
    "            alpha=0.65,\n",
    "        )\n",
    "\n",
    "        legend_handles.append(legend_handle)\n",
    "\n",
    "    legend1 = ax.legend(\n",
    "        handles=legend_handles,\n",
    "        loc=(0.01, 0.8575),\n",
    "        ncols=len(legend_handles),\n",
    "        fontsize=\"small\",\n",
    "        title=team_names_dict[team],\n",
    "        title_fontsize=\"small\",\n",
    "    )\n",
    "    ax.add_artist(legend1)\n",
    "\n",
    "    legend_handles = []\n",
    "\n",
    "    for event in [\"GOAL\", \"SHOT\", \"MISS\"]:\n",
    "        colors = NHL_COLORS[not_team]\n",
    "\n",
    "        linecolor = colors[\"SHOT\"]\n",
    "        facecolor = colors[event]\n",
    "\n",
    "        legend_handle = Line2D(\n",
    "            [],\n",
    "            [],\n",
    "            color=linecolor,\n",
    "            markeredgecolor=linecolor,\n",
    "            markerfacecolor=facecolor,\n",
    "            marker=marker,\n",
    "            markersize=5,\n",
    "            label=event,\n",
    "            alpha=0.65,\n",
    "        )\n",
    "\n",
    "        legend_handles.append(legend_handle)\n",
    "\n",
    "    legend2 = ax.legend(\n",
    "        handles=legend_handles,\n",
    "        loc=(0.01, 0.0575),\n",
    "        ncols=len(legend_handles),\n",
    "        fontsize=\"small\",\n",
    "        title=team_names_dict[not_team],\n",
    "        title_fontsize=\"small\",\n",
    "    )\n",
    "    ax.add_artist(legend2)\n",
    "\n",
    "    team_g = df.loc[df.event_team == team].goal.sum()\n",
    "    team_xg = df.loc[df.event_team == team].pred_goal.sum()\n",
    "\n",
    "    not_team_g = df.loc[df.event_team != team].goal.sum()\n",
    "    not_team_xg = df.loc[df.event_team != team].pred_goal.sum()\n",
    "\n",
    "    ax_title = f\"{team_names_dict[team]} vs. {team_names_dict[not_team]}\"\n",
    "    ax.set_title(ax_title, ha=\"left\", x=-0.055, y=1.06)\n",
    "\n",
    "    strengths_name = strengths[\"name\"].replace(\"_\", \" \").upper()\n",
    "    score_subtitle = f\"{team_g}G ({round(team_xg, 2)} xG) - {not_team_g}G ({round(not_team_xg, 2)} xG)\"\n",
    "    game_date = df.game_date.iloc[0]\n",
    "\n",
    "    ax_subtitle = f\"{score_subtitle} | {strengths_name} |  {game_date}\"\n",
    "    ax.text(s=ax_subtitle, ha=\"left\", x=-0.055, y=1.035, transform=ax.transAxes)\n",
    "\n",
    "    attribution = \"Viz @chickenandstats.com | xG model @chickenandstats.com\"\n",
    "    ax.text(\n",
    "        s=attribution,\n",
    "        ha=\"right\",\n",
    "        x=0.99,\n",
    "        y=-0.05,\n",
    "        transform=ax.transAxes,\n",
    "        fontsize=8,\n",
    "        fontstyle=\"italic\",\n",
    "    )\n",
    "\n",
    "    return ax"
   ]
  },
  {
   "cell_type": "markdown",
   "id": "e7518b76-8cf2-43c0-9f17-914da5510d3f",
   "metadata": {},
   "source": [
    "### Plot the lollipop chart\n",
    "\n",
    "Plot the lollipop for your chosen team and strength state below.\n",
    "To save the figure, ensure you have a charts folder in your working directory"
   ]
  },
  {
   "cell_type": "code",
   "execution_count": null,
   "id": "f6fef1b1-f2bc-4bdb-8e08-522d34913918",
   "metadata": {},
   "outputs": [],
   "source": [
    "fig, ax = plt.subplots(dpi=650, figsize=(8, 5))\n",
    "\n",
    "fig.tight_layout()\n",
    "\n",
    "ax = plot_lollipop(data=pbp, team=team, strengths=\"even\", ax=ax)\n",
    "\n",
    "fig.savefig(f\"./charts/{game_id}.png\", bbox_inches=\"tight\", transparent=False)"
   ]
  }
 ],
 "metadata": {
  "kernelspec": {
   "display_name": "Python 3 (ipykernel)",
   "language": "python",
   "name": "python3"
  },
  "language_info": {
   "codemirror_mode": {
    "name": "ipython",
    "version": 3
   },
   "file_extension": ".py",
   "mimetype": "text/x-python",
   "name": "python",
   "nbconvert_exporter": "python",
   "pygments_lexer": "ipython3",
   "version": "3.12.6"
  }
 },
 "nbformat": 4,
 "nbformat_minor": 5
}
