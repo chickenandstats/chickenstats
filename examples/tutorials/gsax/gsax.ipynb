{
 "cells": [
  {
   "cell_type": "markdown",
   "id": "bcad6fbc-3092-4632-8aab-31797cfe3ae8",
   "metadata": {},
   "source": [
    "---\n",
    "icon: material/trending-up\n",
    "description: \"Learn how to analyze goals saved above expected with chickenstats\"\n",
    "---"
   ]
  },
  {
   "cell_type": "markdown",
   "id": "3c6467e2-ac38-4aa8-818d-c06ae19dc503",
   "metadata": {},
   "source": [
    "# **Tutorial for goals saved above expected**"
   ]
  },
  {
   "cell_type": "markdown",
   "id": "f6572690-19df-4ec0-8da7-1cd023cc4918",
   "metadata": {},
   "source": [
    "---"
   ]
  },
  {
   "cell_type": "markdown",
   "id": "918605a7-602f-4daa-9a1a-94daf3caac41",
   "metadata": {},
   "source": [
    "## **Intro**\n",
    "\n",
    "Use the `chickenstats` library to scrape play-by-play data and analyze goalies' goals saved above expected.\n",
    "\n",
    "Parts of this tutorial are optional and will be clearly marked as such. For help, or any questions,\n",
    "please don't hesitate to reach out to [chicken@chickenandstats.com](mailto:chicken@chickenandstats.com) or\n",
    "[@chickenandstats.com](https://bsky.app/profile/chickenandstats.com) on Blue Sky."
   ]
  },
  {
   "cell_type": "markdown",
   "id": "13cc21a0-eed2-4765-8837-caffcca06bf9",
   "metadata": {},
   "source": [
    "---"
   ]
  },
  {
   "cell_type": "markdown",
   "id": "119dac8b9e6f33b5",
   "metadata": {},
   "source": [
    "![png](https://raw.githubusercontent.com/chickenandstats/chickenstats/refs/heads/main/docs/guide/examples/images/saros_gsax_hours_since.png)"
   ]
  },
  {
   "cell_type": "markdown",
   "id": "f4a59bd90d25dc65",
   "metadata": {},
   "source": [
    "---"
   ]
  },
  {
   "cell_type": "markdown",
   "id": "74bb1cd4-8e9d-4718-ae6b-c694f0849848",
   "metadata": {},
   "source": [
    "## **Housekeeping**"
   ]
  },
  {
   "cell_type": "markdown",
   "id": "0d8a6d3d-e381-4b31-b5fd-b838f17fbb62",
   "metadata": {},
   "source": [
    "### Import dependencies\n",
    "\n",
    "Import the dependencies we'll need for the guide"
   ]
  },
  {
   "cell_type": "code",
   "execution_count": null,
   "id": "379cec3e-7c3d-4e97-85f2-4deb7783098e",
   "metadata": {},
   "outputs": [],
   "source": [
    "import datetime as dt\n",
    "\n",
    "import matplotlib.patheffects as mpe\n",
    "import matplotlib.pyplot as plt\n",
    "import matplotlib.ticker as ticker\n",
    "import numpy as np\n",
    "import pandas as pd\n",
    "import seaborn as sns\n",
    "from matplotlib.lines import Line2D\n",
    "\n",
    "import chickenstats.utilities\n",
    "from chickenstats.chicken_nhl import Scraper, Season\n",
    "from chickenstats.chicken_nhl.info import NHL_COLORS"
   ]
  },
  {
   "cell_type": "markdown",
   "id": "9d905c30-b77c-46bb-9acb-a1b3bd8c0196",
   "metadata": {},
   "source": [
    "### Pandas options\n",
    "\n",
    "Set different pandas options. This cell is optional"
   ]
  },
  {
   "cell_type": "code",
   "execution_count": null,
   "id": "12c81d6c-6459-4c92-8bf7-dd982eb5a619",
   "metadata": {},
   "outputs": [],
   "source": [
    "pd.set_option(\"display.max_columns\", None)\n",
    "pd.set_option(\"display.max_rows\", 100)"
   ]
  },
  {
   "cell_type": "markdown",
   "id": "fb887abf-c337-4484-88f1-6c20ff037c76",
   "metadata": {},
   "source": [
    "### Chickenstats matplotlib style\n",
    "\n",
    "chickenstats.utilities includes a custom style package - this activates it. This cell is also optional"
   ]
  },
  {
   "cell_type": "code",
   "execution_count": null,
   "id": "e232a090-3a52-4f51-88c9-359f55cefd14",
   "metadata": {},
   "outputs": [],
   "source": [
    "plt.style.use(\"chickenstats\")"
   ]
  },
  {
   "cell_type": "markdown",
   "id": "dbab4d04-abc2-4033-b81f-ff2216a7f83f",
   "metadata": {},
   "source": [
    "---"
   ]
  },
  {
   "cell_type": "markdown",
   "id": "5839efbe-4001-42b9-84b3-6eeee48e4537",
   "metadata": {},
   "source": [
    "## **Scrape data**"
   ]
  },
  {
   "cell_type": "markdown",
   "id": "b0d875eb-8f02-4764-b80d-c310007e6aff",
   "metadata": {},
   "source": [
    "### Schedule\n",
    "\n",
    "Scrape the schedule using the `Season` object"
   ]
  },
  {
   "cell_type": "code",
   "execution_count": null,
   "id": "ef3bf1fa-8f74-4a61-9108-af9b9854fdc6",
   "metadata": {},
   "outputs": [],
   "source": [
    "season = Season(2024)"
   ]
  },
  {
   "cell_type": "code",
   "execution_count": null,
   "id": "784dd5ba-f1ba-4616-8234-a71b35a56e28",
   "metadata": {},
   "outputs": [],
   "source": [
    "schedule = season.schedule(disable_progress_bar=True)"
   ]
  },
  {
   "cell_type": "markdown",
   "id": "f7401c42-3483-41b0-8488-37bb2e10c11a",
   "metadata": {},
   "source": [
    "### Standings and team names\n",
    "\n",
    "Scrape the standings and create team name dictionaries to use later"
   ]
  },
  {
   "cell_type": "code",
   "execution_count": null,
   "id": "6eeddd2f-105d-4807-a934-34e52211b70e",
   "metadata": {},
   "outputs": [],
   "source": [
    "standings = season.standings.copy(deep=True)"
   ]
  },
  {
   "cell_type": "code",
   "execution_count": null,
   "id": "4f96216b-fd72-4053-82c2-c45ee393f4e1",
   "metadata": {},
   "outputs": [],
   "source": [
    "team_names = standings.sort_values(by=\"team_name\").team_name.str.upper().tolist()\n",
    "team_codes = standings.sort_values(by=\"team_name\").team.str.upper().tolist()\n",
    "team_names_dict = dict(zip(team_codes, team_names, strict=False))"
   ]
  },
  {
   "cell_type": "markdown",
   "id": "f04be148-501d-4f52-93a2-1652da952716",
   "metadata": {},
   "source": [
    "### Game IDs\n",
    "\n",
    "Create a list of game IDs to crape"
   ]
  },
  {
   "cell_type": "code",
   "execution_count": null,
   "id": "02a500c2-24b5-408b-8efd-ec72b82a3533",
   "metadata": {},
   "outputs": [],
   "source": [
    "conds = schedule.game_state == \"OFF\"\n",
    "\n",
    "game_ids = schedule.loc[conds].game_id.unique().tolist()"
   ]
  },
  {
   "cell_type": "markdown",
   "id": "eead7a9e-7d45-4960-9cba-d93a3f76cff3",
   "metadata": {},
   "source": [
    "### Play-by-play\n",
    "\n",
    "Scrape play-by-play data using the `Scraper` object"
   ]
  },
  {
   "cell_type": "code",
   "execution_count": null,
   "id": "0275d426-2732-4385-b605-e7a8f38be491",
   "metadata": {},
   "outputs": [],
   "source": [
    "scraper = Scraper(game_ids, disable_progress_bar=True)"
   ]
  },
  {
   "cell_type": "code",
   "execution_count": null,
   "id": "6156d8a3-f0f7-4939-910a-8d18e18f4765",
   "metadata": {},
   "outputs": [],
   "source": [
    "pbp = scraper.play_by_play"
   ]
  },
  {
   "cell_type": "markdown",
   "id": "e5427e64-55f6-4714-8403-0ce869b3c456",
   "metadata": {},
   "source": [
    "### Stats\n",
    "\n",
    "Aggregate statistics to season and game level"
   ]
  },
  {
   "cell_type": "code",
   "execution_count": null,
   "id": "3244f777-070e-42ff-a0e3-bf8fe0415675",
   "metadata": {},
   "outputs": [],
   "source": [
    "scraper.prep_stats(level=\"season\", disable_progress_bar=True)\n",
    "season_stats = scraper.stats.copy(deep=True)"
   ]
  },
  {
   "cell_type": "code",
   "execution_count": null,
   "id": "db07e8fc-0931-4438-a129-c938d858dfc5",
   "metadata": {},
   "outputs": [],
   "source": [
    "scraper.prep_stats(level=\"game\", disable_progress_bar=True)\n",
    "game_stats = scraper.stats.copy(deep=True)"
   ]
  },
  {
   "cell_type": "markdown",
   "id": "c2bcf6b7-444d-431e-93e1-e25eaff9c864",
   "metadata": {},
   "source": [
    "### Goalie dataframes\n",
    "\n",
    "Filter the dataframes for goalies and add goals saved above expected stats"
   ]
  },
  {
   "cell_type": "code",
   "execution_count": null,
   "id": "a0b1190d-e2ce-40a7-a94a-b9bf203f9e6d",
   "metadata": {},
   "outputs": [],
   "source": [
    "def prep_goalie_df(data: pd.DataFrame, strengths: bool) -> pd.DataFrame:\n",
    "    \"\"\"Prep goalie dataframes for later analysis.\n",
    "\n",
    "    Parameters:\n",
    "        data (pd.DataFrame):\n",
    "            Pandas dataframe of individual statistics scraped using `chickenstats` library\n",
    "        strengths (bool):\n",
    "            If False, aggregates data to all strengths states. If True, data are aggregated\n",
    "            to strength state level\n",
    "\n",
    "    \"\"\"\n",
    "    df = data.copy(deep=True)\n",
    "\n",
    "    df = df.loc[df.position == \"G\"].reset_index(drop=True)\n",
    "\n",
    "    if not strengths:\n",
    "        group_cols = [\n",
    "            \"season\",\n",
    "            \"session\",\n",
    "            \"game_id\",\n",
    "            \"game_date\",\n",
    "            \"player\",\n",
    "            \"eh_id\",\n",
    "            \"api_id\",\n",
    "            \"position\",\n",
    "            \"team\",\n",
    "            \"opp_team\",\n",
    "        ]\n",
    "\n",
    "        group_cols = [x for x in group_cols if x in df.columns]\n",
    "\n",
    "        agg_stats = {\n",
    "            x: \"sum\"\n",
    "            for x in df.columns\n",
    "            if x not in group_cols and x != \"strength_state\" and \"percent\" not in x and \"p60\" not in x\n",
    "        }\n",
    "\n",
    "        df = df.groupby(group_cols, as_index=False).agg(agg_stats)\n",
    "\n",
    "    df[\"gsax\"] = df.xga - df.ga\n",
    "    df[\"gsax_p60\"] = df.gsax / df.toi * 60\n",
    "\n",
    "    return df"
   ]
  },
  {
   "cell_type": "code",
   "execution_count": null,
   "id": "f2307dc2-0896-45f5-aa29-adba7e32373f",
   "metadata": {},
   "outputs": [],
   "source": [
    "goalies_game = prep_goalie_df(data=game_stats, strengths=True)"
   ]
  },
  {
   "cell_type": "code",
   "execution_count": null,
   "id": "e2a0784e-877b-4f2f-b507-8482c39d8744",
   "metadata": {},
   "outputs": [],
   "source": [
    "goalies_game_all_sit = prep_goalie_df(data=game_stats, strengths=False)"
   ]
  },
  {
   "cell_type": "code",
   "execution_count": null,
   "id": "b552c3c2-700b-4aa7-97cc-7fe056f24fe6",
   "metadata": {},
   "outputs": [],
   "source": [
    "goalies_season = prep_goalie_df(data=season_stats, strengths=True)"
   ]
  },
  {
   "cell_type": "code",
   "execution_count": null,
   "id": "7450760d-f29e-41d7-94f6-263bf663150a",
   "metadata": {},
   "outputs": [],
   "source": [
    "goalies_season_all_sit = prep_goalie_df(data=season_stats, strengths=False)"
   ]
  },
  {
   "cell_type": "markdown",
   "id": "c43f815c-6e63-4c03-81b5-8301bc2bdb71",
   "metadata": {},
   "source": [
    "## **GSaX line charts**"
   ]
  },
  {
   "cell_type": "markdown",
   "id": "dd394bed-544d-406a-a0b5-49f532d42d78",
   "metadata": {},
   "source": [
    "### Prepping data\n",
    "\n",
    "Calculating cumlative stats"
   ]
  },
  {
   "cell_type": "code",
   "execution_count": null,
   "id": "9d6c2bde-19e5-4861-bfd6-5e2a1dd8ac7a",
   "metadata": {},
   "outputs": [],
   "source": [
    "def calc_cumulative_stats(data: pd.DataFrame) -> pd.DataFrame:\n",
    "    \"\"\"Calculate cumulative TOI and xG against.\n",
    "\n",
    "    Parameters:\n",
    "        data (pd.DataFrame):\n",
    "            Pandas dataframe of statistics aggregated from the `chickenstats` library and\n",
    "            prepped for goalie analysis\n",
    "    \"\"\"\n",
    "    df = data.copy(deep=True)\n",
    "\n",
    "    group_list = [\"season\", \"session\", \"player\", \"eh_id\", \"api_id\", \"team\"]\n",
    "\n",
    "    df[\"cum_gp\"] = df.groupby(group_list)[\"game_id\"].transform(\"cumcount\") + 1\n",
    "\n",
    "    df[\"cum_toi\"] = df.groupby(group_list)[\"toi\"].transform(\"cumsum\")\n",
    "\n",
    "    df[\"cum_gsax\"] = df.groupby(group_list)[\"gsax\"].transform(\"cumsum\")\n",
    "\n",
    "    return df"
   ]
  },
  {
   "cell_type": "code",
   "execution_count": null,
   "id": "353a1f65-07a4-4157-afc5-8a8c5c43d4f2",
   "metadata": {},
   "outputs": [],
   "source": [
    "goalies_game_all_sit = calc_cumulative_stats(data=goalies_game_all_sit)"
   ]
  },
  {
   "cell_type": "markdown",
   "id": "618e9301-3b39-4f53-99df-e98e0990334e",
   "metadata": {},
   "source": [
    "### Plot line chart function\n",
    "\n",
    "Function to plot cumulative GSaX and TOI for a given goalie"
   ]
  },
  {
   "cell_type": "code",
   "execution_count": null,
   "id": "bb85fd7f-8f43-46f6-b139-b9a91b277bef",
   "metadata": {},
   "outputs": [],
   "source": [
    "def plot_line_chart(\n",
    "    data: pd.DataFrame,\n",
    "    goalie: pd.Series,\n",
    "    ax: plt.axes,\n",
    "    ax_title: str | None = None,\n",
    "    legend_label: str | None = None,\n",
    "    x_label: bool = False,\n",
    "    y_label: bool = False,\n",
    "):\n",
    "    \"\"\"Function to plot a seaborn line chart of cumulative time-on-ice and goals scored above expected.\n",
    "\n",
    "    Parameters:\n",
    "        data (pd.DataFrame):\n",
    "            Pandas dataframe of game-level goalie data to plot\n",
    "        goalie (pd.Series):\n",
    "            Row of data from season-level goalie data\n",
    "        ax (plt.axes):\n",
    "            The matplotlib axes to return after plotting the chart\n",
    "        ax_title (str | None):\n",
    "            Customize ax title, or, if None, use the goalie's name\n",
    "        legend_label (str | None):\n",
    "            Customize the legend label, or, if None, list the cumulative GSaX and TOI\n",
    "        x_label (bool):\n",
    "            Whether to print or hide the x-axis label\n",
    "        y_label (bool):\n",
    "            Whether to print or hide the y-axis label\n",
    "\n",
    "    \"\"\"\n",
    "    plot_df = data.copy()\n",
    "\n",
    "    color_palette = np.where(\n",
    "        plot_df.api_id == goalie.api_id, NHL_COLORS[goalie.team][\"SHOT\"], NHL_COLORS[goalie.team][\"MISS\"]\n",
    "    )\n",
    "\n",
    "    color_palette = dict(zip(plot_df.player, color_palette, strict=False))\n",
    "\n",
    "    NHL_COLORS[goalie.team][\"MISS\"]\n",
    "    line_width = 3\n",
    "\n",
    "    conds = plot_df.player != goalie.player\n",
    "\n",
    "    sns.lineplot(\n",
    "        x=\"cum_toi\", y=\"cum_gsax\", data=plot_df[conds], hue=\"player\", palette=color_palette, ax=ax, lw=line_width\n",
    "    )\n",
    "\n",
    "    conds = plot_df.player == goalie.player\n",
    "    NHL_COLORS[goalie.team][\"SHOT\"]\n",
    "    line_width = 6\n",
    "    path_effect_ec = NHL_COLORS[goalie.team][\"GOAL\"]\n",
    "\n",
    "    path_effect = [mpe.Stroke(foreground=path_effect_ec, alpha=1, linewidth=7), mpe.Normal()]\n",
    "\n",
    "    sns.lineplot(\n",
    "        x=\"cum_toi\",\n",
    "        y=\"cum_gsax\",\n",
    "        data=plot_df[conds],\n",
    "        hue=\"player\",\n",
    "        palette=color_palette,\n",
    "        ax=ax,\n",
    "        zorder=3,\n",
    "        lw=3.5,\n",
    "        path_effects=path_effect,\n",
    "    )\n",
    "\n",
    "    if ax_title == \"\":\n",
    "        ax_title = \"\"\n",
    "\n",
    "    elif not ax_title:\n",
    "        ax_title = goalie.player\n",
    "\n",
    "    ax.set_title(ax_title, size=18, weight=\"heavy\", pad=15)\n",
    "\n",
    "    if y_label:\n",
    "        ax.set_ylabel(\"Cumulative GSaX\", size=16, labelpad=15, weight=\"heavy\")\n",
    "\n",
    "    else:\n",
    "        ax.set_ylabel(\"\")\n",
    "        ax.yaxis.set_tick_params(which=\"both\", labelbottom=True)\n",
    "\n",
    "    if x_label:\n",
    "        ax.set_xlabel(\"Cumulative time-on-ice (minutes)\", size=16, labelpad=15, weight=\"heavy\")\n",
    "\n",
    "    else:\n",
    "        ax.set_xlabel(\"\")\n",
    "        ax.xaxis.set_tick_params(which=\"both\", labelbottom=True)\n",
    "\n",
    "    legend_elements = list()\n",
    "    color = NHL_COLORS[goalie.team][\"SHOT\"]\n",
    "\n",
    "    xG = round(goalie.gsax, 2)\n",
    "\n",
    "    toi_max = round(goalie.toi, 2)\n",
    "\n",
    "    if not legend_label:\n",
    "        legend_label = f\"{xG} GSaX in {toi_max} minutes\"\n",
    "\n",
    "    element = Line2D([0], [0], lw=3, label=legend_label, color=color, path_effects=path_effect)\n",
    "\n",
    "    legend_elements.append(element)\n",
    "\n",
    "    ax.legend(\n",
    "        handles=legend_elements,\n",
    "        loc=\"upper left\",\n",
    "        ncol=1,\n",
    "        fontsize=14,\n",
    "        title_fontsize=12,\n",
    "        facecolor=\"white\",\n",
    "        framealpha=1,\n",
    "        edgecolor=\"gray\",\n",
    "    ).set_zorder(-1)\n",
    "\n",
    "    ax.xaxis.set_tick_params(labelsize=16)\n",
    "    ax.yaxis.set_tick_params(labelsize=16)\n",
    "\n",
    "    return ax"
   ]
  },
  {
   "cell_type": "markdown",
   "id": "04d3d530-71bb-4959-bbe3-61415810d6c5",
   "metadata": {},
   "source": [
    "### Juuse Saros\n",
    "\n",
    "Plot single goalie's goals saved above expected and time-on-ice"
   ]
  },
  {
   "cell_type": "code",
   "execution_count": null,
   "id": "b9db275d-7b42-40f2-a43c-e1ee8512e733",
   "metadata": {},
   "outputs": [],
   "source": [
    "selected_goalie = \"JUUSE.SAROS\"\n",
    "conds = goalies_season_all_sit.eh_id == selected_goalie\n",
    "\n",
    "fig_size = (8, 5)\n",
    "\n",
    "fig, ax = plt.subplots(figsize=fig_size, dpi=650)\n",
    "\n",
    "for idx, goalie in goalies_season_all_sit.loc[conds].iterrows():\n",
    "    plot_df = goalies_game_all_sit.copy()\n",
    "\n",
    "    plot_line_chart(data=plot_df, goalie=goalie, ax=ax, ax_title=\"\", x_label=True, y_label=True)\n",
    "\n",
    "\n",
    "title = \"Saros is having an NHL-average year\"\n",
    "fig.suptitle(title, ha=\"center\", va=\"center\", y=1.027, size=16, weight=\"heavy\")\n",
    "\n",
    "todays_date = dt.datetime.now().strftime(\"%Y-%m-%d\")\n",
    "subtitle = f\"Cumulative GSaX & TOI, all situations | 2024-25 season, as of {todays_date}\"\n",
    "fig.text(s=subtitle, ha=\"center\", va=\"center\", x=0.5, y=0.98, size=12)\n",
    "\n",
    "\n",
    "# Attribution\n",
    "attribution = \"Data & xG model @chickenandstats.com | Viz @chickenandstats.com\"\n",
    "fig.text(s=attribution, x=0.95, y=-0.095, fontsize=8, horizontalalignment=\"right\", style=\"italic\")\n",
    "\n",
    "fig.savefig(\"./charts/saros_gsax.png\", dpi=650, bbox_inches=\"tight\", facecolor=\"white\")"
   ]
  },
  {
   "cell_type": "markdown",
   "id": "d04f2147-dbb6-4faa-8c9b-61ce2890fd08",
   "metadata": {},
   "source": [
    "### Top-6 goalies\n",
    "\n",
    "Create the top goalies dataframe to iterate through for plotting"
   ]
  },
  {
   "cell_type": "code",
   "execution_count": null,
   "id": "5248ac57-365e-4568-b3b9-9819cbf3ccc6",
   "metadata": {},
   "outputs": [],
   "source": [
    "top_goalies = goalies_season_all_sit.sort_values(by=\"gsax\", ascending=False).head(6).reset_index(drop=True)"
   ]
  },
  {
   "cell_type": "markdown",
   "id": "0518b795-4c90-4a6c-a480-d563bea7d63b",
   "metadata": {},
   "source": [
    "### Plot cumulative GSaX and TOI\n",
    "\n",
    "Cumulative time-on-ice and goals saved above expected for top-6 goalies in NHL"
   ]
  },
  {
   "cell_type": "code",
   "execution_count": null,
   "id": "a46f971b-7c1c-406f-8265-c69585a25b2a",
   "metadata": {},
   "outputs": [],
   "source": [
    "## setting figure size\n",
    "\n",
    "fig_size = (15, 15)\n",
    "\n",
    "fig, axes = plt.subplots(3, 2, figsize=fig_size, dpi=650, sharex=True, sharey=True)\n",
    "\n",
    "fig.tight_layout(pad=5)\n",
    "\n",
    "axes = axes.reshape(-1)\n",
    "\n",
    "for idx, top_goalie in top_goalies.iterrows():\n",
    "    ax = axes[idx]\n",
    "\n",
    "    x_label = idx >= 4\n",
    "\n",
    "    y_label = idx in [0, 2, 4]\n",
    "\n",
    "    plot_df = goalies_game_all_sit.copy()\n",
    "\n",
    "    plot_line_chart(data=plot_df, goalie=top_goalie, ax=ax, x_label=x_label, y_label=y_label)\n",
    "\n",
    "\n",
    "title = \"Top-6 goaltenders by cumulative goals saved above expected\"\n",
    "fig.suptitle(title, ha=\"center\", va=\"center\", y=1.027, size=24, weight=\"heavy\")\n",
    "\n",
    "todays_date = dt.datetime.now().strftime(\"%Y-%m-%d\")\n",
    "subtitle = f\"Cumulative GSaX & cumulative TOI, all situations | 2024-25 season, as of {todays_date}\"\n",
    "fig.text(s=subtitle, ha=\"center\", va=\"center\", x=0.5, y=1.001, size=18)\n",
    "\n",
    "\n",
    "# Attribution\n",
    "attribution = \"Data & xG model @chickenandstats.com | Viz @chickenandstats.com\"\n",
    "fig.text(s=attribution, x=0.99, y=-0.0125, fontsize=12, horizontalalignment=\"right\", style=\"italic\")\n",
    "\n",
    "fig.savefig(\"./charts/top_6_gsax.png\", dpi=650, bbox_inches=\"tight\", facecolor=\"white\")"
   ]
  },
  {
   "cell_type": "markdown",
   "id": "796abb43-f1db-483f-bce6-87bb9f07cf77",
   "metadata": {},
   "source": [
    "## **GSaX and time between games**"
   ]
  },
  {
   "cell_type": "markdown",
   "id": "8374db68-e63c-4477-99e4-da9ec7a8e139",
   "metadata": {},
   "source": [
    "### Prepping data\n",
    "\n",
    "Getting game winners and calculating time between games with the schedule object"
   ]
  },
  {
   "cell_type": "code",
   "execution_count": null,
   "id": "1f467ed0-883d-4176-b67b-9839d4bfc65f",
   "metadata": {},
   "outputs": [],
   "source": [
    "def prep_hours_since(data: pd.DataFrame, schedule: pd.DataFrame, strengths: list = None) -> pd.DataFrame:\n",
    "    \"\"\"Function to prep dataframe of gsax and hours since for an individual goalie.\n",
    "\n",
    "    Parameters:\n",
    "        data (pd.DataFrame):\n",
    "            Pandas dataframe of goalie stats from `chickenstats` library\n",
    "        strengths (list):\n",
    "            List of strength states to filter the dataframe\n",
    "\n",
    "    \"\"\"\n",
    "    if strengths is None:\n",
    "        strengths = [\"5v5\"]\n",
    "    df = data.copy()\n",
    "\n",
    "    winners = np.where(schedule.home_score > schedule.away_score, schedule.home_team, schedule.away_team)\n",
    "    winners_map = dict(zip(schedule.game_id.astype(str), winners, strict=False))\n",
    "\n",
    "    game_date_dt = pd.to_datetime(schedule.game_date_dt, utc=True)\n",
    "    game_date_map = dict(zip(schedule.game_id.astype(str), game_date_dt, strict=False))\n",
    "\n",
    "    df[\"game_date_dt\"] = df.game_id.map(game_date_map)\n",
    "    df[\"win\"] = df.game_id.map(winners_map)\n",
    "    df.win = np.where(df.team == df.win, 1, 0)\n",
    "\n",
    "    conds = df.strength_state.isin(strengths)\n",
    "\n",
    "    df = df.loc[conds].reset_index(drop=True)\n",
    "\n",
    "    group_list = [\"season\", \"session\", \"team\", \"player\", \"eh_id\"]\n",
    "\n",
    "    df[\"hours_since\"] = df.groupby(group_list).game_date_dt.transform(lambda x: x - x.shift(1)).astype(\n",
    "        \"timedelta64[s]\"\n",
    "    ) / pd.Timedelta(hours=1)\n",
    "\n",
    "    conds = np.logical_and.reduce([df.hours_since > 0, df.hours_since <= 175, df.toi >= 10])\n",
    "\n",
    "    df = df.loc[conds].reset_index(drop=True)\n",
    "\n",
    "    return df"
   ]
  },
  {
   "cell_type": "markdown",
   "id": "ffbc1879-f6b3-4f2f-a63f-d5ca12fb861c",
   "metadata": {},
   "source": [
    "### Plotting function\n",
    "\n",
    "Plot individual goalie GSaX / 60 and time since last game"
   ]
  },
  {
   "cell_type": "code",
   "execution_count": null,
   "id": "208ac0a1-5dc8-4b26-9fa4-6784408b5f8b",
   "metadata": {},
   "outputs": [],
   "source": [
    "def plot_hours_since(\n",
    "    data: pd.DataFrame,\n",
    "    goalie: pd.Series,\n",
    "    ax: plt.axes,\n",
    "    ax_title: str | None = None,\n",
    "    legend_label: str | None = None,\n",
    "    x_label: bool = False,\n",
    "    y_label: bool = False,\n",
    "):\n",
    "    \"\"\"Function to plot a seaborn line chart of cumulative time-on-ice and goals scored above expected.\n",
    "\n",
    "    Parameters:\n",
    "        data (pd.DataFrame):\n",
    "            Pandas dataframe of game-level goalie data to plot\n",
    "        goalie (pd.Series):\n",
    "            Row of data from season-level goalie data\n",
    "        ax (plt.axes):\n",
    "            The matplotlib axes to return after plotting the chart\n",
    "        ax_title (str | None):\n",
    "            Customize ax title, or, if None, use the goalie's name\n",
    "        x_label (bool):\n",
    "            Whether to print or hide the x-axis label\n",
    "        y_label (bool):\n",
    "            Whether to print or hide the y-axis label\n",
    "\n",
    "    \"\"\"\n",
    "    sns.despine(right=False, top=False, ax=ax)\n",
    "\n",
    "    df = data.copy()\n",
    "\n",
    "    min_size = df.fa_p60.min()\n",
    "    max_size = df.fa_p60.max()\n",
    "    df.fa_p60.mean()\n",
    "    size_norm = (min_size, max_size)\n",
    "    sizes = (10, 500)\n",
    "\n",
    "    alpha = 0.65\n",
    "    line_width = 1.3\n",
    "\n",
    "    colors = NHL_COLORS[goalie.team]\n",
    "\n",
    "    conds = df.eh_id != goalie.eh_id\n",
    "\n",
    "    sns.scatterplot(\n",
    "        x=\"hours_since\",\n",
    "        y=\"gsax_p60\",\n",
    "        data=df[conds],\n",
    "        color=colors[\"MISS\"],\n",
    "        size=\"fa_p60\",\n",
    "        size_norm=size_norm,\n",
    "        sizes=sizes,\n",
    "        alpha=alpha,\n",
    "        edgecolor=\"white\",\n",
    "        linewidth=line_width,\n",
    "        legend=\"full\",\n",
    "        ax=ax,\n",
    "    )\n",
    "\n",
    "    color_palette = {0: colors[\"SHOT\"], 1: colors[\"GOAL\"]}\n",
    "\n",
    "    for result, color in color_palette.items():\n",
    "        conds = df.eh_id == goalie.eh_id\n",
    "\n",
    "        edge_color = \"white\" if result == 0 else colors[\"SHOT\"]\n",
    "\n",
    "        sns.scatterplot(\n",
    "            x=\"hours_since\",\n",
    "            y=\"gsax_p60\",\n",
    "            data=df[conds],\n",
    "            hue=\"win\",\n",
    "            palette=color_palette,\n",
    "            size=\"fa_p60\",\n",
    "            size_norm=size_norm,\n",
    "            sizes=sizes,\n",
    "            alpha=alpha,\n",
    "            edgecolor=edge_color,\n",
    "            linewidth=line_width,\n",
    "            legend=False,\n",
    "            ax=ax,\n",
    "        )\n",
    "\n",
    "    legend_elements = []\n",
    "\n",
    "    legend_element_labels = [\"Win\", \"Loss\", \"Other goalies\"]\n",
    "\n",
    "    for label in legend_element_labels:\n",
    "        if label == \"Win\":\n",
    "            color = colors[\"GOAL\"]\n",
    "            edge_color = colors[\"SHOT\"]\n",
    "\n",
    "        if label == \"Loss\":\n",
    "            color = colors[\"SHOT\"]\n",
    "            edge_color = \"white\"\n",
    "\n",
    "        if label == \"Other goalies\":\n",
    "            color = colors[\"MISS\"]\n",
    "            edge_color = \"white\"\n",
    "\n",
    "        element = Line2D(\n",
    "            [0], [0], lw=0, label=label, markersize=14, marker=\"o\", color=color, mec=edge_color, alpha=alpha\n",
    "        )\n",
    "\n",
    "        legend_elements.append(element)\n",
    "\n",
    "    legend = ax.legend(\n",
    "        handles=legend_elements,\n",
    "        loc=\"upper left\",\n",
    "        ncol=1,\n",
    "        fontsize=12,\n",
    "        title_fontsize=16,\n",
    "        facecolor=\"white\",\n",
    "        framealpha=1,\n",
    "        edgecolor=\"gray\",\n",
    "    )\n",
    "\n",
    "    ax.add_artist(legend).set_zorder(-1)\n",
    "\n",
    "    if not ax_title and ax_title != \"\":\n",
    "        ax_title = goalie.player\n",
    "\n",
    "    if ax_title:\n",
    "        ax.set_title(ax_title, size=18, weight=\"heavy\", pad=15)\n",
    "\n",
    "    if x_label:\n",
    "        ax.set_xlabel(\"Hours since last game\", size=18, labelpad=15, weight=\"heavy\")\n",
    "\n",
    "    else:\n",
    "        ax.set_xlabel(\"\", size=18, weight=\"heavy\")\n",
    "        ax.xaxis.set_tick_params(which=\"both\", labelbottom=True)\n",
    "\n",
    "    if y_label:\n",
    "        ax.set_ylabel(\"GSaX / 60\", size=18, labelpad=15, weight=\"heavy\")\n",
    "\n",
    "    else:\n",
    "        ax.set_ylabel(\"\")\n",
    "        ax.yaxis.set_tick_params(which=\"both\", labelleft=True)\n",
    "\n",
    "    ax.xaxis.set_tick_params(labelsize=14)\n",
    "    ax.yaxis.set_tick_params(labelsize=14)\n",
    "\n",
    "    ax.yaxis.set_major_locator(ticker.MultipleLocator(2))\n",
    "    ax.yaxis.set_minor_locator(ticker.MultipleLocator(1))\n",
    "\n",
    "    return ax"
   ]
  },
  {
   "cell_type": "markdown",
   "id": "def9c340-d1f7-4f4d-b8dc-84ca662ad610",
   "metadata": {},
   "source": [
    "### Data\n",
    "\n",
    "Prepping the data for plotting the next two charts"
   ]
  },
  {
   "cell_type": "code",
   "execution_count": null,
   "id": "5bbde409-e118-4036-bd81-529df3880fd3",
   "metadata": {},
   "outputs": [],
   "source": [
    "hours_since_data = prep_hours_since(data=goalies_game, schedule=schedule)"
   ]
  },
  {
   "cell_type": "markdown",
   "id": "11f52f82-3e1d-406c-8d05-9ed99ba3b72a",
   "metadata": {},
   "source": [
    "### Plotting Juuse Saros\n",
    "\n",
    "You can also change to plot to whichever goalie you prefer"
   ]
  },
  {
   "cell_type": "code",
   "execution_count": null,
   "id": "1ee530a0-edc9-4ab0-9008-25a1bb2361a2",
   "metadata": {},
   "outputs": [],
   "source": [
    "goalie = \"JUUSE.SAROS\"\n",
    "strengths = [\"5v5\"]\n",
    "\n",
    "fig_size = (8, 8)\n",
    "\n",
    "fig, ax = plt.subplots(figsize=fig_size, dpi=650)\n",
    "fig.tight_layout()\n",
    "sns.despine(right=False, top=False)\n",
    "\n",
    "goalie_df = goalies_season.loc[\n",
    "    np.logical_and(goalies_season.strength_state.isin(strengths), goalies_season.eh_id == goalie)\n",
    "]\n",
    "\n",
    "for idx, goalie in goalie_df.iterrows():\n",
    "    ax = plot_hours_since(data=hours_since_data, goalie=goalie, ax=ax, ax_title=\"\", x_label=True, y_label=True)\n",
    "\n",
    "title = \"Saros's worst games after long breaks\"\n",
    "\n",
    "fig.suptitle(title, ha=\"center\", va=\"center\", y=1.045, size=16, weight=\"heavy\")\n",
    "\n",
    "subtitle = f\"GSaX / 60 & hours since last game (bubbles sized for FA / 60) | 2024-25 season, as of {todays_date}\"\n",
    "fig.text(s=subtitle, ha=\"center\", va=\"center\", x=0.5, y=1.015, size=12)\n",
    "\n",
    "attribution = \"Data & xG model @chickenandstats | Viz @chickenandstats\"\n",
    "fig.text(s=attribution, ha=\"right\", va=\"center\", y=-0.1, x=0.95, size=10, style=\"italic\")\n",
    "\n",
    "fig.savefig(\"./charts/saros_gsax_hours_since.png\", dpi=650, bbox_inches=\"tight\", facecolor=\"white\")"
   ]
  },
  {
   "cell_type": "markdown",
   "id": "bbd39618-a2c2-4c84-870d-83d8757a5651",
   "metadata": {},
   "source": [
    "### Elite goalies\n",
    "\n",
    "Plotting performance and hours since last game for top-6 goalies"
   ]
  },
  {
   "cell_type": "code",
   "execution_count": null,
   "id": "edcd6971-ca6f-46fa-9751-e4b615381600",
   "metadata": {},
   "outputs": [],
   "source": [
    "## setting figure size\n",
    "\n",
    "fig_size = (15, 15)\n",
    "\n",
    "fig, axes = plt.subplots(3, 2, figsize=fig_size, dpi=650)\n",
    "\n",
    "fig.tight_layout(pad=5)\n",
    "\n",
    "axes = axes.reshape(-1)\n",
    "\n",
    "for idx, top_goalie in top_goalies.iterrows():\n",
    "    ax = axes[idx]\n",
    "\n",
    "    x_label = idx >= 4\n",
    "\n",
    "    y_label = idx in [0, 2, 4]\n",
    "\n",
    "    ax = plot_hours_since(data=hours_since_data, goalie=top_goalie, ax=ax, x_label=x_label, y_label=y_label)\n",
    "\n",
    "\n",
    "title = \"Top-6 goaltenders by cumulative goals saved above expected\"\n",
    "fig.suptitle(title, ha=\"center\", va=\"center\", y=1.027, size=24, weight=\"heavy\")\n",
    "\n",
    "todays_date = dt.datetime.now().strftime(\"%Y-%m-%d\")\n",
    "subtitle = f\"GSaX / 60 and hours since last game (bubbles sized for FA / 60), 5v5 | 2024-25 season, as of {todays_date}\"\n",
    "fig.text(s=subtitle, ha=\"center\", va=\"center\", x=0.5, y=1.001, size=18)\n",
    "\n",
    "\n",
    "# Attribution\n",
    "attribution = \"Data & xG model @chickenandstats.com | Viz @chickenandstats.com\"\n",
    "fig.text(s=attribution, x=0.99, y=-0.0125, fontsize=12, horizontalalignment=\"right\", style=\"italic\")\n",
    "\n",
    "fig.savefig(\"./charts/top_6_gsax_hours_since.png\", dpi=650, bbox_inches=\"tight\", facecolor=\"white\")"
   ]
  }
 ],
 "metadata": {
  "kernelspec": {
   "display_name": "Python 3 (ipykernel)",
   "language": "python",
   "name": "python3"
  },
  "language_info": {
   "codemirror_mode": {
    "name": "ipython",
    "version": 3
   },
   "file_extension": ".py",
   "mimetype": "text/x-python",
   "name": "python",
   "nbconvert_exporter": "python",
   "pygments_lexer": "ipython3",
   "version": "3.12.6"
  }
 },
 "nbformat": 4,
 "nbformat_minor": 5
}
