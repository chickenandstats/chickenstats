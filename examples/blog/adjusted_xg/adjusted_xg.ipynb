{
 "cells": [
  {
   "cell_type": "markdown",
   "id": "de9ef65a-3a57-495d-a8d7-f3ce19651703",
   "metadata": {},
   "source": [
    "---\n",
    "draft: true \n",
    "date: 2025-01-08\n",
    "description: \"Calculating adjusted xG coefficients\"\n",
    "slug: adjusted-xg\n",
    "---"
   ]
  },
  {
   "cell_type": "markdown",
   "id": "3650b926-2ae3-4023-a185-90d05641c96c",
   "metadata": {},
   "source": [
    "# **Calculating score- and venue-adjusted xG coefficients**"
   ]
  },
  {
   "cell_type": "markdown",
   "id": "8268e751-866f-47bf-9065-c8b6d71be942",
   "metadata": {},
   "source": [
    "---"
   ]
  },
  {
   "cell_type": "markdown",
   "id": "4f10bb4c-51dc-4e66-b955-bc1349683df3",
   "metadata": {},
   "source": [
    "## **Intro**\n",
    "\n",
    "Intro language here"
   ]
  },
  {
   "cell_type": "markdown",
   "id": "929e5d12-4ceb-429a-97e8-cf26277e9aba",
   "metadata": {},
   "source": [
    "---"
   ]
  },
  {
   "cell_type": "markdown",
   "id": "dc1a9bf5-19b3-4b64-9c0c-942eca0e475a",
   "metadata": {},
   "source": [
    "## **Housekeeping**"
   ]
  },
  {
   "cell_type": "markdown",
   "id": "c1bc8010-d709-42d4-a9cf-e8b5eaeac190",
   "metadata": {},
   "source": [
    "### Import dependencies\n",
    "\n",
    "Import the dependencies we'll need to simulate today's games"
   ]
  },
  {
   "cell_type": "code",
   "execution_count": null,
   "id": "8da752c1-c33c-432e-a648-94baa531c8ed",
   "metadata": {},
   "outputs": [],
   "source": [
    "import pandas as pd\n",
    "import numpy as np\n",
    "from scipy.stats import poisson\n",
    "\n",
    "import chickenstats\n",
    "\n",
    "from chickenstats.api import ChickenStats\n",
    "from chickenstats.utilities import ChickenProgress\n",
    "import chickenstats.utilities\n",
    "from chickenstats.chicken_nhl import Season, Scraper\n",
    "from chickenstats.chicken_nhl.scrape import Game\n",
    "\n",
    "from rich.progress import track\n",
    "\n",
    "from hockey_rink import NHLRink\n",
    "import matplotlib.pyplot as plt\n",
    "import matplotlib as mpl\n",
    "from matplotlib.lines import Line2D\n",
    "import matplotlib.patches as patches\n",
    "import matplotlib.patheffects as mpe\n",
    "import matplotlib.ticker as ticker\n",
    "import seaborn as sns\n",
    "\n",
    "from dotenv import load_dotenv\n",
    "from pathlib import Path\n",
    "\n",
    "import datetime as dt\n",
    "\n",
    "import math\n",
    "\n",
    "from typing import Optional"
   ]
  },
  {
   "cell_type": "markdown",
   "id": "d2da9239-f138-4d63-926f-edc5a9706f6a",
   "metadata": {},
   "source": [
    "### Pandas options\n",
    "\n",
    "Set different pandas options"
   ]
  },
  {
   "cell_type": "code",
   "execution_count": null,
   "id": "2a293d1f-e607-4e4d-9aa5-454fb1e2f87f",
   "metadata": {},
   "outputs": [],
   "source": [
    "pd.set_option(\"display.max_columns\", None)\n",
    "pd.set_option(\"display.max_rows\", 100)"
   ]
  },
  {
   "cell_type": "markdown",
   "id": "1629415e-6581-48fb-aa1e-eb46d8e7d928",
   "metadata": {},
   "source": [
    "### Load environment variables\n",
    "\n",
    "Load environment variables to access the chickenstats API"
   ]
  },
  {
   "cell_type": "code",
   "execution_count": null,
   "id": "5b4ac610-c489-446d-8a56-e1a1a22a21a4",
   "metadata": {},
   "outputs": [],
   "source": [
    "env_file = Path(\"../../.env\")\n",
    "load_dotenv(env_file)"
   ]
  },
  {
   "cell_type": "markdown",
   "id": "d119fe57-e294-4352-9ab4-e3bf633aa900",
   "metadata": {},
   "source": [
    "### Chickenstats matplotlib style\n",
    "\n",
    "chickenstats.utilities includes a custom style package - this activates it"
   ]
  },
  {
   "cell_type": "code",
   "execution_count": null,
   "id": "f003a1ac-a6eb-433e-81cc-63135c18ff40",
   "metadata": {},
   "outputs": [],
   "source": [
    "plt.style.use(\"chickenstats\")"
   ]
  },
  {
   "cell_type": "markdown",
   "id": "42013c20-f12f-4f5b-b9e7-0a643e6c39c2",
   "metadata": {},
   "source": [
    "---"
   ]
  },
  {
   "cell_type": "markdown",
   "id": "252f6613-bb7c-46d8-b274-59ea405850f5",
   "metadata": {},
   "source": [
    "## **Load data**"
   ]
  },
  {
   "cell_type": "code",
   "execution_count": null,
   "id": "10ecb104-2452-48ec-831c-846eb2df293a",
   "metadata": {},
   "outputs": [],
   "source": [
    "concat_list = []\n",
    "\n",
    "years = list(range(2023, 2009, -1))\n",
    "\n",
    "for year in track(years):\n",
    "    file_path = Path(\n",
    "        f\"../../../../chickenstats-api/data/chickenstats/raw/pbp/pbp_{year}.csv\"\n",
    "    )\n",
    "    raw_df = pd.read_csv(file_path, low_memory=False)\n",
    "\n",
    "    events = [\"GOAL\", \"SHOT\", \"MISS\", \"BLOCK\"]\n",
    "    raw_df = raw_df.loc[raw_df.event.isin(events)]\n",
    "\n",
    "    concat_list.append(raw_df)"
   ]
  },
  {
   "cell_type": "code",
   "execution_count": null,
   "id": "22e141bf-aa87-4325-9012-9aff0190014b",
   "metadata": {},
   "outputs": [],
   "source": [
    "shot_events_df = pd.concat(concat_list, ignore_index=True)"
   ]
  },
  {
   "cell_type": "code",
   "execution_count": null,
   "id": "62fbd234-7f36-497c-9027-caaaf46836aa",
   "metadata": {},
   "outputs": [],
   "source": [
    "def prepare_shots_data(play_by_play: pd.DataFrame, strength_state: str) -> pd.DataFrame:\n",
    "    \"\"\"Docstring.\"\"\"\n",
    "    condition = play_by_play.strength_state == strength_state\n",
    "    shots_data = play_by_play.loc[condition].reset_index(drop=True)\n",
    "\n",
    "    shots_data[\"strength_state2\"] = strength_state\n",
    "\n",
    "    condition = shots_data.block == 1\n",
    "    shots_data.event_team = np.where(\n",
    "        condition, shots_data.opp_team, shots_data.event_team\n",
    "    )\n",
    "\n",
    "    shots_data.block = shots_data.block + shots_data.teammate_block\n",
    "\n",
    "    conditions = [shots_data.home_score_diff < -3, shots_data.home_score_diff > 3]\n",
    "    values = [-3, 3]\n",
    "    shots_data.home_score_diff = np.select(\n",
    "        conditions, values, shots_data.home_score_diff\n",
    "    )\n",
    "\n",
    "    shots_data.is_home = np.where(shots_data.event_team == shots_data.home_team, 1, 0)\n",
    "\n",
    "    group_list = [\"strength_state2\", \"home_score_diff\", \"is_home\"]\n",
    "    agg_stats = {x: \"sum\" for x in [\"goal\", \"pred_goal\", \"shot\", \"miss\", \"block\"]}\n",
    "    shots_data = shots_data.groupby(group_list, as_index=False).agg(agg_stats)\n",
    "\n",
    "    shots_data[\"fenwick\"] = shots_data[[\"goal\", \"shot\", \"miss\"]].sum(axis=1)\n",
    "    shots_data[\"corsi\"] = shots_data[[\"goal\", \"shot\", \"miss\", \"block\"]].sum(axis=1)\n",
    "\n",
    "    agg_stats = {}\n",
    "\n",
    "    for stat in [\"goal\", \"pred_goal\", \"shot\", \"miss\", \"block\", \"fenwick\", \"corsi\"]:\n",
    "        shots_data[f\"home_{stat}\"] = np.where(\n",
    "            shots_data.is_home == 1, shots_data[stat], 0\n",
    "        )\n",
    "        shots_data[f\"away_{stat}\"] = np.where(\n",
    "            shots_data.is_home == 0, shots_data[stat], 0\n",
    "        )\n",
    "\n",
    "        agg_stats.update({f\"home_{stat}\": \"sum\", f\"away_{stat}\": \"sum\"})\n",
    "\n",
    "    shots_data = (\n",
    "        shots_data.groupby([\"strength_state2\", \"home_score_diff\"], as_index=False)\n",
    "        .agg(agg_stats)\n",
    "        .rename(columns={\"strength_state2\": \"strength_state\"})\n",
    "    )\n",
    "\n",
    "    return shots_data"
   ]
  },
  {
   "cell_type": "code",
   "execution_count": null,
   "id": "376a3bc3-deb2-4411-9338-31407b1299e3",
   "metadata": {},
   "outputs": [],
   "source": [
    "def calculate_weights(shots_data: pd.DataFrame) -> pd.DataFrame:\n",
    "    \"\"\"Docstring.\"\"\"\n",
    "    shots_data = shots_data.copy()\n",
    "\n",
    "    strength_state = shots_data.strength_state.unique()[0]\n",
    "\n",
    "    if strength_state in [\"5v5\", \"4v4\"]:\n",
    "        weight_columns = [\"fenwick\", \"corsi\"]\n",
    "\n",
    "        if strength_state == \"5v5\":\n",
    "            weight_columns.insert(0, \"shot\")\n",
    "\n",
    "        for weight_column in weight_columns:\n",
    "            mean_values = shots_data[\n",
    "                [f\"home_{weight_column}\", f\"away_{weight_column}\"]\n",
    "            ].mean(axis=1)\n",
    "\n",
    "            shots_data[f\"home_{weight_column}_weight\"] = (\n",
    "                mean_values / shots_data[f\"home_{weight_column}\"]\n",
    "            )\n",
    "            shots_data[f\"away_{weight_column}_weight\"] = (\n",
    "                mean_values / shots_data[f\"away_{weight_column}\"]\n",
    "            )\n",
    "\n",
    "    if strength_state in [\"5v5\", \"4v4\", \"5v4\", \"5v3\", \"4v3\", \"1v0\"]:\n",
    "        if strength_state == \"5v5\":\n",
    "            weight_columns = [\"goal\", \"pred_goal\"]\n",
    "\n",
    "        if strength_state == \"4v4\":\n",
    "            weight_columns = [\"shot\"]\n",
    "\n",
    "        if strength_state in [\"5v4\", \"5v3\", \"4v3\"]:\n",
    "            weight_columns = [\"goal\", \"pred_goal\", \"shot\", \"fenwick\", \"corsi\"]\n",
    "\n",
    "        if strength_state == \"1v0\":\n",
    "            weight_columns = [\"goal\"]\n",
    "\n",
    "        weight_groups = [\"trailing\", \"tied\", \"leading\"]\n",
    "        weight_group_conditions = [\n",
    "            shots_data.home_score_diff < 0,\n",
    "            shots_data.home_score_diff == 0,\n",
    "            shots_data.home_score_diff > 0,\n",
    "        ]\n",
    "\n",
    "        shots_data[\"score_diff_group\"] = np.select(\n",
    "            weight_group_conditions, weight_groups, default=\"\"\n",
    "        )\n",
    "\n",
    "        for weight_column in weight_columns:\n",
    "            group_mean = (\n",
    "                shots_data.groupby(\"score_diff_group\")[\n",
    "                    [f\"home_{weight_column}\", f\"away_{weight_column}\"]\n",
    "                ]\n",
    "                .transform(\"sum\")[[f\"home_{weight_column}\", f\"away_{weight_column}\"]]\n",
    "                .sum(axis=1)\n",
    "            ) / 2\n",
    "\n",
    "            group_home = shots_data.groupby(\"score_diff_group\")[\n",
    "                f\"home_{weight_column}\"\n",
    "            ].transform(\"sum\")\n",
    "\n",
    "            group_away = shots_data.groupby(\"score_diff_group\")[\n",
    "                f\"away_{weight_column}\"\n",
    "            ].transform(\"sum\")\n",
    "\n",
    "            shots_data[f\"home_{weight_column}_weight\"] = group_mean / group_home\n",
    "            shots_data[f\"away_{weight_column}_weight\"] = group_mean / group_away\n",
    "\n",
    "    if strength_state in [\"4v4\", \"3v3\"]:\n",
    "        if strength_state == \"4v4\":\n",
    "            weight_columns = [\"goal\", \"pred_goal\"]\n",
    "\n",
    "        if strength_state == \"3v3\":\n",
    "            weight_columns = [\"goal\", \"pred_goal\", \"shot\", \"fenwick\", \"corsi\"]\n",
    "\n",
    "        for weight_column in weight_columns:\n",
    "            group_mean = (\n",
    "                shots_data.groupby(\"strength_state\")[\n",
    "                    [f\"home_{weight_column}\", f\"away_{weight_column}\"]\n",
    "                ]\n",
    "                .transform(\"sum\")[[f\"home_{weight_column}\", f\"away_{weight_column}\"]]\n",
    "                .sum(axis=1)\n",
    "            ) / 2\n",
    "\n",
    "            group_home = shots_data.groupby(\"strength_state\")[\n",
    "                f\"home_{weight_column}\"\n",
    "            ].transform(\"sum\")\n",
    "\n",
    "            group_away = shots_data.groupby(\"strength_state\")[\n",
    "                f\"away_{weight_column}\"\n",
    "            ].transform(\"sum\")\n",
    "\n",
    "            shots_data[f\"home_{weight_column}_weight\"] = group_mean / group_home\n",
    "            shots_data[f\"away_{weight_column}_weight\"] = group_mean / group_away\n",
    "\n",
    "    return shots_data"
   ]
  },
  {
   "cell_type": "code",
   "execution_count": null,
   "id": "cf086042-f094-4e7e-9686-2226d84f028f",
   "metadata": {},
   "outputs": [],
   "source": [
    "concat_list = []\n",
    "\n",
    "strength_states = [\"5v5\", \"4v4\", \"3v3\", \"5v4\", \"5v3\", \"4v3\", \"1v0\"]\n",
    "\n",
    "for strength_state in strength_states:\n",
    "    shots_data = prepare_shots_data(\n",
    "        play_by_play=shot_events_df, strength_state=strength_state\n",
    "    )\n",
    "\n",
    "    weights = calculate_weights(shots_data=shots_data)\n",
    "\n",
    "    concat_list.append(weights)"
   ]
  },
  {
   "cell_type": "code",
   "execution_count": null,
   "id": "7d3e46f8-da3c-4e97-a438-ed74dafc1218",
   "metadata": {},
   "outputs": [],
   "source": [
    "test = pd.concat(concat_list, ignore_index=True)"
   ]
  },
  {
   "cell_type": "code",
   "execution_count": null,
   "id": "89f1d1b9-d11a-4f20-8795-db327bb849be",
   "metadata": {},
   "outputs": [],
   "source": [
    "columns = [\n",
    "    \"strength_state\",\n",
    "    \"home_score_diff\",\n",
    "    \"score_diff_group\",\n",
    "    \"home_goal_weight\",\n",
    "    \"away_goal_weight\",\n",
    "    \"home_pred_goal_weight\",\n",
    "    \"away_pred_goal_weight\",\n",
    "    \"home_shot_weight\",\n",
    "    \"away_shot_weight\",\n",
    "    \"home_fenwick_weight\",\n",
    "    \"away_fenwick_weight\",\n",
    "    \"home_corsi_weight\",\n",
    "    \"away_corsi_weight\",\n",
    "    \"home_goal\",\n",
    "    \"away_goal\",\n",
    "    \"home_pred_goal\",\n",
    "    \"away_pred_goal\",\n",
    "    \"home_shot\",\n",
    "    \"away_shot\",\n",
    "    \"home_miss\",\n",
    "    \"away_miss\",\n",
    "    \"home_block\",\n",
    "    \"away_block\",\n",
    "    \"home_fenwick\",\n",
    "    \"away_fenwick\",\n",
    "    \"home_corsi\",\n",
    "    \"away_corsi\",\n",
    "]\n",
    "\n",
    "weights_dict = test[columns].to_dict(orient=\"records\")"
   ]
  },
  {
   "cell_type": "code",
   "execution_count": null,
   "id": "a12c0b25-1697-41b4-b093-1353d1b75be0",
   "metadata": {},
   "outputs": [],
   "source": [
    "weights_dict = {}\n",
    "\n",
    "strength_states = test.strength_state.unique().tolist()\n",
    "\n",
    "for strength_state in strength_states:\n",
    "    score_states = (\n",
    "        test.loc[test.strength_state == strength_state]\n",
    "        .home_score_diff.unique()\n",
    "        .tolist()\n",
    "    )\n",
    "\n",
    "    score_state_dict = {}\n",
    "\n",
    "    for score_state in score_states:\n",
    "        conditions = np.logical_and(\n",
    "            test.strength_state == strength_state, test.home_score_diff == score_state\n",
    "        )\n",
    "        data = test.loc[conditions].iloc[0]\n",
    "\n",
    "        columns = [\n",
    "            \"score_diff_group\",\n",
    "            \"home_goal_weight\",\n",
    "            \"away_goal_weight\",\n",
    "            \"home_pred_goal_weight\",\n",
    "            \"away_pred_goal_weight\",\n",
    "            \"home_shot_weight\",\n",
    "            \"away_shot_weight\",\n",
    "            \"home_fenwick_weight\",\n",
    "            \"away_fenwick_weight\",\n",
    "            \"home_corsi_weight\",\n",
    "            \"away_corsi_weight\",\n",
    "            \"home_goal\",\n",
    "            \"away_goal\",\n",
    "            \"home_pred_goal\",\n",
    "            \"away_pred_goal\",\n",
    "            \"home_shot\",\n",
    "            \"away_shot\",\n",
    "            \"home_miss\",\n",
    "            \"away_miss\",\n",
    "            \"home_block\",\n",
    "            \"away_block\",\n",
    "            \"home_fenwick\",\n",
    "            \"away_fenwick\",\n",
    "            \"home_corsi\",\n",
    "            \"away_corsi\",\n",
    "        ]\n",
    "\n",
    "        score_state_dict.update({score_state: {x: data[x] for x in columns}})\n",
    "\n",
    "    strength_state_dict = {strength_state: score_state_dict}\n",
    "\n",
    "    weights_dict.update(strength_state_dict)"
   ]
  },
  {
   "cell_type": "code",
   "execution_count": null,
   "id": "335356de-d629-46fc-a3e4-0a40ab19c049",
   "metadata": {},
   "outputs": [],
   "source": [
    "import pickle"
   ]
  },
  {
   "cell_type": "code",
   "execution_count": null,
   "id": "8ba21b9a-6b25-49d0-a660-ebea5163febb",
   "metadata": {},
   "outputs": [],
   "source": [
    "with open(\"score_adjustments.pkl\", \"wb\") as f:\n",
    "    pickle.dump(weights_dict, f)"
   ]
  },
  {
   "cell_type": "code",
   "execution_count": null,
   "id": "9c38e454-2953-460a-a939-1163438e8d26",
   "metadata": {},
   "outputs": [],
   "source": [
    "with open(\"score_adjustments.pkl\", \"rb\") as f:\n",
    "    test_pickle = pickle.load(f)"
   ]
  },
  {
   "cell_type": "code",
   "execution_count": null,
   "id": "3c4a90cf-98b2-41ca-83a2-5134195b5344",
   "metadata": {},
   "outputs": [],
   "source": [
    "season = Season(2024)\n",
    "schedule = season.schedule(\"NSH\")\n",
    "\n",
    "game_ids = schedule.loc[schedule.game_state == \"OFF\"].game_id.tolist()\n",
    "game_id = game_ids[0]"
   ]
  },
  {
   "cell_type": "code",
   "execution_count": null,
   "id": "3f531786-cb0a-42d0-8cca-639a21b3cdaa",
   "metadata": {},
   "outputs": [],
   "source": [
    "scraper = Scraper(game_ids)"
   ]
  },
  {
   "cell_type": "code",
   "execution_count": null,
   "id": "6157613b-f52d-413d-993a-ed1a3074eea3",
   "metadata": {},
   "outputs": [],
   "source": [
    "pbp = scraper.play_by_play"
   ]
  },
  {
   "cell_type": "code",
   "execution_count": null,
   "id": "80a8b7d2-f4d2-4f24-86cd-cf8e5b434696",
   "metadata": {},
   "outputs": [],
   "source": [
    "scraper.prep_stats(level=\"season\")\n",
    "stats = scraper.stats.copy()"
   ]
  },
  {
   "cell_type": "code",
   "execution_count": null,
   "id": "c6dedf93-cd1f-4cbe-83bb-e7a21437c75b",
   "metadata": {},
   "outputs": [],
   "source": [
    "pbp.pred_goal_adj.max()"
   ]
  },
  {
   "cell_type": "code",
   "execution_count": null,
   "id": "3e74f33b-d126-4a82-8864-5e100b36dc5a",
   "metadata": {},
   "outputs": [],
   "source": [
    "stats.columns.tolist()"
   ]
  }
 ],
 "metadata": {
  "kernelspec": {
   "display_name": "Python 3 (ipykernel)",
   "language": "python",
   "name": "python3"
  },
  "language_info": {
   "codemirror_mode": {
    "name": "ipython",
    "version": 3
   },
   "file_extension": ".py",
   "mimetype": "text/x-python",
   "name": "python",
   "nbconvert_exporter": "python",
   "pygments_lexer": "ipython3",
   "version": "3.12.6"
  }
 },
 "nbformat": 4,
 "nbformat_minor": 5
}
