{
 "cells": [
  {
   "cell_type": "markdown",
   "id": "de9ef65a-3a57-495d-a8d7-f3ce19651703",
   "metadata": {},
   "source": [
    "---\n",
    "draft: true \n",
    "date: 2025-01-08\n",
    "description: \"Calculating adjusted xG coefficients\"\n",
    "slug: adjusted-xg\n",
    "---"
   ]
  },
  {
   "cell_type": "markdown",
   "id": "3650b926-2ae3-4023-a185-90d05641c96c",
   "metadata": {},
   "source": [
    "# **Calculating score- and venue-adjusted xG coefficients**"
   ]
  },
  {
   "cell_type": "markdown",
   "id": "8268e751-866f-47bf-9065-c8b6d71be942",
   "metadata": {},
   "source": [
    "---"
   ]
  },
  {
   "cell_type": "markdown",
   "id": "4f10bb4c-51dc-4e66-b955-bc1349683df3",
   "metadata": {},
   "source": [
    "## **Intro**\n",
    "\n",
    "Intro language here"
   ]
  },
  {
   "cell_type": "markdown",
   "id": "929e5d12-4ceb-429a-97e8-cf26277e9aba",
   "metadata": {},
   "source": [
    "---"
   ]
  },
  {
   "cell_type": "markdown",
   "id": "dc1a9bf5-19b3-4b64-9c0c-942eca0e475a",
   "metadata": {},
   "source": [
    "## **Housekeeping**"
   ]
  },
  {
   "cell_type": "markdown",
   "id": "c1bc8010-d709-42d4-a9cf-e8b5eaeac190",
   "metadata": {},
   "source": [
    "### Import dependencies\n",
    "\n",
    "Import the dependencies we'll need to simulate today's games"
   ]
  },
  {
   "cell_type": "code",
   "execution_count": null,
   "id": "8da752c1-c33c-432e-a648-94baa531c8ed",
   "metadata": {},
   "outputs": [],
   "source": [
    "import datetime as dt\n",
    "import math\n",
    "import pickle\n",
    "from pathlib import Path\n",
    "from typing import Optional\n",
    "\n",
    "import matplotlib as mpl\n",
    "import matplotlib.patches as patches\n",
    "import matplotlib.patheffects as mpe\n",
    "import matplotlib.pyplot as plt\n",
    "import matplotlib.ticker as ticker\n",
    "import numpy as np\n",
    "import pandas as pd\n",
    "import seaborn as sns\n",
    "from dotenv import load_dotenv\n",
    "from hockey_rink import NHLRink\n",
    "from matplotlib.lines import Line2D\n",
    "from rich.progress import track\n",
    "from scipy.stats import poisson\n",
    "\n",
    "import chickenstats\n",
    "import chickenstats.utilities\n",
    "from chickenstats.api import ChickenStats\n",
    "from chickenstats.chicken_nhl import Scraper, Season\n",
    "from chickenstats.chicken_nhl.scrape import Game\n",
    "from chickenstats.utilities import ChickenProgress"
   ]
  },
  {
   "cell_type": "markdown",
   "id": "d2da9239-f138-4d63-926f-edc5a9706f6a",
   "metadata": {},
   "source": [
    "### Pandas options\n",
    "\n",
    "Set different pandas options"
   ]
  },
  {
   "cell_type": "code",
   "execution_count": null,
   "id": "2a293d1f-e607-4e4d-9aa5-454fb1e2f87f",
   "metadata": {},
   "outputs": [],
   "source": [
    "pd.set_option(\"display.max_columns\", None)\n",
    "pd.set_option(\"display.max_rows\", 100)"
   ]
  },
  {
   "cell_type": "markdown",
   "id": "1629415e-6581-48fb-aa1e-eb46d8e7d928",
   "metadata": {},
   "source": [
    "### Load environment variables\n",
    "\n",
    "Load environment variables to access the chickenstats API"
   ]
  },
  {
   "cell_type": "code",
   "execution_count": null,
   "id": "5b4ac610-c489-446d-8a56-e1a1a22a21a4",
   "metadata": {},
   "outputs": [],
   "source": [
    "env_file = Path(\"../../.env\")\n",
    "load_dotenv(env_file)"
   ]
  },
  {
   "cell_type": "markdown",
   "id": "d119fe57-e294-4352-9ab4-e3bf633aa900",
   "metadata": {},
   "source": [
    "### Chickenstats matplotlib style\n",
    "\n",
    "chickenstats.utilities includes a custom style package - this activates it"
   ]
  },
  {
   "cell_type": "code",
   "execution_count": null,
   "id": "f003a1ac-a6eb-433e-81cc-63135c18ff40",
   "metadata": {},
   "outputs": [],
   "source": [
    "plt.style.use(\"chickenstats\")"
   ]
  },
  {
   "cell_type": "markdown",
   "id": "42013c20-f12f-4f5b-b9e7-0a643e6c39c2",
   "metadata": {},
   "source": [
    "---"
   ]
  },
  {
   "cell_type": "markdown",
   "id": "252f6613-bb7c-46d8-b274-59ea405850f5",
   "metadata": {},
   "source": [
    "## **Load data**"
   ]
  },
  {
   "cell_type": "code",
   "execution_count": null,
   "id": "10ecb104-2452-48ec-831c-846eb2df293a",
   "metadata": {},
   "outputs": [],
   "source": [
    "concat_list = []\n",
    "\n",
    "years = list(range(2023, 2009, -1))\n",
    "\n",
    "for year in track(years):\n",
    "    file_path = Path(f\"../../../../chickenstats-api/data/chickenstats/raw/pbp/pbp_{year}.csv\")\n",
    "    raw_df = pd.read_csv(file_path, low_memory=False)\n",
    "\n",
    "    events = [\"GOAL\", \"SHOT\", \"MISS\", \"BLOCK\"]\n",
    "    raw_df = raw_df.loc[raw_df.event.isin(events)]\n",
    "\n",
    "    concat_list.append(raw_df)"
   ]
  },
  {
   "cell_type": "code",
   "execution_count": null,
   "id": "22e141bf-aa87-4325-9012-9aff0190014b",
   "metadata": {},
   "outputs": [],
   "source": [
    "shot_events_df = pd.concat(concat_list, ignore_index=True)"
   ]
  },
  {
   "cell_type": "code",
   "execution_count": null,
   "id": "62fbd234-7f36-497c-9027-caaaf46836aa",
   "metadata": {},
   "outputs": [],
   "source": [
    "def prepare_shots_data(play_by_play: pd.DataFrame, strength_state: str) -> pd.DataFrame:\n",
    "    \"\"\"Docstring.\"\"\"\n",
    "    condition = play_by_play.strength_state == strength_state\n",
    "    shots_data = play_by_play.loc[condition].reset_index(drop=True)\n",
    "\n",
    "    shots_data[\"strength_state2\"] = strength_state\n",
    "\n",
    "    condition = shots_data.block == 1\n",
    "    shots_data.event_team = np.where(condition, shots_data.opp_team, shots_data.event_team)\n",
    "\n",
    "    shots_data.block = shots_data.block + shots_data.teammate_block\n",
    "\n",
    "    conditions = [shots_data.home_score_diff < -3, shots_data.home_score_diff > 3]\n",
    "    values = [-3, 3]\n",
    "    shots_data.home_score_diff = np.select(conditions, values, shots_data.home_score_diff)\n",
    "\n",
    "    shots_data.is_home = np.where(shots_data.event_team == shots_data.home_team, 1, 0)\n",
    "\n",
    "    group_list = [\"strength_state2\", \"home_score_diff\", \"is_home\"]\n",
    "    agg_stats = {x: \"sum\" for x in [\"goal\", \"pred_goal\", \"shot\", \"miss\", \"block\"]}\n",
    "    shots_data = shots_data.groupby(group_list, as_index=False).agg(agg_stats)\n",
    "\n",
    "    shots_data[\"fenwick\"] = shots_data[[\"goal\", \"shot\", \"miss\"]].sum(axis=1)\n",
    "    shots_data[\"corsi\"] = shots_data[[\"goal\", \"shot\", \"miss\", \"block\"]].sum(axis=1)\n",
    "\n",
    "    agg_stats = {}\n",
    "\n",
    "    for stat in [\"goal\", \"pred_goal\", \"shot\", \"miss\", \"block\", \"fenwick\", \"corsi\"]:\n",
    "        shots_data[f\"home_{stat}\"] = np.where(shots_data.is_home == 1, shots_data[stat], 0)\n",
    "        shots_data[f\"away_{stat}\"] = np.where(shots_data.is_home == 0, shots_data[stat], 0)\n",
    "\n",
    "        agg_stats.update({f\"home_{stat}\": \"sum\", f\"away_{stat}\": \"sum\"})\n",
    "\n",
    "    shots_data = (\n",
    "        shots_data.groupby([\"strength_state2\", \"home_score_diff\"], as_index=False)\n",
    "        .agg(agg_stats)\n",
    "        .rename(columns={\"strength_state2\": \"strength_state\"})\n",
    "    )\n",
    "\n",
    "    concat_list = [shots_data]\n",
    "\n",
    "    for stat in [\"goal\", \"pred_goal\", \"shot\", \"miss\", \"block\", \"fenwick\", \"corsi\"]:\n",
    "        series_name = f\"home_{stat}_percent\"\n",
    "        home_stat_percent = shots_data[f\"home_{stat}\"] / (shots_data[f\"home_{stat}\"] + shots_data[f\"away_{stat}\"])\n",
    "        concat_list.append(pd.Series(data=home_stat_percent, index=shots_data.index, name=series_name))\n",
    "\n",
    "    shots_data = pd.concat(concat_list, axis=1)\n",
    "\n",
    "    return shots_data"
   ]
  },
  {
   "cell_type": "code",
   "execution_count": null,
   "id": "376a3bc3-deb2-4411-9338-31407b1299e3",
   "metadata": {},
   "outputs": [],
   "source": [
    "def calculate_weights(shots_data: pd.DataFrame) -> pd.DataFrame:\n",
    "    \"\"\"Docstring.\"\"\"\n",
    "    shots_data = shots_data.copy()\n",
    "\n",
    "    strength_state = shots_data.strength_state.unique()[0]\n",
    "\n",
    "    if strength_state in [\"5v5\", \"4v4\"]:\n",
    "        weight_columns = [\"fenwick\", \"corsi\"]\n",
    "\n",
    "        if strength_state == \"5v5\":\n",
    "            weight_columns.insert(0, \"shot\")\n",
    "\n",
    "        for weight_column in weight_columns:\n",
    "            mean_values = shots_data[[f\"home_{weight_column}\", f\"away_{weight_column}\"]].mean(axis=1)\n",
    "\n",
    "            shots_data[f\"home_{weight_column}_weight\"] = mean_values / shots_data[f\"home_{weight_column}\"]\n",
    "            shots_data[f\"away_{weight_column}_weight\"] = mean_values / shots_data[f\"away_{weight_column}\"]\n",
    "\n",
    "    if strength_state in [\"5v5\", \"4v4\", \"5v4\", \"5v3\", \"4v3\", \"1v0\"]:\n",
    "        if strength_state == \"5v5\":\n",
    "            weight_columns = [\"goal\", \"pred_goal\"]\n",
    "\n",
    "        if strength_state == \"4v4\":\n",
    "            weight_columns = [\"shot\"]\n",
    "\n",
    "        if strength_state in [\"5v4\", \"5v3\", \"4v3\"]:\n",
    "            weight_columns = [\"goal\", \"pred_goal\", \"shot\", \"fenwick\", \"corsi\"]\n",
    "\n",
    "        if strength_state == \"1v0\":\n",
    "            weight_columns = [\"goal\"]\n",
    "\n",
    "        weight_groups = [\"trailing\", \"tied\", \"leading\"]\n",
    "        weight_group_conditions = [\n",
    "            shots_data.home_score_diff < 0,\n",
    "            shots_data.home_score_diff == 0,\n",
    "            shots_data.home_score_diff > 0,\n",
    "        ]\n",
    "\n",
    "        shots_data[\"score_diff_group\"] = np.select(weight_group_conditions, weight_groups, default=\"\")\n",
    "\n",
    "        for weight_column in weight_columns:\n",
    "            group_mean = (\n",
    "                shots_data.groupby(\"score_diff_group\")[[f\"home_{weight_column}\", f\"away_{weight_column}\"]]\n",
    "                .transform(\"sum\")[[f\"home_{weight_column}\", f\"away_{weight_column}\"]]\n",
    "                .sum(axis=1)\n",
    "            ) / 2\n",
    "\n",
    "            group_home = shots_data.groupby(\"score_diff_group\")[f\"home_{weight_column}\"].transform(\"sum\")\n",
    "\n",
    "            group_away = shots_data.groupby(\"score_diff_group\")[f\"away_{weight_column}\"].transform(\"sum\")\n",
    "\n",
    "            shots_data[f\"home_{weight_column}_weight\"] = group_mean / group_home\n",
    "            shots_data[f\"away_{weight_column}_weight\"] = group_mean / group_away\n",
    "\n",
    "    if strength_state in [\"4v4\", \"3v3\"]:\n",
    "        if strength_state == \"4v4\":\n",
    "            weight_columns = [\"goal\", \"pred_goal\"]\n",
    "\n",
    "        if strength_state == \"3v3\":\n",
    "            weight_columns = [\"goal\", \"pred_goal\", \"shot\", \"fenwick\", \"corsi\"]\n",
    "\n",
    "        for weight_column in weight_columns:\n",
    "            group_mean = (\n",
    "                shots_data.groupby(\"strength_state\")[[f\"home_{weight_column}\", f\"away_{weight_column}\"]]\n",
    "                .transform(\"sum\")[[f\"home_{weight_column}\", f\"away_{weight_column}\"]]\n",
    "                .sum(axis=1)\n",
    "            ) / 2\n",
    "\n",
    "            group_home = shots_data.groupby(\"strength_state\")[f\"home_{weight_column}\"].transform(\"sum\")\n",
    "\n",
    "            group_away = shots_data.groupby(\"strength_state\")[f\"away_{weight_column}\"].transform(\"sum\")\n",
    "\n",
    "            shots_data[f\"home_{weight_column}_weight\"] = group_mean / group_home\n",
    "            shots_data[f\"away_{weight_column}_weight\"] = group_mean / group_away\n",
    "\n",
    "    return shots_data"
   ]
  },
  {
   "cell_type": "code",
   "execution_count": null,
   "id": "cf086042-f094-4e7e-9686-2226d84f028f",
   "metadata": {},
   "outputs": [],
   "source": [
    "concat_list = []\n",
    "\n",
    "strength_states = [\"5v5\", \"4v4\", \"3v3\", \"5v4\", \"5v3\", \"4v3\", \"1v0\"]\n",
    "\n",
    "for strength_state in strength_states:\n",
    "    shots_data = prepare_shots_data(play_by_play=shot_events_df, strength_state=strength_state)\n",
    "\n",
    "    weights = calculate_weights(shots_data=shots_data)\n",
    "\n",
    "    concat_list.append(weights)"
   ]
  },
  {
   "cell_type": "code",
   "execution_count": null,
   "id": "7d3e46f8-da3c-4e97-a438-ed74dafc1218",
   "metadata": {},
   "outputs": [],
   "source": [
    "columns = [\n",
    "    \"strength_state\",\n",
    "    \"score_diff_group\",\n",
    "    \"home_score_diff\",\n",
    "    \"home_goal_weight\",\n",
    "    \"away_goal_weight\",\n",
    "    \"home_goal\",\n",
    "    \"away_goal\",\n",
    "    \"home_goal_percent\",\n",
    "    \"home_pred_goal_weight\",\n",
    "    \"away_pred_goal_weight\",\n",
    "    \"home_pred_goal\",\n",
    "    \"away_pred_goal\",\n",
    "    \"home_pred_goal_percent\",\n",
    "    \"home_shot_weight\",\n",
    "    \"away_shot_weight\",\n",
    "    \"home_shot\",\n",
    "    \"away_shot\",\n",
    "    \"home_shot_percent\",\n",
    "    \"home_miss\",\n",
    "    \"away_miss\",\n",
    "    \"home_miss_percent\",\n",
    "    \"home_block\",\n",
    "    \"away_block\",\n",
    "    \"home_block_percent\",\n",
    "    \"home_fenwick_weight\",\n",
    "    \"away_fenwick_weight\",\n",
    "    \"home_fenwick\",\n",
    "    \"away_fenwick\",\n",
    "    \"home_fenwick_percent\",\n",
    "    \"home_corsi_weight\",\n",
    "    \"away_corsi_weight\",\n",
    "    \"home_corsi\",\n",
    "    \"away_corsi\",\n",
    "    \"home_corsi_percent\",\n",
    "]\n",
    "\n",
    "test = pd.concat(concat_list, ignore_index=True)[columns]"
   ]
  },
  {
   "cell_type": "code",
   "execution_count": null,
   "id": "a639db65-3fbe-4c8b-82b6-fba2ad7e19bc",
   "metadata": {},
   "outputs": [],
   "source": [
    "test"
   ]
  },
  {
   "cell_type": "code",
   "execution_count": null,
   "id": "a12c0b25-1697-41b4-b093-1353d1b75be0",
   "metadata": {},
   "outputs": [],
   "source": [
    "weights_dict = {}\n",
    "\n",
    "strength_states = test.strength_state.unique().tolist()\n",
    "\n",
    "for strength_state in strength_states:\n",
    "    score_states = test.loc[test.strength_state == strength_state].home_score_diff.unique().tolist()\n",
    "\n",
    "    score_state_dict = {}\n",
    "\n",
    "    for score_state in score_states:\n",
    "        conditions = np.logical_and(test.strength_state == strength_state, test.home_score_diff == score_state)\n",
    "        data = test.loc[conditions].iloc[0]\n",
    "\n",
    "        columns = [\n",
    "            \"score_diff_group\",\n",
    "            \"home_score_diff\",\n",
    "            \"home_goal_weight\",\n",
    "            \"away_goal_weight\",\n",
    "            \"home_goal\",\n",
    "            \"away_goal\",\n",
    "            \"home_goal_percent\",\n",
    "            \"home_pred_goal_weight\",\n",
    "            \"away_pred_goal_weight\",\n",
    "            \"home_pred_goal\",\n",
    "            \"away_pred_goal\",\n",
    "            \"home_pred_goal_percent\",\n",
    "            \"home_shot_weight\",\n",
    "            \"away_shot_weight\",\n",
    "            \"home_shot\",\n",
    "            \"away_shot\",\n",
    "            \"home_shot_percent\",\n",
    "            \"home_miss\",\n",
    "            \"away_miss\",\n",
    "            \"home_miss_percent\",\n",
    "            \"home_block\",\n",
    "            \"away_block\",\n",
    "            \"home_block_percent\",\n",
    "            \"home_fenwick_weight\",\n",
    "            \"away_fenwick_weight\",\n",
    "            \"home_fenwick\",\n",
    "            \"away_fenwick\",\n",
    "            \"home_fenwick_percent\",\n",
    "            \"home_corsi_weight\",\n",
    "            \"away_corsi_weight\",\n",
    "            \"home_corsi\",\n",
    "            \"away_corsi\",\n",
    "            \"home_corsi_percent\",\n",
    "        ]\n",
    "\n",
    "        score_state_dict.update({score_state: {x: data[x] for x in columns}})\n",
    "\n",
    "    strength_state_dict = {strength_state: score_state_dict}\n",
    "\n",
    "    weights_dict.update(strength_state_dict)"
   ]
  },
  {
   "cell_type": "raw",
   "id": "96c8d3a0-746a-4974-9b7e-d1cd280b40c4",
   "metadata": {},
   "source": [
    "with open(\"score_adjustments.pkl\", \"wb\") as f:\n",
    "    pickle.dump(weights_dict, f)"
   ]
  },
  {
   "cell_type": "raw",
   "id": "b19adb82-bc57-4025-8857-6c1c01cf98f1",
   "metadata": {},
   "source": [
    "with open(\"score_adjustments.pkl\", \"rb\") as f:\n",
    "    test_pickle = pickle.load(f)"
   ]
  },
  {
   "cell_type": "code",
   "execution_count": null,
   "id": "49f9472c-00e0-45ad-b29e-170b66242922",
   "metadata": {},
   "outputs": [],
   "source": [
    "weights_dict"
   ]
  },
  {
   "cell_type": "code",
   "execution_count": null,
   "id": "8c7f45bd-ad25-4949-9464-16343f983381",
   "metadata": {},
   "outputs": [],
   "source": [
    "strength_states = test.strength_state.unique().tolist()"
   ]
  },
  {
   "cell_type": "code",
   "execution_count": null,
   "id": "a77c1a20-9579-4695-9201-e1c641e778f0",
   "metadata": {},
   "outputs": [],
   "source": [
    "strength_state = strength_states[0]\n",
    "\n",
    "test.loc[test.strength_state == strength_state]"
   ]
  },
  {
   "cell_type": "code",
   "execution_count": null,
   "id": "ab9b6141-c969-4ce8-ab22-122b74766680",
   "metadata": {},
   "outputs": [],
   "source": [
    "def process_plot_data(data: pd.DataFrame, strength_state: str) -> pd.DataFrame:\n",
    "    \"\"\"Docstring.\"\"\"\n",
    "    condition = data.strength_state == strength_state\n",
    "\n",
    "    df = data.loc[condition].reset_index(drop=True)\n",
    "\n",
    "    index_columns = [\"strength_state\", \"score_diff_group\", \"home_score_diff\"]\n",
    "\n",
    "    home_columns = [\n",
    "        x for x in df.columns if x in index_columns or (\"home\" in x and \"percent\" not in x and \"weight\" not in x)\n",
    "    ]\n",
    "    away_columns = [\n",
    "        x for x in df.columns if x in index_columns or (\"away\" in x and \"percent\" not in x and \"weight\" not in x)\n",
    "    ]\n",
    "\n",
    "    home_data = df[home_columns].copy()\n",
    "    home_data[\"is_home\"] = 1\n",
    "    home_data = home_data.rename(columns={x: x.replace(\"home_\", \"\") for x in home_columns if x != \"home_score_diff\"})\n",
    "\n",
    "    away_data = df[away_columns].copy()\n",
    "    away_data[\"is_home\"] = 0\n",
    "    away_data = away_data.rename(columns={x: x.replace(\"away_\", \"\") for x in away_columns})\n",
    "\n",
    "    df = pd.concat([home_data, away_data], ignore_index=True).sort_values(\n",
    "        by=[\"home_score_diff\", \"is_home\"], ascending=[True, False]\n",
    "    )\n",
    "\n",
    "    return df"
   ]
  },
  {
   "cell_type": "code",
   "execution_count": null,
   "id": "2df2072d-af24-40f4-8b76-4981d3ca46e2",
   "metadata": {},
   "outputs": [],
   "source": [
    "plot_data = process_plot_data(data=test, strength_state=\"5v5\")"
   ]
  },
  {
   "cell_type": "code",
   "execution_count": null,
   "id": "b4192bb3-42a2-4bb8-99fd-628124b4cd1a",
   "metadata": {},
   "outputs": [],
   "source": [
    "plot_data"
   ]
  },
  {
   "cell_type": "code",
   "execution_count": null,
   "id": "b1454668-cf56-4429-a046-66dd730d7e07",
   "metadata": {},
   "outputs": [],
   "source": [
    "test"
   ]
  }
 ],
 "metadata": {
  "kernelspec": {
   "display_name": "Python 3 (ipykernel)",
   "language": "python",
   "name": "python3"
  },
  "language_info": {
   "codemirror_mode": {
    "name": "ipython",
    "version": 3
   },
   "file_extension": ".py",
   "mimetype": "text/x-python",
   "name": "python",
   "nbconvert_exporter": "python",
   "pygments_lexer": "ipython3",
   "version": "3.12.6"
  }
 },
 "nbformat": 4,
 "nbformat_minor": 5
}
