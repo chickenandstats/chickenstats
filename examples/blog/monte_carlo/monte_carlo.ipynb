{
 "cells": [
  {
   "cell_type": "markdown",
   "id": "c94aaed5fc1b3b99",
   "metadata": {},
   "source": [
    "---\n",
    "draft: true \n",
    "date: 2025-01-08\n",
    "description: \"Simulating today's hockey games with the chickenstats library\"\n",
    "slug: monte-carlo\n",
    "---"
   ]
  },
  {
   "cell_type": "markdown",
   "id": "d7d048b18be5865b",
   "metadata": {},
   "source": [
    "# **Monte carlo simulations of today's hockey games**"
   ]
  },
  {
   "cell_type": "markdown",
   "id": "d1ff78e78032dc8",
   "metadata": {},
   "source": [
    "---"
   ]
  },
  {
   "cell_type": "markdown",
   "id": "3ee69db6a7753201",
   "metadata": {},
   "source": [
    "## **Intro**\n",
    "\n",
    "Intro language here"
   ]
  },
  {
   "cell_type": "markdown",
   "id": "88f7b59115d761f1",
   "metadata": {},
   "source": [
    "---"
   ]
  },
  {
   "cell_type": "markdown",
   "id": "20fe2df343610dc",
   "metadata": {},
   "source": [
    "## **Housekeeping**"
   ]
  },
  {
   "cell_type": "markdown",
   "id": "525a0a7f19816f82",
   "metadata": {},
   "source": [
    "### Import dependencies\n",
    "\n",
    "Import the dependencies we'll need to simulate today's games"
   ]
  },
  {
   "cell_type": "code",
   "execution_count": null,
   "id": "a4ca10a00b1f4856",
   "metadata": {},
   "outputs": [],
   "source": [
    "import pandas as pd\n",
    "import numpy as np\n",
    "from scipy.stats import poisson\n",
    "\n",
    "import chickenstats\n",
    "\n",
    "from chickenstats.chicken_nhl import Season, Scraper\n",
    "from chickenstats.chicken_nhl.helpers import norm_coords\n",
    "from chickenstats.chicken_nhl.info import NHL_COLORS, team_codes\n",
    "from chickenstats.utilities import ChickenProgress\n",
    "import chickenstats.utilities\n",
    "\n",
    "from rich.progress import track\n",
    "\n",
    "from hockey_rink import NHLRink\n",
    "import matplotlib.pyplot as plt\n",
    "import matplotlib as mpl\n",
    "from matplotlib.lines import Line2D\n",
    "import matplotlib.patches as patches\n",
    "import matplotlib.patheffects as mpe\n",
    "import matplotlib.ticker as ticker\n",
    "import seaborn as sns\n",
    "\n",
    "from dotenv import load_dotenv\n",
    "from pathlib import Path\n",
    "\n",
    "import datetime as dt\n",
    "\n",
    "import math\n",
    "\n",
    "from typing import Optional"
   ]
  },
  {
   "cell_type": "markdown",
   "id": "4641c4ac6468836c",
   "metadata": {},
   "source": [
    "### Pandas options\n",
    "\n",
    "Set different pandas options"
   ]
  },
  {
   "cell_type": "code",
   "execution_count": null,
   "id": "61874603f74e1cac",
   "metadata": {},
   "outputs": [],
   "source": [
    "pd.set_option(\"display.max_columns\", None)\n",
    "pd.set_option(\"display.max_rows\", 100)"
   ]
  },
  {
   "cell_type": "markdown",
   "id": "bf5206e3b01d199c",
   "metadata": {},
   "source": [
    "### Chickenstats matplotlib style\n",
    "\n",
    "chickenstats.utilities includes a custom style package - this activates it"
   ]
  },
  {
   "cell_type": "code",
   "execution_count": null,
   "id": "33d12fe091ea837c",
   "metadata": {},
   "outputs": [],
   "source": [
    "plt.style.use(\"chickenstats\")"
   ]
  },
  {
   "cell_type": "markdown",
   "id": "21637409-f380-4953-8126-9d80cef35c00",
   "metadata": {},
   "source": [
    "---"
   ]
  },
  {
   "cell_type": "markdown",
   "id": "7b06513f-8b9d-4a23-8101-0f9937dd01d3",
   "metadata": {},
   "source": [
    "## **Scrape data**"
   ]
  },
  {
   "cell_type": "markdown",
   "id": "f220515c-04b6-42d3-8b73-b5e5e389ebb5",
   "metadata": {},
   "source": [
    "### Schedule\n",
    "\n",
    "Scrape the schedule using the `Season` object"
   ]
  },
  {
   "cell_type": "code",
   "execution_count": null,
   "id": "dc26c568-066b-4bb6-81db-55f0f6eea1a5",
   "metadata": {},
   "outputs": [],
   "source": [
    "season = Season(2024)"
   ]
  },
  {
   "cell_type": "code",
   "execution_count": null,
   "id": "f675d559-f53a-4ad4-b669-4846b83aaa34",
   "metadata": {},
   "outputs": [],
   "source": [
    "schedule = season.schedule()"
   ]
  },
  {
   "cell_type": "markdown",
   "id": "a2dc8dae-f4e5-4360-a988-d977edfb0de1",
   "metadata": {},
   "source": [
    "### Standings and team names\n",
    "\n",
    "Scrape the standings and create team name dictionaries to use later"
   ]
  },
  {
   "cell_type": "code",
   "execution_count": null,
   "id": "d72c3522-1ddb-4aa7-b489-1063f8d59519",
   "metadata": {},
   "outputs": [],
   "source": [
    "standings = season.standings.copy(deep=True)"
   ]
  },
  {
   "cell_type": "code",
   "execution_count": null,
   "id": "fca0b899-0556-43b9-b534-1aeaddab4718",
   "metadata": {},
   "outputs": [],
   "source": [
    "team_names = standings.sort_values(by=\"team_name\").team_name.str.upper().tolist()\n",
    "team_codes = standings.sort_values(by=\"team_name\").team.str.upper().tolist()\n",
    "team_names_dict = dict(zip(team_codes, team_names))"
   ]
  },
  {
   "cell_type": "markdown",
   "id": "eebfc856-6746-4719-9ed5-9d357c23bff0",
   "metadata": {},
   "source": [
    "### Game IDs\n",
    "\n",
    "Create a list of game IDs to crape"
   ]
  },
  {
   "cell_type": "code",
   "execution_count": null,
   "id": "5ecab082-ad87-4685-b52d-08dc17c8580d",
   "metadata": {},
   "outputs": [],
   "source": [
    "conds = schedule.game_state == \"OFF\"\n",
    "\n",
    "game_ids = schedule.loc[conds].game_id.unique().tolist()"
   ]
  },
  {
   "cell_type": "code",
   "execution_count": null,
   "id": "954e417d-8cd3-4cf4-89e2-b36f357d8564",
   "metadata": {},
   "outputs": [],
   "source": [
    "todays_date = dt.datetime.today().strftime(\"%Y-%m-%d\")\n",
    "\n",
    "todays_games = schedule.loc[schedule.game_date == todays_date].reset_index(drop=True)"
   ]
  },
  {
   "cell_type": "code",
   "execution_count": null,
   "id": "4ebfb156-4373-45a1-9c20-8bda6932f8e6",
   "metadata": {},
   "outputs": [],
   "source": [
    "todays_games"
   ]
  },
  {
   "cell_type": "markdown",
   "id": "42ea7a7d-176c-4d4e-9f0d-beb38fab6a0b",
   "metadata": {},
   "source": [
    "### Play-by-play"
   ]
  },
  {
   "cell_type": "code",
   "execution_count": null,
   "id": "7f2cb910-6d7a-4cb4-ae3c-f6fe29f03871",
   "metadata": {},
   "outputs": [],
   "source": [
    "scraper = Scraper(game_ids)"
   ]
  },
  {
   "cell_type": "code",
   "execution_count": null,
   "id": "392d31ed-8f8b-4b1a-bf78-1b7d1f116082",
   "metadata": {},
   "outputs": [],
   "source": [
    "pbp = scraper.play_by_play"
   ]
  },
  {
   "cell_type": "markdown",
   "id": "5fa5da90-2dcd-45a5-96ca-1dd65bb0abf6",
   "metadata": {},
   "source": [
    "### Stats"
   ]
  },
  {
   "cell_type": "code",
   "execution_count": null,
   "id": "49341c40-c855-4be2-b36e-7d529461accc",
   "metadata": {},
   "outputs": [],
   "source": [
    "scraper.prep_stats(level=\"season\", teammates=True)\n",
    "stats = scraper.stats"
   ]
  },
  {
   "cell_type": "code",
   "execution_count": null,
   "id": "651a23eb-795a-4113-a8aa-39909583ab75",
   "metadata": {},
   "outputs": [],
   "source": [
    "scraper.prep_team_stats(level=\"game\")\n",
    "team_stats = scraper.team_stats.copy(deep=True)"
   ]
  },
  {
   "cell_type": "markdown",
   "id": "de48ffab-169e-43ed-82be-da44c2d7eabb",
   "metadata": {},
   "source": [
    "## **Helper functions**"
   ]
  },
  {
   "cell_type": "markdown",
   "id": "668468da-b00b-487d-a82a-35610cef98ef",
   "metadata": {},
   "source": [
    "### Aggregate strength states\n",
    "\n",
    "Function to create a second strength state column for aggregating to 5v5, powerplay, and shorthanded data"
   ]
  },
  {
   "cell_type": "code",
   "execution_count": null,
   "id": "0e2a8bec-7b70-4562-a197-ab306854d243",
   "metadata": {},
   "outputs": [],
   "source": [
    "def add_strength_state(team_stats: pd.DataFrame) -> pd.DataFrame:\n",
    "    \"\"\"Add a secondary strength state column to team stats data.\n",
    "\n",
    "    Parameters:\n",
    "        team_stats (pd.DataFrame):\n",
    "            Pandas dataframe of team statistics aggregated from the `chickenstats` library\n",
    "\n",
    "    \"\"\"\n",
    "    df = team_stats.copy(deep=True)\n",
    "\n",
    "    home_map = dict(zip(schedule.game_id.astype(str), schedule.home_team))\n",
    "\n",
    "    df[\"is_home\"] = df.game_id.map(home_map)\n",
    "\n",
    "    df.is_home = np.where(df.is_home == df.team, 1, 0)\n",
    "\n",
    "    pp_list = [\"5v4\", \"5v3\", \"4v3\"]\n",
    "    sh_list = [\"4v5\", \"3v5\", \"3v4\"]\n",
    "\n",
    "    conditions = [\n",
    "        df.strength_state == \"5v5\",\n",
    "        df.strength_state.isin(pp_list),\n",
    "        df.strength_state.isin(sh_list),\n",
    "    ]\n",
    "\n",
    "    values = [\"5v5\", \"powerplay\", \"shorthanded\"]\n",
    "\n",
    "    df[\"strength_state2\"] = np.select(conditions, values, default=None)\n",
    "\n",
    "    return df"
   ]
  },
  {
   "cell_type": "markdown",
   "id": "db69cf98-339a-43a4-9cca-5f1a9420e76b",
   "metadata": {},
   "source": [
    "### Prep NHL stats\n",
    "\n",
    "Prep dataframe for NHL offensive and defensive ratings by venue and strength state"
   ]
  },
  {
   "cell_type": "code",
   "execution_count": null,
   "id": "47232784-447c-46df-ba4c-238a9ed3a725",
   "metadata": {},
   "outputs": [],
   "source": [
    "def prep_nhl_stats(team_stats: pd.DataFrame) -> pd.DataFrame:\n",
    "    \"\"\"Prepare a dataframe of NHL average statistics by venue and strength state.\n",
    "\n",
    "    Used to calculate team offensive and defensive ratings.\n",
    "\n",
    "    Parameters:\n",
    "        team_stats (pd.DataFrame):\n",
    "            Pandas dataframe of team statistics aggregated from the `chickenstats` library\n",
    "\n",
    "    \"\"\"\n",
    "    df = team_stats.copy()\n",
    "\n",
    "    df = add_strength_state(team_stats=df)\n",
    "\n",
    "    group_columns = [\"season\", \"session\", \"is_home\", \"strength_state2\"]\n",
    "\n",
    "    stat_cols = {\n",
    "        x: \"sum\"\n",
    "        for x in df.columns\n",
    "        if x not in group_columns\n",
    "        and \"p60\" not in x\n",
    "        and \"percent\" not in x\n",
    "        and df[x].dtype != \"object\"\n",
    "    }\n",
    "\n",
    "    stat_cols.update({\"game_id\": \"nunique\"})\n",
    "\n",
    "    df = df.groupby(group_columns, as_index=False).agg(stat_cols)\n",
    "\n",
    "    df[\"toi_gp\"] = df.toi / df.game_id\n",
    "\n",
    "    df[\"gf_p60\"] = df.gf / df.toi * 60\n",
    "    df[\"ga_p60\"] = df.ga / df.toi * 60\n",
    "\n",
    "    df[\"xgf_p60\"] = df.xgf / df.toi * 60\n",
    "    df[\"xga_p60\"] = df.xga / df.toi * 60\n",
    "\n",
    "    return df"
   ]
  },
  {
   "cell_type": "markdown",
   "id": "de171611-fb6a-4579-9202-b242a5583bed",
   "metadata": {},
   "source": [
    "### Add NHL mean columns\n",
    "\n",
    "Function to add the NHL means by venue and strength state for given column. Nested within other functions"
   ]
  },
  {
   "cell_type": "code",
   "execution_count": null,
   "id": "7a0fe52b-5ef1-46c7-8ffa-4b905bcdfa25",
   "metadata": {},
   "outputs": [],
   "source": [
    "def add_nhl_mean(\n",
    "    columns: list, team_stats_group: pd.DataFrame, nhl_stats: pd.DataFrame\n",
    "):\n",
    "    \"\"\"Function to add the mean NHL value for a given statistics.\n",
    "\n",
    "    Nested within the `prep_team_stats` functions.\n",
    "\n",
    "    Parameters:\n",
    "        columns (list):\n",
    "            The mean values to return\n",
    "        team_stats_group (pd.DataFrame):\n",
    "            Team stats aggregated from `chickenstats` library, grouped by season, session, venue, and strength state\n",
    "            Mean values are appended to this dataframe\n",
    "        nhl_stats (pd.DataFrame):\n",
    "            The season-level NHL stats to use for the mean values, aggregated using `chickenstats` library\n",
    "\n",
    "    \"\"\"\n",
    "    team_stats_group = team_stats_group.copy(deep=True)\n",
    "    nhl_stats = nhl_stats.copy(deep=True)\n",
    "\n",
    "    for column in columns:\n",
    "        conditions = [\n",
    "            np.logical_and(\n",
    "                team_stats_group.strength_state2 == \"5v5\", team_stats_group.is_home == 1\n",
    "            ),\n",
    "            np.logical_and(\n",
    "                team_stats_group.strength_state2 == \"5v5\", team_stats_group.is_home == 0\n",
    "            ),\n",
    "            np.logical_and(\n",
    "                team_stats_group.strength_state2 == \"powerplay\",\n",
    "                team_stats_group.is_home == 1,\n",
    "            ),\n",
    "            np.logical_and(\n",
    "                team_stats_group.strength_state2 == \"powerplay\",\n",
    "                team_stats_group.is_home == 0,\n",
    "            ),\n",
    "            np.logical_and(\n",
    "                team_stats_group.strength_state2 == \"shorthanded\",\n",
    "                team_stats_group.is_home == 1,\n",
    "            ),\n",
    "            np.logical_and(\n",
    "                team_stats_group.strength_state2 == \"shorthanded\",\n",
    "                team_stats_group.is_home == 0,\n",
    "            ),\n",
    "        ]\n",
    "\n",
    "        values = [\n",
    "            nhl_stats.loc[\n",
    "                np.logical_and(\n",
    "                    nhl_stats.strength_state2 == \"5v5\", nhl_stats.is_home == 1\n",
    "                )\n",
    "            ][column],\n",
    "            nhl_stats.loc[\n",
    "                np.logical_and(\n",
    "                    nhl_stats.strength_state2 == \"5v5\", nhl_stats.is_home == 0\n",
    "                )\n",
    "            ][column],\n",
    "            nhl_stats.loc[\n",
    "                np.logical_and(\n",
    "                    nhl_stats.strength_state2 == \"powerplay\", nhl_stats.is_home == 1\n",
    "                )\n",
    "            ][column],\n",
    "            nhl_stats.loc[\n",
    "                np.logical_and(\n",
    "                    nhl_stats.strength_state2 == \"powerplay\", nhl_stats.is_home == 0\n",
    "                )\n",
    "            ][column],\n",
    "            nhl_stats.loc[\n",
    "                np.logical_and(\n",
    "                    nhl_stats.strength_state2 == \"shorthanded\", nhl_stats.is_home == 1\n",
    "                )\n",
    "            ][column],\n",
    "            nhl_stats.loc[\n",
    "                np.logical_and(\n",
    "                    nhl_stats.strength_state2 == \"shorthanded\", nhl_stats.is_home == 0\n",
    "                )\n",
    "            ][column],\n",
    "        ]\n",
    "\n",
    "        team_stats_group[f\"mean_nhl_{column}\"] = np.select(\n",
    "            conditions, values, default=np.nan\n",
    "        )\n",
    "\n",
    "    return team_stats_group"
   ]
  },
  {
   "cell_type": "markdown",
   "id": "553c45d5-31e5-4d8f-9a6b-1bd6c551244e",
   "metadata": {},
   "source": [
    "### Calculate team strength\n",
    "\n",
    "Calculate team strength as a proportion to the mean"
   ]
  },
  {
   "cell_type": "code",
   "execution_count": null,
   "id": "f4a8440e-b046-4f62-97d2-30b279f1695b",
   "metadata": {},
   "outputs": [],
   "source": [
    "def calculate_team_strength(team_stats_group: pd.DataFrame) -> pd.DataFrame:\n",
    "    \"\"\"Function to calculate a team's xG strength as a proportion of the NHL mean.\n",
    "\n",
    "    Values are segmented by venue and strength state.\n",
    "\n",
    "    Parameters:\n",
    "        team_stats_group (pd.DataFrame):\n",
    "            Team stats aggregated from `chickenstats` library, grouped by season, session, venue, and strength state\n",
    "\n",
    "    \"\"\"\n",
    "    team_stats_group = team_stats_group.copy(deep=True)\n",
    "\n",
    "    team_stats_group[\"team_off_strength\"] = (\n",
    "        team_stats_group.team_xgf_p60 / team_stats_group.mean_nhl_xgf_p60\n",
    "    )\n",
    "    team_stats_group[\"team_def_strength\"] = (\n",
    "        team_stats_group.team_xga_p60 / team_stats_group.mean_nhl_xga_p60\n",
    "    )\n",
    "\n",
    "    team_stats_group[\"toi_comp\"] = (\n",
    "        team_stats_group.toi_gp / team_stats_group.mean_nhl_toi_gp\n",
    "    )\n",
    "\n",
    "    return team_stats_group"
   ]
  },
  {
   "cell_type": "markdown",
   "id": "6c9fc964-ed49-4036-bc68-c7a82ba4fbbc",
   "metadata": {},
   "source": [
    "### Prep team stats\n",
    "\n",
    "Combine the other data and functions to prep a dataframe for team offensive and defensive ratings by venue and strength state"
   ]
  },
  {
   "cell_type": "code",
   "execution_count": null,
   "id": "893ca04f987e23be",
   "metadata": {},
   "outputs": [],
   "source": [
    "def prep_team_strength_scores(\n",
    "    team_stats: pd.DataFrame,\n",
    "    nhl_stats: pd.DataFrame,\n",
    "    schedule: pd.DataFrame,\n",
    "    predict_columns: list = [\"xgf_p60\", \"xga_p60\", \"toi_gp\"],\n",
    ") -> pd.DataFrame:\n",
    "    \"\"\"Prepare a dataframe of team statistics by venue and strength state, including offensive and defensive ratings.\n",
    "\n",
    "    Parameters:\n",
    "        team_stats (pd.DataFrame):\n",
    "            Pandas dataframe of team statistics aggregated from the `chickenstats` library\n",
    "        nhl_stats (pd.DataFrame):\n",
    "            Pandas dataframe of NHL stats aggregated from the `chickenstats` library\n",
    "        schedule (pd.DataFrame):\n",
    "            NHL schedule scraped using the `chickenstats` library\n",
    "\n",
    "    \"\"\"\n",
    "    df = team_stats.copy(deep=True)\n",
    "\n",
    "    df = add_strength_state(team_stats=df)\n",
    "\n",
    "    group_columns = [\"season\", \"session\", \"team\", \"is_home\", \"strength_state2\"]\n",
    "\n",
    "    stat_cols = {\n",
    "        x: \"sum\"\n",
    "        for x in df.columns\n",
    "        if x not in group_columns\n",
    "        and \"p60\" not in x\n",
    "        and \"percent\" not in x\n",
    "        and df[x].dtype != \"object\"\n",
    "    }\n",
    "\n",
    "    stat_cols.update({\"game_id\": \"nunique\"})\n",
    "\n",
    "    df = df.groupby(group_columns, as_index=False).agg(stat_cols)\n",
    "\n",
    "    df[\"toi_gp\"] = df.toi / df.game_id\n",
    "    df[\"team_xgf_p60\"] = df.xgf / df.toi * 60\n",
    "    df[\"team_xga_p60\"] = df.xga / df.toi * 60\n",
    "\n",
    "    df = add_nhl_mean(columns=predict_columns, team_stats_group=df, nhl_stats=nhl_stats)\n",
    "\n",
    "    df = calculate_team_strength(team_stats_group=df)\n",
    "\n",
    "    return df"
   ]
  },
  {
   "cell_type": "markdown",
   "id": "4a5fe8a3-899f-43f3-a473-47dab3fe6c69",
   "metadata": {},
   "source": [
    "## **Calculate NHL means and team strength scores**"
   ]
  },
  {
   "cell_type": "markdown",
   "id": "10560fa7-0bce-4623-a7be-fe347c025eb8",
   "metadata": {},
   "source": [
    "### NHL means\n",
    "\n",
    "Calculate mean NHL values for time-on-ice per game played, GF per 60, and xGF per 60"
   ]
  },
  {
   "cell_type": "code",
   "execution_count": null,
   "id": "76e5a3518d1a4f73",
   "metadata": {},
   "outputs": [],
   "source": [
    "nhl_stats = prep_nhl_stats(team_stats=team_stats)"
   ]
  },
  {
   "cell_type": "markdown",
   "id": "c368321d-229e-47cb-97cf-8edb7e93b113",
   "metadata": {},
   "source": [
    "### Team strength scores\n",
    "\n",
    "Calculate team strength scores by venue and strength state"
   ]
  },
  {
   "cell_type": "code",
   "execution_count": null,
   "id": "e9f517386de97315",
   "metadata": {},
   "outputs": [],
   "source": [
    "team_strength_scores = prep_team_strength_scores(\n",
    "    team_stats=team_stats, nhl_stats=nhl_stats, schedule=schedule\n",
    ")"
   ]
  },
  {
   "cell_type": "code",
   "execution_count": null,
   "id": "999267c0efdcfe71",
   "metadata": {},
   "outputs": [],
   "source": [
    "team_strength_scores"
   ]
  },
  {
   "cell_type": "markdown",
   "id": "0ab689f2-27ff-4f6a-9846-8e983b9e9dd7",
   "metadata": {},
   "source": [
    "## **Calculate predicted time-on-ice**"
   ]
  },
  {
   "cell_type": "markdown",
   "id": "980ca67b-0c73-4a7a-9bc2-7a15cd1e0bcc",
   "metadata": {},
   "source": [
    "### Home team\n",
    "\n",
    "We only need the home team's time-on-ice, because the away team will have the same"
   ]
  },
  {
   "cell_type": "code",
   "execution_count": null,
   "id": "0c1f24f0-ee6f-4508-9464-f5d61e80869b",
   "metadata": {},
   "outputs": [],
   "source": [
    "def calculate_toi(game: pd.Series, team_strength_scores: pd.DataFrame) -> pd.DataFrame:\n",
    "    \"\"\"Function to calculate the predicted time-on-ice for a given game, by strength state, for the home team.\n",
    "\n",
    "    Parameters:\n",
    "        game (pd.Series):\n",
    "            A row from today's games while iterating\n",
    "        team_strength_scores (pd.DataFrame):\n",
    "            Pandas dataframe of team strength scores to calculate the matchups\n",
    "\n",
    "    \"\"\"\n",
    "    pass"
   ]
  },
  {
   "cell_type": "code",
   "execution_count": null,
   "id": "04639d8c-509a-42d4-a250-98e7ba15a64c",
   "metadata": {},
   "outputs": [],
   "source": [
    "def prep_todays_games(\n",
    "    schedule: pd.DataFrame, team_strength_scores: pd.DataFrame, nhl_stats: pd.DataFrame\n",
    ") -> pd.DataFrame:\n",
    "    \"\"\"Docstring.\"\"\"\n",
    "    todays_date = dt.datetime.today().strftime(\"%Y-%m-%d\")\n",
    "\n",
    "    todays_games = schedule.loc[schedule.game_date == todays_date].reset_index(\n",
    "        drop=True\n",
    "    )\n",
    "\n",
    "    strength_states = [\"5v5\", \"powerplay\", \"shorthanded\"]\n",
    "    short_strengths = {\"5v5\": \"5v5\", \"powerplay\": \"pp\", \"shorthanded\": \"sh\"}\n",
    "    columns = [\"xgf_p60\", \"xga_p60\", \"toi_gp\"]\n",
    "    venues = [\"away\", \"home\"]\n",
    "\n",
    "    for strength_state in strength_states:\n",
    "        for column in columns:\n",
    "            for dummy_value, venue in enumerate(venues):\n",
    "                todays_games[\n",
    "                    f\"mean_nhl_{short_strengths[strength_state]}_{venue}_{column}\"\n",
    "                ] = nhl_stats.loc[\n",
    "                    np.logical_and(\n",
    "                        nhl_stats.strength_state2 == strength_state,\n",
    "                        nhl_stats.is_home == dummy_value,\n",
    "                    )\n",
    "                ][column].iloc[0]\n",
    "\n",
    "    todays_games[\"home_5v5_off_strength\"] = np.nan\n",
    "    todays_games[\"home_5v5_def_strength\"] = np.nan\n",
    "    todays_games[\"home_5v5_toi_comp\"] = np.nan\n",
    "    todays_games[\"home_pp_off_strength\"] = np.nan\n",
    "    todays_games[\"home_pp_toi_comp\"] = np.nan\n",
    "    todays_games[\"home_sh_def_strength\"] = np.nan\n",
    "    todays_games[\"home_sh_toi_comp\"] = np.nan\n",
    "\n",
    "    todays_games[\"away_5v5_off_strength\"] = np.nan\n",
    "    todays_games[\"away_5v5_def_strength\"] = np.nan\n",
    "    todays_games[\"away_5v5_toi_comp\"] = np.nan\n",
    "    todays_games[\"away_pp_off_strength\"] = np.nan\n",
    "    todays_games[\"away_pp_toi_comp\"] = np.nan\n",
    "    todays_games[\"away_sh_def_strength\"] = np.nan\n",
    "    todays_games[\"away_sh_toi_comp\"] = np.nan\n",
    "\n",
    "    for dummy_value, venue in enumerate(venues):\n",
    "        for team in todays_games[f\"{venue}_team\"].unique():\n",
    "            for strength_state in strength_states:\n",
    "                if strength_state in [\"5v5\", \"powerplay\"]:\n",
    "                    todays_games[\n",
    "                        f\"{venue}_{short_strengths[strength_state]}_off_strength\"\n",
    "                    ] = np.where(\n",
    "                        todays_games[f\"{venue}_team\"] == team,\n",
    "                        team_strength_scores.loc[\n",
    "                            np.logical_and.reduce(\n",
    "                                [\n",
    "                                    team_strength_scores.is_home == dummy_value,\n",
    "                                    team_strength_scores.team == team,\n",
    "                                    team_strength_scores.strength_state2\n",
    "                                    == strength_state,\n",
    "                                ]\n",
    "                            )\n",
    "                        ].team_off_strength,\n",
    "                        todays_games[\n",
    "                            f\"{venue}_{short_strengths[strength_state]}_off_strength\"\n",
    "                        ],\n",
    "                    )\n",
    "\n",
    "                if strength_state in [\"5v5\", \"shorthanded\"]:\n",
    "                    todays_games[\n",
    "                        f\"{venue}_{short_strengths[strength_state]}_def_strength\"\n",
    "                    ] = np.where(\n",
    "                        todays_games[f\"{venue}_team\"] == team,\n",
    "                        team_strength_scores.loc[\n",
    "                            np.logical_and.reduce(\n",
    "                                [\n",
    "                                    team_strength_scores.is_home == dummy_value,\n",
    "                                    team_strength_scores.team == team,\n",
    "                                    team_strength_scores.strength_state2\n",
    "                                    == strength_state,\n",
    "                                ]\n",
    "                            )\n",
    "                        ].team_def_strength,\n",
    "                        todays_games[\n",
    "                            f\"{venue}_{short_strengths[strength_state]}_def_strength\"\n",
    "                        ],\n",
    "                    )\n",
    "\n",
    "                todays_games[f\"{venue}_{short_strengths[strength_state]}_toi_comp\"] = (\n",
    "                    np.where(\n",
    "                        todays_games[f\"{venue}_team\"] == team,\n",
    "                        team_strength_scores.loc[\n",
    "                            np.logical_and.reduce(\n",
    "                                [\n",
    "                                    team_strength_scores.is_home == dummy_value,\n",
    "                                    team_strength_scores.team == team,\n",
    "                                    team_strength_scores.strength_state2\n",
    "                                    == strength_state,\n",
    "                                ]\n",
    "                            )\n",
    "                        ].toi_comp,\n",
    "                        todays_games[\n",
    "                            f\"{venue}_{short_strengths[strength_state]}_toi_comp\"\n",
    "                        ],\n",
    "                    )\n",
    "                )\n",
    "\n",
    "    todays_games[\"pred_home_toi_5v5\"] = (\n",
    "        todays_games.home_5v5_toi_comp\n",
    "        * todays_games.away_5v5_toi_comp\n",
    "        * todays_games.mean_nhl_5v5_home_toi_gp\n",
    "    )\n",
    "    todays_games[\"pred_home_toi_pp\"] = (\n",
    "        todays_games.home_pp_toi_comp\n",
    "        * todays_games.away_sh_toi_comp\n",
    "        * todays_games.mean_nhl_pp_home_toi_gp\n",
    "    )\n",
    "    todays_games[\"pred_home_toi_sh\"] = (\n",
    "        todays_games.home_sh_toi_comp\n",
    "        * todays_games.away_pp_toi_comp\n",
    "        * todays_games.mean_nhl_sh_home_toi_gp\n",
    "    )\n",
    "\n",
    "    todays_games[\"pred_home_5v5_xgf_p60\"] = (\n",
    "        todays_games.home_5v5_off_strength\n",
    "        * todays_games.away_5v5_def_strength\n",
    "        * todays_games.mean_nhl_5v5_home_xgf_p60\n",
    "    )\n",
    "    todays_games[\"pred_home_5v5_xga_p60\"] = (\n",
    "        todays_games.home_5v5_def_strength\n",
    "        * todays_games.away_5v5_off_strength\n",
    "        * todays_games.mean_nhl_5v5_home_xga_p60\n",
    "    )\n",
    "\n",
    "    todays_games[\"pred_home_pp_xgf_p60\"] = (\n",
    "        todays_games.home_pp_off_strength\n",
    "        * todays_games.away_sh_def_strength\n",
    "        * todays_games.mean_nhl_pp_home_xgf_p60\n",
    "    )\n",
    "    todays_games[\"pred_home_sh_xga_p60\"] = (\n",
    "        todays_games.home_sh_def_strength\n",
    "        * todays_games.away_pp_off_strength\n",
    "        * todays_games.mean_nhl_sh_home_xga_p60\n",
    "    )\n",
    "\n",
    "    todays_games[\"pred_away_5v5_xgf_p60\"] = (\n",
    "        todays_games.home_5v5_def_strength\n",
    "        * todays_games.away_5v5_off_strength\n",
    "        * todays_games.mean_nhl_5v5_away_xgf_p60\n",
    "    )\n",
    "    todays_games[\"pred_away_5v5_xga_p60\"] = (\n",
    "        todays_games.home_5v5_off_strength\n",
    "        * todays_games.away_5v5_def_strength\n",
    "        * todays_games.mean_nhl_5v5_away_xga_p60\n",
    "    )\n",
    "\n",
    "    todays_games[\"pred_away_pp_xgf_p60\"] = (\n",
    "        todays_games.away_pp_off_strength\n",
    "        * todays_games.home_sh_def_strength\n",
    "        * todays_games.mean_nhl_pp_away_xgf_p60\n",
    "    )\n",
    "    todays_games[\"pred_away_sh_xga_p60\"] = (\n",
    "        todays_games.away_sh_def_strength\n",
    "        * todays_games.home_pp_off_strength\n",
    "        * todays_games.mean_nhl_sh_away_xga_p60\n",
    "    )\n",
    "\n",
    "    return todays_games"
   ]
  },
  {
   "cell_type": "code",
   "execution_count": null,
   "id": "63c305d6-2457-421d-9b3e-64d26f57f84f",
   "metadata": {},
   "outputs": [],
   "source": [
    "todays_games = prep_todays_games(\n",
    "    schedule=schedule, team_strength_scores=team_strength_scores, nhl_stats=nhl_stats\n",
    ")"
   ]
  },
  {
   "cell_type": "code",
   "execution_count": null,
   "id": "166626a7-a978-4618-b420-94971e032456",
   "metadata": {},
   "outputs": [],
   "source": [
    "def simulate_game(game: pd.Series) -> dict:\n",
    "    \"\"\"Docstring.\"\"\"\n",
    "    prediction = {}\n",
    "\n",
    "    home_5v5_toi = poisson.ppf(\n",
    "        (np.random.randint(0, 100) / 100), game.pred_home_toi_5v5\n",
    "    )\n",
    "    home_pp_toi = poisson.ppf((np.random.randint(0, 100) / 100), game.pred_home_toi_pp)\n",
    "    home_sh_toi = poisson.ppf((np.random.randint(0, 100) / 100), game.pred_home_toi_sh)\n",
    "\n",
    "    total_toi = home_5v5_toi + home_pp_toi + home_sh_toi\n",
    "\n",
    "    if total_toi > 60:\n",
    "        home_5v5_toi = home_5v5_toi - ((home_5v5_toi / total_toi) * (total_toi - 60))\n",
    "        home_pp_toi = home_pp_toi - ((home_pp_toi / total_toi) * (total_toi - 60))\n",
    "        home_sh_toi = home_sh_toi - ((home_sh_toi / total_toi) * (total_toi - 60))\n",
    "\n",
    "    home_5v5_xgf_p60 = poisson.ppf(\n",
    "        (np.random.randint(0, 100) / 100), game.pred_home_5v5_xgf_p60\n",
    "    )\n",
    "    home_pp_xgf_p60 = poisson.ppf(\n",
    "        (np.random.randint(0, 100) / 100), game.pred_home_pp_xgf_p60\n",
    "    )\n",
    "\n",
    "    away_5v5_xgf_p60 = poisson.ppf(\n",
    "        (np.random.randint(0, 100) / 100), game.pred_away_5v5_xgf_p60\n",
    "    )\n",
    "    away_pp_xgf_p60 = poisson.ppf(\n",
    "        (np.random.randint(0, 100) / 100), game.pred_away_pp_xgf_p60\n",
    "    )\n",
    "\n",
    "    home_5v5_goals = home_5v5_xgf_p60 * (home_5v5_toi / 60)\n",
    "    home_pp_goals = home_pp_xgf_p60 * (home_pp_toi / 60)\n",
    "    home_total_goals = home_5v5_goals + home_pp_goals\n",
    "\n",
    "    away_5v5_goals = away_5v5_xgf_p60 * (home_5v5_toi / 60)\n",
    "    away_pp_goals = away_pp_xgf_p60 * (home_sh_toi / 60)\n",
    "    away_total_goals = away_5v5_goals + away_pp_goals\n",
    "\n",
    "    if home_total_goals > away_total_goals:\n",
    "        home_win = 1\n",
    "        away_win = 0\n",
    "\n",
    "    elif away_total_goals > home_total_goals:\n",
    "        home_win = 0\n",
    "        away_win = 1\n",
    "\n",
    "    else:\n",
    "        home_win = 0\n",
    "        away_win = 0\n",
    "\n",
    "    prediction.update(\n",
    "        {\n",
    "            \"game_id\": game.game_id,\n",
    "            \"pred_home_5v5_toi\": home_5v5_toi,\n",
    "            \"pred_home_pp_toi\": home_pp_toi,\n",
    "            \"pred_home_sh_toi\": home_sh_toi,\n",
    "            \"pred_away_5v5_toi\": home_5v5_toi,\n",
    "            \"pred_away_pp_toi\": home_sh_toi,\n",
    "            \"pred_away_sh_toi\": home_pp_toi,\n",
    "            \"pred_home_5v5_xgf_p60\": home_5v5_xgf_p60,\n",
    "            \"pred_home_pp_xgf_p60\": home_5v5_xgf_p60,\n",
    "            \"pred_home_5v5_goals\": home_5v5_goals,\n",
    "            \"pred_home_pp_goals\": home_pp_goals,\n",
    "            \"pred_home_total_goals\": home_total_goals,\n",
    "            \"pred_away_5v5_xgf_p60\": away_5v5_xgf_p60,\n",
    "            \"pred_away_pp_xgf_p60\": away_5v5_xgf_p60,\n",
    "            \"pred_away_5v5_goals\": away_5v5_goals,\n",
    "            \"pred_away_pp_goals\": away_pp_goals,\n",
    "            \"pred_away_total_goals\": away_total_goals,\n",
    "            \"home_win\": home_win,\n",
    "            \"away_win\": away_win,\n",
    "        }\n",
    "    )\n",
    "\n",
    "    return prediction"
   ]
  },
  {
   "cell_type": "code",
   "execution_count": null,
   "id": "67be639d-d5f3-4c34-8793-1a1c698925aa",
   "metadata": {},
   "outputs": [],
   "source": [
    "predictions = []\n",
    "\n",
    "total_simulations = 1_000\n",
    "\n",
    "with ChickenProgress() as progress:\n",
    "    pbar_message = f\"Simulating games for today...\"\n",
    "\n",
    "    simulation_task = progress.add_task(pbar_message, total=len(todays_games))\n",
    "\n",
    "    for idx, game in todays_games.iterrows():\n",
    "        for sim_number in range(0, total_simulations):\n",
    "            prediction = simulate_game(game=game)\n",
    "\n",
    "            predictions.append(prediction)\n",
    "\n",
    "        if game.game_id == todays_games.game_id.iloc[-1]:\n",
    "            pbar_message = f\"Finished simulating {game.game_id}\"\n",
    "\n",
    "        progress.update(\n",
    "            simulation_task, description=pbar_message, advance=1, refresh=True\n",
    "        )"
   ]
  },
  {
   "cell_type": "code",
   "execution_count": null,
   "id": "cd5f0339-cdcc-477e-9fc6-88393efe1fb3",
   "metadata": {},
   "outputs": [],
   "source": [
    "stuff = pd.DataFrame(predictions)"
   ]
  },
  {
   "cell_type": "code",
   "execution_count": null,
   "id": "871a316c-0ade-4f7d-baff-1bf2714ea758",
   "metadata": {},
   "outputs": [],
   "source": [
    "stuff"
   ]
  },
  {
   "cell_type": "code",
   "execution_count": null,
   "id": "a631718a-5baa-4165-9744-ce72ead4033b",
   "metadata": {},
   "outputs": [],
   "source": [
    "stuff[\"draw\"] = np.where(np.logical_and(stuff.home_win == 0, stuff.away_win == 0), 1, 0)"
   ]
  },
  {
   "cell_type": "code",
   "execution_count": null,
   "id": "2245053b-682c-447d-b191-105cd4ab2cc3",
   "metadata": {},
   "outputs": [],
   "source": [
    "stat_cols = {x: \"sum\" for x in stuff.columns if x != \"game_id\" and \"pred\" not in x}\n",
    "stat_cols.update({x: \"mean\" for x in stuff.columns if \"pred\" in x})\n",
    "\n",
    "stuff.groupby(\"game_id\", as_index=False).agg(stat_cols)"
   ]
  },
  {
   "cell_type": "code",
   "execution_count": null,
   "id": "febb54d1-deca-4506-9427-115e957d46c4",
   "metadata": {},
   "outputs": [],
   "source": [
    "stat_cols"
   ]
  }
 ],
 "metadata": {
  "kernelspec": {
   "display_name": "Python 3 (ipykernel)",
   "language": "python",
   "name": "python3"
  },
  "language_info": {
   "codemirror_mode": {
    "name": "ipython",
    "version": 3
   },
   "file_extension": ".py",
   "mimetype": "text/x-python",
   "name": "python",
   "nbconvert_exporter": "python",
   "pygments_lexer": "ipython3",
   "version": "3.12.6"
  }
 },
 "nbformat": 4,
 "nbformat_minor": 5
}
