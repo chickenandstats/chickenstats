{
 "cells": [
  {
   "cell_type": "code",
   "execution_count": null,
   "id": "2e737a81-6a1e-44f9-82fb-3d11bb47d148",
   "metadata": {},
   "outputs": [],
   "source": [
    "import pandas as pd\n",
    "import numpy as np\n",
    "from scipy.stats import poisson\n",
    "\n",
    "from chickenstats.chicken_nhl import Season, Scraper\n",
    "from chickenstats.utilities import ChickenProgress, ChickenSession\n",
    "\n",
    "from pathlib import Path\n",
    "\n",
    "import datetime as dt"
   ]
  },
  {
   "cell_type": "code",
   "execution_count": null,
   "id": "c5a4c0b0-3de5-4e17-8d95-a6cb4760f559",
   "metadata": {},
   "outputs": [],
   "source": [
    "pd.set_option(\"display.max_columns\", None)"
   ]
  },
  {
   "cell_type": "raw",
   "id": "cc7d2d31-77e2-4ceb-9801-3d30af02fee0",
   "metadata": {},
   "source": [
    "predictions = pd.read_csv(Path(\"./simulations/predictions.csv\"))"
   ]
  },
  {
   "cell_type": "code",
   "execution_count": null,
   "id": "61fe3515-e5ca-455a-bf85-52222220344e",
   "metadata": {},
   "outputs": [],
   "source": [
    "pred_results = pd.read_csv(Path(\"./simulations/predicted_results.csv\"))"
   ]
  },
  {
   "cell_type": "code",
   "execution_count": null,
   "id": "32d50900-d559-4cec-8ddb-99ca0073a590",
   "metadata": {},
   "outputs": [],
   "source": [
    "condition = pd.notnull(pred_results.actual_winner)\n",
    "\n",
    "pred_results.loc[condition].pred_correct.sum() / pred_results.loc[condition].shape[0]"
   ]
  },
  {
   "cell_type": "code",
   "execution_count": null,
   "id": "a2351dec-7bbb-4be9-a74d-e598ee42bc75",
   "metadata": {},
   "outputs": [],
   "source": [
    "pred_results"
   ]
  },
  {
   "cell_type": "code",
   "execution_count": null,
   "id": "f95554ce-e84e-4017-8d9d-6a7f37faa9a9",
   "metadata": {},
   "outputs": [],
   "source": [
    "game_odds_api_key = \"5bd0147534ac9970fef01c08487a7227\""
   ]
  },
  {
   "cell_type": "code",
   "execution_count": null,
   "id": "a14d9916-37d3-418a-b195-69930946d631",
   "metadata": {},
   "outputs": [],
   "source": [
    "with ChickenSession() as session:\n",
    "    api_url = \"https://api.sportsgameodds.com/v1/odds/\"\n",
    "    headers = {\"X-Api-Key\": game_odds_api_key}\n",
    "    params = {\"leagueID\": \"NHL\"}\n",
    "\n",
    "    response = session.get(url=api_url, headers=headers, params=params)"
   ]
  },
  {
   "cell_type": "code",
   "execution_count": null,
   "id": "fcbbbc5b-31fe-482c-ab80-7eb904415564",
   "metadata": {},
   "outputs": [],
   "source": [
    "odds_data = response.json().copy()"
   ]
  },
  {
   "cell_type": "code",
   "execution_count": null,
   "id": "8ce94fd6-9702-4b4f-88d9-c8ff941205f5",
   "metadata": {},
   "outputs": [],
   "source": [
    "with ChickenSession() as session:\n",
    "    api_url = \"https://api.sportsgameodds.com/v1/odds/\"\n",
    "    headers = {\"X-Api-Key\": game_odds_api_key}\n",
    "    params = {\"leagueID\": \"NHL\"}\n",
    "\n",
    "    response = session.get(url=api_url, headers=headers, params=params)"
   ]
  },
  {
   "cell_type": "code",
   "execution_count": null,
   "id": "2a328dc1-6d39-44c2-b41b-349fecbc1607",
   "metadata": {},
   "outputs": [],
   "source": [
    "team = \"NSH\"\n",
    "\n",
    "condition = np.logical_or(schedule.home_team == team, schedule.away_team == team)\n",
    "\n",
    "nsh_schedule = schedule.loc[condition].reset_index(drop=True)"
   ]
  },
  {
   "cell_type": "code",
   "execution_count": null,
   "id": "40fd9d9c-337d-49e4-ab37-9e97bd04584d",
   "metadata": {},
   "outputs": [],
   "source": [
    "nsh_predictions = predictions.loc[\n",
    "    predictions.game_id.isin(nsh_schedule.game_id)\n",
    "].reset_index(drop=True)"
   ]
  },
  {
   "cell_type": "code",
   "execution_count": null,
   "id": "76f8c397-7f43-4493-9043-6a4b59134720",
   "metadata": {},
   "outputs": [],
   "source": [
    "nsh_results = pred_results.loc[\n",
    "    pred_results.game_id.isin(nsh_schedule.game_id)\n",
    "].reset_index(drop=True)"
   ]
  },
  {
   "cell_type": "code",
   "execution_count": null,
   "id": "c3f3ae46-1222-4736-ac77-be99c9e26fe5",
   "metadata": {},
   "outputs": [],
   "source": [
    "nsh_results"
   ]
  },
  {
   "cell_type": "code",
   "execution_count": null,
   "id": "b2edf79f-2379-4b28-81df-07812bb4c421",
   "metadata": {},
   "outputs": [],
   "source": [
    "game_odds_api_key = \"5bd0147534ac9970fef01c08487a7227\""
   ]
  },
  {
   "cell_type": "code",
   "execution_count": null,
   "id": "ec76513d-e731-4317-9e50-15711588f22d",
   "metadata": {},
   "outputs": [],
   "source": [
    "next_cursor = None\n",
    "event_data = []\n",
    "\n",
    "while True:\n",
    "    with ChickenSession() as session:\n",
    "        api_url = \"https://api.sportsgameodds.com/v1/events/\"\n",
    "        params = {\n",
    "            \"leagueID\": \"NHL\",\n",
    "            #'oddsAvailable': \"true\",\n",
    "            \"limit\": 50,\n",
    "            \"cursor\": next_cursor,\n",
    "        }\n",
    "        headers = {\"X-Api-Key\": game_odds_api_key}\n",
    "\n",
    "        try:\n",
    "            response = session.get(url=api_url, params=params, headers=headers)\n",
    "\n",
    "            data = response.json()\n",
    "\n",
    "            # display(data)\n",
    "            event_data.extend(data[\"data\"])\n",
    "\n",
    "            next_cursor = data.get(\"nextCursor\")\n",
    "            if not next_cursor:\n",
    "                break\n",
    "\n",
    "        except Exception as error:\n",
    "            print(f\"Error fetching events: {error}\")\n",
    "            break"
   ]
  },
  {
   "cell_type": "code",
   "execution_count": null,
   "id": "b08906ac-adb1-4ad6-9d04-820ac455b2c7",
   "metadata": {},
   "outputs": [],
   "source": [
    "event_data[0][\"odds\"]"
   ]
  }
 ],
 "metadata": {
  "kernelspec": {
   "display_name": "Python 3 (ipykernel)",
   "language": "python",
   "name": "python3"
  },
  "language_info": {
   "codemirror_mode": {
    "name": "ipython",
    "version": 3
   },
   "file_extension": ".py",
   "mimetype": "text/x-python",
   "name": "python",
   "nbconvert_exporter": "python",
   "pygments_lexer": "ipython3",
   "version": "3.12.6"
  }
 },
 "nbformat": 4,
 "nbformat_minor": 5
}
