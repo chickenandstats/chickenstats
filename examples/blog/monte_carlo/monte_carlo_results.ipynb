{
 "cells": [
  {
   "cell_type": "code",
   "execution_count": null,
   "id": "2e737a81-6a1e-44f9-82fb-3d11bb47d148",
   "metadata": {},
   "outputs": [],
   "source": [
    "import pandas as pd\n",
    "import numpy as np\n",
    "from scipy.stats import poisson\n",
    "\n",
    "from chickenstats.chicken_nhl import Season, Scraper\n",
    "from chickenstats.utilities import ChickenProgress\n",
    "\n",
    "from pathlib import Path\n",
    "\n",
    "import datetime as dt"
   ]
  },
  {
   "cell_type": "code",
   "execution_count": null,
   "id": "c5a4c0b0-3de5-4e17-8d95-a6cb4760f559",
   "metadata": {},
   "outputs": [],
   "source": [
    "pd.set_option(\"display.max_columns\", None)"
   ]
  },
  {
   "cell_type": "code",
   "execution_count": null,
   "id": "3f3ac89a-9f05-49d4-afc2-866a25aa62c0",
   "metadata": {},
   "outputs": [],
   "source": [
    "def process_predictions(predictions: pd.DataFrame) -> pd.DataFrame:\n",
    "    \"\"\"Docstring.\"\"\"\n",
    "    predictions[\"draw\"] = np.where(predictions.home_win == predictions.away_win, 1, 0)\n",
    "\n",
    "    group_list = [\"game_id\", \"home_team\", \"away_team\"]\n",
    "\n",
    "    agg_stats_sum = [\"home_win\", \"away_win\", \"draw\"]\n",
    "    agg_stats_mean = [\n",
    "        x for x in predictions.columns if x not in group_list and x not in agg_stats_sum\n",
    "    ]\n",
    "    agg_stats = {x: \"sum\" for x in agg_stats_sum} | {x: \"mean\" for x in agg_stats_mean}\n",
    "\n",
    "    pred_results = predictions.groupby(group_list, as_index=False).agg(agg_stats)\n",
    "\n",
    "    for stat in agg_stats_sum:\n",
    "        pred_results[f\"pred_{stat}_percent\"] = pred_results[stat] / pred_results[\n",
    "            agg_stats_sum\n",
    "        ].sum(axis=1)\n",
    "\n",
    "    rename_columns = {x: f\"pred_{x}\" for x in agg_stats_sum} | {\n",
    "        x: f\"{x}_mean\" for x in agg_stats_mean\n",
    "    }\n",
    "\n",
    "    pred_results = pred_results.rename(columns=rename_columns)\n",
    "\n",
    "    pred_results[\"pred_winner\"] = np.where(\n",
    "        pred_results.pred_home_win_percent > pred_results.pred_away_win_percent,\n",
    "        pred_results.home_team,\n",
    "        pred_results.away_team,\n",
    "    )\n",
    "\n",
    "    columns = [\n",
    "        \"game_id\",\n",
    "        \"home_team\",\n",
    "        \"away_team\",\n",
    "        \"pred_winner\",\n",
    "        \"pred_home_win\",\n",
    "        \"pred_away_win\",\n",
    "        \"pred_draw\",\n",
    "        \"pred_home_win_percent\",\n",
    "        \"pred_away_win_percent\",\n",
    "        \"pred_draw_percent\",\n",
    "        \"pred_home_5v5_goals_mean\",\n",
    "        \"pred_home_pp_goals_mean\",\n",
    "        \"pred_home_total_goals_mean\",\n",
    "        \"pred_home_5v5_xgf_p60_mean\",\n",
    "        \"pred_home_pp_xgf_p60_mean\",\n",
    "        \"pred_away_5v5_goals_mean\",\n",
    "        \"pred_away_pp_goals_mean\",\n",
    "        \"pred_away_total_goals_mean\",\n",
    "        \"pred_away_5v5_xgf_p60_mean\",\n",
    "        \"pred_away_pp_xgf_p60_mean\",\n",
    "        \"pred_home_5v5_toi_mean\",\n",
    "        \"pred_home_pp_toi_mean\",\n",
    "        \"pred_home_sh_toi_mean\",\n",
    "        \"pred_away_5v5_toi_mean\",\n",
    "        \"pred_away_pp_toi_mean\",\n",
    "        \"pred_away_sh_toi_mean\",\n",
    "    ]\n",
    "\n",
    "    pred_results = pred_results[columns]\n",
    "\n",
    "    return pred_results"
   ]
  },
  {
   "cell_type": "code",
   "execution_count": null,
   "id": "43b4e831-0086-40d4-a502-8039ff961d72",
   "metadata": {},
   "outputs": [],
   "source": [
    "def process_winners(\n",
    "    predicted_results: pd.DataFrame, schedule: pd.DataFrame\n",
    ") -> pd.DataFrame:\n",
    "    \"\"\"Docstring.\"\"\"\n",
    "    condition = schedule.game_state == \"OFF\"\n",
    "    finished_games = schedule.loc[condition].reset_index(drop=True)\n",
    "\n",
    "    winners = np.where(\n",
    "        finished_games.home_score > finished_games.away_score,\n",
    "        finished_games.home_team,\n",
    "        finished_games.away_team,\n",
    "    )\n",
    "\n",
    "    winners_dict = dict(zip(finished_games.game_id, winners))\n",
    "\n",
    "    predicted_results[\"actual_winner\"] = predicted_results.game_id.map(winners_dict)\n",
    "    predicted_results[\"pred_correct\"] = np.where(\n",
    "        predicted_results.pred_winner == predicted_results.actual_winner, 1, 0\n",
    "    )\n",
    "\n",
    "    columns = [\n",
    "        \"game_id\",\n",
    "        \"home_team\",\n",
    "        \"away_team\",\n",
    "        \"pred_winner\",\n",
    "        \"actual_winner\",\n",
    "        \"pred_correct\",\n",
    "        \"pred_home_win\",\n",
    "        \"pred_away_win\",\n",
    "        \"pred_draw\",\n",
    "        \"pred_home_win_percent\",\n",
    "        \"pred_away_win_percent\",\n",
    "        \"pred_draw_percent\",\n",
    "        \"pred_home_5v5_goals_mean\",\n",
    "        \"pred_home_pp_goals_mean\",\n",
    "        \"pred_home_total_goals_mean\",\n",
    "        \"pred_home_5v5_xgf_p60_mean\",\n",
    "        \"pred_home_pp_xgf_p60_mean\",\n",
    "        \"pred_away_5v5_goals_mean\",\n",
    "        \"pred_away_pp_goals_mean\",\n",
    "        \"pred_away_total_goals_mean\",\n",
    "        \"pred_away_5v5_xgf_p60_mean\",\n",
    "        \"pred_away_pp_xgf_p60_mean\",\n",
    "        \"pred_home_5v5_toi_mean\",\n",
    "        \"pred_home_pp_toi_mean\",\n",
    "        \"pred_home_sh_toi_mean\",\n",
    "        \"pred_away_5v5_toi_mean\",\n",
    "        \"pred_away_pp_toi_mean\",\n",
    "        \"pred_away_sh_toi_mean\",\n",
    "    ]\n",
    "\n",
    "    predicted_results = predicted_results[columns]\n",
    "\n",
    "    return predicted_results"
   ]
  },
  {
   "cell_type": "code",
   "execution_count": null,
   "id": "ad0cfffc-59c0-48b8-bcc0-ae7ec1562893",
   "metadata": {},
   "outputs": [],
   "source": [
    "days = [f\"2025-01-{x}\" for x in range(18, 26)]\n",
    "\n",
    "concat_list = []\n",
    "\n",
    "filepaths = [Path(f\"./simulations/predictions_{x}.csv\") for x in days]\n",
    "\n",
    "for filepath in filepaths:\n",
    "    df = pd.read_csv(filepath)\n",
    "    concat_list.append(df)"
   ]
  },
  {
   "cell_type": "code",
   "execution_count": null,
   "id": "19f14169-e661-4fd2-8205-2238ddb38c41",
   "metadata": {},
   "outputs": [],
   "source": [
    "predictions = pd.concat(concat_list, ignore_index=True)"
   ]
  },
  {
   "cell_type": "code",
   "execution_count": null,
   "id": "e54bf0ab-c5e8-4db2-a77a-955679aa4f65",
   "metadata": {},
   "outputs": [],
   "source": [
    "season = Season(2024)"
   ]
  },
  {
   "cell_type": "code",
   "execution_count": null,
   "id": "cb8ed34a-a6ad-4f06-8bd6-d9483a005e4d",
   "metadata": {},
   "outputs": [],
   "source": [
    "schedule = season.schedule()"
   ]
  },
  {
   "cell_type": "code",
   "execution_count": null,
   "id": "51e7a4ac-6ddb-4bb2-88ef-e55c26668c8d",
   "metadata": {},
   "outputs": [],
   "source": [
    "pred_results = process_predictions(predictions=predictions)"
   ]
  },
  {
   "cell_type": "code",
   "execution_count": null,
   "id": "51572710-6e05-4594-9a17-3d695e09b85f",
   "metadata": {},
   "outputs": [],
   "source": [
    "pred_results  # .columns.tolist()"
   ]
  },
  {
   "cell_type": "code",
   "execution_count": null,
   "id": "23732777-04dd-47b0-ad26-bc46c1defc00",
   "metadata": {},
   "outputs": [],
   "source": [
    "pred_results = process_winners(predicted_results=pred_results, schedule=schedule)"
   ]
  },
  {
   "cell_type": "code",
   "execution_count": null,
   "id": "61fe3515-e5ca-455a-bf85-52222220344e",
   "metadata": {},
   "outputs": [],
   "source": [
    "pred_results.columns.tolist()"
   ]
  },
  {
   "cell_type": "code",
   "execution_count": null,
   "id": "32d50900-d559-4cec-8ddb-99ca0073a590",
   "metadata": {},
   "outputs": [],
   "source": [
    "pred_results.prediction_correct.sum() / pred_results.shape[0]"
   ]
  },
  {
   "cell_type": "code",
   "execution_count": null,
   "id": "9252e23b-b4df-4316-b31e-b050a0bcc30d",
   "metadata": {},
   "outputs": [],
   "source": [
    "predictions.to_csv(\"predictions.csv\", index=False)"
   ]
  },
  {
   "cell_type": "code",
   "execution_count": null,
   "id": "182f5ae2-278d-4cde-9f6b-3fd9e866933e",
   "metadata": {},
   "outputs": [],
   "source": [
    "predictions.head(4).dtypes"
   ]
  },
  {
   "cell_type": "code",
   "execution_count": null,
   "id": "d8263a2d-8451-41a4-be98-f639d9ec5505",
   "metadata": {},
   "outputs": [],
   "source": [
    "pred_results.to_csv(\"pred_results.csv\", index=False)"
   ]
  }
 ],
 "metadata": {
  "kernelspec": {
   "display_name": "Python 3 (ipykernel)",
   "language": "python",
   "name": "python3"
  },
  "language_info": {
   "codemirror_mode": {
    "name": "ipython",
    "version": 3
   },
   "file_extension": ".py",
   "mimetype": "text/x-python",
   "name": "python",
   "nbconvert_exporter": "python",
   "pygments_lexer": "ipython3",
   "version": "3.12.6"
  }
 },
 "nbformat": 4,
 "nbformat_minor": 5
}
