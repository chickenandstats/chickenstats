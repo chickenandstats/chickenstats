{
 "cells": [
  {
   "cell_type": "code",
   "execution_count": null,
   "id": "2e737a81-6a1e-44f9-82fb-3d11bb47d148",
   "metadata": {},
   "outputs": [],
   "source": [
    "import pandas as pd\n",
    "import numpy as np\n",
    "from scipy.stats import poisson\n",
    "\n",
    "from chickenstats.chicken_nhl import Season, Scraper\n",
    "from chickenstats.utilities import ChickenProgress\n",
    "\n",
    "from pathlib import Path\n",
    "\n",
    "import datetime as dt"
   ]
  },
  {
   "cell_type": "code",
   "execution_count": null,
   "id": "c5a4c0b0-3de5-4e17-8d95-a6cb4760f559",
   "metadata": {},
   "outputs": [],
   "source": [
    "pd.set_option(\"display.max_columns\", None)"
   ]
  },
  {
   "cell_type": "code",
   "execution_count": null,
   "id": "b81af36f-d95f-4769-ab87-110e55c6262c",
   "metadata": {},
   "outputs": [],
   "source": [
    "predictions = pd.read_csv(\"./simulations/predictions_2025-01-18.csv\")\n",
    "\n",
    "team_strength_scores = pd.read_csv(\"./simulations/team_strength_scores_2025-01-18.csv\")"
   ]
  },
  {
   "cell_type": "code",
   "execution_count": null,
   "id": "3f3ac89a-9f05-49d4-afc2-866a25aa62c0",
   "metadata": {},
   "outputs": [],
   "source": [
    "def process_predictions(\n",
    "    predictions: pd.DataFrame, schedule: pd.DataFrame\n",
    ") -> pd.DataFrame:\n",
    "    \"\"\"Docstring.\"\"\"\n",
    "    sim_games = schedule.loc[schedule.game_id.isin(predictions.game_id)].reset_index(\n",
    "        drop=True\n",
    "    )\n",
    "\n",
    "    winners = np.where(\n",
    "        sim_games.home_score > sim_games.away_score,\n",
    "        sim_games.home_team,\n",
    "        sim_games.away_team,\n",
    "    )\n",
    "    winners_dict = dict(zip(sim_games.game_id, winners))\n",
    "\n",
    "    predictions[\"draw\"] = np.where(predictions.home_win == predictions.away_win, 1, 0)\n",
    "\n",
    "    group_list = [\"game_id\", \"home_team\", \"away_team\"]\n",
    "    agg_stats_list = [\"home_win\", \"away_win\", \"draw\"]\n",
    "    agg_stats_dict = {x: \"sum\" for x in agg_stats_list}\n",
    "\n",
    "    pred_results = predictions.groupby(group_list, as_index=False).agg(agg_stats_dict)\n",
    "\n",
    "    for stat in agg_stats_list:\n",
    "        pred_results[f\"{stat}_percent\"] = pred_results[stat] / pred_results[\n",
    "            agg_stats_list\n",
    "        ].sum(axis=1)\n",
    "\n",
    "    pred_results[\"predicted_winner\"] = np.where(\n",
    "        pred_results.home_win_percent > pred_results.away_win_percent,\n",
    "        pred_results.home_team,\n",
    "        pred_results.away_team,\n",
    "    )\n",
    "    pred_results[\"winner\"] = pred_results.game_id.map(winners_dict)\n",
    "    pred_results[\"prediction_correct\"] = np.where(\n",
    "        pred_results.predicted_winner == pred_results.winner, 1, 0\n",
    "    )\n",
    "\n",
    "    return pred_results"
   ]
  },
  {
   "cell_type": "code",
   "execution_count": null,
   "id": "ad0cfffc-59c0-48b8-bcc0-ae7ec1562893",
   "metadata": {},
   "outputs": [],
   "source": [
    "days = [f\"2025-01-{x}\" for x in range(18, 21)]\n",
    "\n",
    "concat_list = []\n",
    "\n",
    "filepaths = [Path(f\"./simulations/predictions_{x}.csv\") for x in days]\n",
    "\n",
    "for filepath in filepaths:\n",
    "    df = pd.read_csv(filepath)\n",
    "    concat_list.append(df)\n",
    "\n",
    "pd.concat(concat_list)"
   ]
  },
  {
   "cell_type": "code",
   "execution_count": null,
   "id": "e54bf0ab-c5e8-4db2-a77a-955679aa4f65",
   "metadata": {},
   "outputs": [],
   "source": [
    "season = Season(2024)"
   ]
  },
  {
   "cell_type": "code",
   "execution_count": null,
   "id": "cb8ed34a-a6ad-4f06-8bd6-d9483a005e4d",
   "metadata": {},
   "outputs": [],
   "source": [
    "schedule = season.schedule()"
   ]
  },
  {
   "cell_type": "code",
   "execution_count": null,
   "id": "19f14169-e661-4fd2-8205-2238ddb38c41",
   "metadata": {},
   "outputs": [],
   "source": [
    "predictions = pd.concat(concat_list)"
   ]
  },
  {
   "cell_type": "code",
   "execution_count": null,
   "id": "23732777-04dd-47b0-ad26-bc46c1defc00",
   "metadata": {},
   "outputs": [],
   "source": [
    "pred_results = process_predictions(predictions=predictions, schedule=schedule)"
   ]
  },
  {
   "cell_type": "code",
   "execution_count": null,
   "id": "61fe3515-e5ca-455a-bf85-52222220344e",
   "metadata": {},
   "outputs": [],
   "source": [
    "pred_results"
   ]
  },
  {
   "cell_type": "code",
   "execution_count": null,
   "id": "32d50900-d559-4cec-8ddb-99ca0073a590",
   "metadata": {},
   "outputs": [],
   "source": [
    "pred_results.prediction_correct.sum() / pred_results.shape[0]"
   ]
  },
  {
   "cell_type": "code",
   "execution_count": null,
   "id": "074380f7-6afc-48a9-ac47-75aaa9bc121c",
   "metadata": {},
   "outputs": [],
   "source": [
    "pred_results"
   ]
  },
  {
   "cell_type": "code",
   "execution_count": null,
   "id": "3bcae3a9-2ab1-4896-9419-c96474dbeebb",
   "metadata": {},
   "outputs": [],
   "source": [
    "sim_games = schedule.loc[schedule.game_date == \"2025-01-18\"].reset_index(drop=True)\n",
    "\n",
    "winners = np.where(\n",
    "    sim_games.home_score > sim_games.away_score,\n",
    "    sim_games.home_team,\n",
    "    sim_games.away_team,\n",
    ")\n",
    "\n",
    "winners_dict = dict(zip(sim_games.game_id, winners))"
   ]
  }
 ],
 "metadata": {
  "kernelspec": {
   "display_name": "Python 3 (ipykernel)",
   "language": "python",
   "name": "python3"
  },
  "language_info": {
   "codemirror_mode": {
    "name": "ipython",
    "version": 3
   },
   "file_extension": ".py",
   "mimetype": "text/x-python",
   "name": "python",
   "nbconvert_exporter": "python",
   "pygments_lexer": "ipython3",
   "version": "3.12.6"
  }
 },
 "nbformat": 4,
 "nbformat_minor": 5
}
