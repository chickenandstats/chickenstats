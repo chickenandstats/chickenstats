{
 "cells": [
  {
   "cell_type": "code",
   "execution_count": null,
   "id": "3ea563a0-5b3a-4fbc-9b3b-1dedca4ce7e1",
   "metadata": {},
   "outputs": [],
   "source": [
    "import numpy as np\n",
    "import pandas as pd\n",
    "\n",
    "from chickenstats.chicken_nhl import Scraper, Season\n",
    "from chickenstats.chicken_nhl.scrape import Game"
   ]
  },
  {
   "cell_type": "code",
   "execution_count": null,
   "id": "2262deae-9231-43df-9c74-3f97ec871906",
   "metadata": {},
   "outputs": [],
   "source": [
    "pd.set_option(\"display.max_columns\", None)"
   ]
  },
  {
   "cell_type": "code",
   "execution_count": null,
   "id": "b5d86938-e40a-4903-8b19-0c33e52c2247",
   "metadata": {},
   "outputs": [],
   "source": [
    "season = Season(2024)"
   ]
  },
  {
   "cell_type": "code",
   "execution_count": null,
   "id": "3f701808-dfb0-4510-9437-2cdeebdaf3b8",
   "metadata": {},
   "outputs": [],
   "source": [
    "schedule = season.schedule(sessions=\"FO\")"
   ]
  },
  {
   "cell_type": "code",
   "execution_count": null,
   "id": "4100ae71-0fcf-4356-8731-a7cfd12c9639",
   "metadata": {},
   "outputs": [],
   "source": [
    "game_ids = schedule.loc[schedule.game_state == \"OFF\"].game_id.tolist()"
   ]
  },
  {
   "cell_type": "code",
   "execution_count": null,
   "id": "74d39a80-45bb-43fe-a1aa-7be66567a439",
   "metadata": {},
   "outputs": [],
   "source": [
    "schedule.home_logo.iloc[1]"
   ]
  },
  {
   "cell_type": "code",
   "execution_count": null,
   "id": "0d45ecc6-6a60-4662-8fb3-dd6b14cb97f1",
   "metadata": {},
   "outputs": [],
   "source": [
    "scraper = Scraper(game_ids)"
   ]
  },
  {
   "cell_type": "code",
   "execution_count": null,
   "id": "43e557e8-ae88-494a-a7f8-97a51f60f15a",
   "metadata": {},
   "outputs": [],
   "source": [
    "play_by_play = scraper.play_by_play"
   ]
  },
  {
   "cell_type": "code",
   "execution_count": null,
   "id": "10cc1799-699b-4fdd-94c5-d19141fb45ca",
   "metadata": {},
   "outputs": [],
   "source": [
    "scraper.prep_stats(teammates=False)\n",
    "stats = scraper.stats  # .copy()"
   ]
  },
  {
   "cell_type": "code",
   "execution_count": null,
   "id": "6adb0c69-faa9-42fc-95be-0583a0a8433f",
   "metadata": {},
   "outputs": [],
   "source": [
    "scraper.prep_lines(opposition=True)\n",
    "\n",
    "lines = scraper.lines"
   ]
  },
  {
   "cell_type": "code",
   "execution_count": null,
   "id": "afe01e8e-c9b0-465c-8ac1-afaf5414d0a3",
   "metadata": {},
   "outputs": [],
   "source": [
    "toi_min = 1\n",
    "condition = lines.toi >= toi_min\n",
    "\n",
    "lines.loc[condition].sort_values(by=\"xgf_adj_percent\", ascending=False).head(15)"
   ]
  }
 ],
 "metadata": {
  "kernelspec": {
   "display_name": "Python 3 (ipykernel)",
   "language": "python",
   "name": "python3"
  },
  "language_info": {
   "codemirror_mode": {
    "name": "ipython",
    "version": 3
   },
   "file_extension": ".py",
   "mimetype": "text/x-python",
   "name": "python",
   "nbconvert_exporter": "python",
   "pygments_lexer": "ipython3",
   "version": "3.12.6"
  }
 },
 "nbformat": 4,
 "nbformat_minor": 5
}
